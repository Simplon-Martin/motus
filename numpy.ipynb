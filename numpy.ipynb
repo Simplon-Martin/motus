{
 "cells": [
  {
   "cell_type": "code",
   "execution_count": 1,
   "metadata": {},
   "outputs": [
    {
     "name": "stdout",
     "output_type": "stream",
     "text": [
      "[ 1  2  3  4  5  6  7  8  9 10 11 12 13 14 15 16 18 19 20]\n"
     ]
    },
    {
     "data": {
      "text/plain": [
       "numpy.ndarray"
      ]
     },
     "execution_count": 1,
     "metadata": {},
     "output_type": "execute_result"
    }
   ],
   "source": [
    "import numpy as np\n",
    "notre_tableau = np.array([1, 2, 3, 4, 5, 6, 7, 8, 9, 10, 11, 12, 13, 14, 15, 16, 18, 19, 20])\n",
    "print(notre_tableau)\n",
    "type(notre_tableau)"
   ]
  },
  {
   "cell_type": "code",
   "execution_count": 3,
   "metadata": {},
   "outputs": [
    {
     "name": "stdout",
     "output_type": "stream",
     "text": [
      "[[1 2 3]\n",
      " [4 5 5]\n",
      " [7 8 9]]\n"
     ]
    }
   ],
   "source": [
    "mon_array_bidimenssionnel = np.array([[1, 2, 3], [4, 5, 5], [7, 8, 9]])\n",
    "print(mon_array_bidimenssionnel)"
   ]
  },
  {
   "cell_type": "code",
   "execution_count": 6,
   "metadata": {},
   "outputs": [
    {
     "name": "stdout",
     "output_type": "stream",
     "text": [
      "3\n",
      "3\n",
      "[1 4 7]\n",
      "[1 2 3]\n"
     ]
    }
   ],
   "source": [
    "print(mon_array_bidimenssionnel[0][2])\n",
    "print(mon_array_bidimenssionnel[0, 2])\n",
    "\n",
    "print(mon_array_bidimenssionnel[:,0])\n",
    "\n",
    "print(mon_array_bidimenssionnel[0,:])"
   ]
  },
  {
   "cell_type": "code",
   "execution_count": 7,
   "metadata": {},
   "outputs": [
    {
     "ename": "ValueError",
     "evalue": "invalid literal for int() with base 10: 'texte'",
     "output_type": "error",
     "traceback": [
      "\u001b[0;31m---------------------------------------------------------------------------\u001b[0m",
      "\u001b[0;31mValueError\u001b[0m                                Traceback (most recent call last)",
      "\u001b[0;32m<ipython-input-7-19705c69bb86>\u001b[0m in \u001b[0;36m<module>\u001b[0;34m\u001b[0m\n\u001b[0;32m----> 1\u001b[0;31m \u001b[0mmon_array_bidimenssionnel\u001b[0m\u001b[0;34m[\u001b[0m\u001b[0;36m0\u001b[0m\u001b[0;34m,\u001b[0m\u001b[0;36m0\u001b[0m\u001b[0;34m]\u001b[0m \u001b[0;34m=\u001b[0m \u001b[0;34m\"texte\"\u001b[0m\u001b[0;34m\u001b[0m\u001b[0;34m\u001b[0m\u001b[0m\n\u001b[0m",
      "\u001b[0;31mValueError\u001b[0m: invalid literal for int() with base 10: 'texte'"
     ]
    }
   ],
   "source": [
    "mon_array_bidimenssionnel[0,0] = \"texte\""
   ]
  },
  {
   "cell_type": "code",
   "execution_count": 10,
   "metadata": {},
   "outputs": [
    {
     "name": "stdout",
     "output_type": "stream",
     "text": [
      "2\n"
     ]
    }
   ],
   "source": [
    "mon_array_bidimenssionnel[0,0] = 2\n",
    "print(mon_array_bidimenssionnel[0,0])"
   ]
  },
  {
   "cell_type": "code",
   "execution_count": 11,
   "metadata": {},
   "outputs": [
    {
     "data": {
      "text/plain": [
       "dtype('int64')"
      ]
     },
     "execution_count": 11,
     "metadata": {},
     "output_type": "execute_result"
    }
   ],
   "source": [
    "mon_array_bidimenssionnel.dtype"
   ]
  },
  {
   "cell_type": "code",
   "execution_count": 12,
   "metadata": {},
   "outputs": [
    {
     "name": "stdout",
     "output_type": "stream",
     "text": [
      "[[1.5 2.  3. ]\n",
      " [4.  5.2 6. ]\n",
      " [7.  8.  9.2]]\n"
     ]
    },
    {
     "data": {
      "text/plain": [
       "dtype('float64')"
      ]
     },
     "execution_count": 12,
     "metadata": {},
     "output_type": "execute_result"
    }
   ],
   "source": [
    "mon_array_bidimenssionnel = np.array([[1.5, 2, 3], [4, 5.2, 6], [7, 8, 9.2]], dtype = float)\n",
    "print(mon_array_bidimenssionnel)\n",
    "mon_array_bidimenssionnel.dtype"
   ]
  },
  {
   "cell_type": "code",
   "execution_count": 14,
   "metadata": {},
   "outputs": [
    {
     "name": "stdout",
     "output_type": "stream",
     "text": [
      "[[0 0 0 0 0 0]\n",
      " [0 0 0 0 0 0]\n",
      " [0 0 0 0 0 0]\n",
      " [0 0 0 0 0 0]]\n"
     ]
    }
   ],
   "source": [
    "import numpy as np\n",
    "mon_array_zeros = np.zeros((4, 6), dtype = int)\n",
    "print(mon_array_zeros)"
   ]
  },
  {
   "cell_type": "code",
   "execution_count": 15,
   "metadata": {},
   "outputs": [
    {
     "name": "stdout",
     "output_type": "stream",
     "text": [
      "[[1 1 1 1 1 1]\n",
      " [1 1 1 1 1 1]\n",
      " [1 1 1 1 1 1]\n",
      " [1 1 1 1 1 1]]\n"
     ]
    }
   ],
   "source": [
    "mon_array_ones = np.ones((4, 6), dtype = int)\n",
    "print(mon_array_ones)"
   ]
  },
  {
   "cell_type": "code",
   "execution_count": 16,
   "metadata": {},
   "outputs": [
    {
     "name": "stdout",
     "output_type": "stream",
     "text": [
      "[[0.13256464 0.94070986]\n",
      " [0.94062217 0.2556157 ]\n",
      " [0.40044507 0.15263886]\n",
      " [0.91552731 0.88039776]]\n"
     ]
    }
   ],
   "source": [
    "mon_array_random = np.random.random((4, 2))\n",
    "print(mon_array_random)"
   ]
  },
  {
   "cell_type": "code",
   "execution_count": 24,
   "metadata": {},
   "outputs": [
    {
     "name": "stdout",
     "output_type": "stream",
     "text": [
      "[[5.1 3.5 1.4 0.2 1. ]\n",
      " [4.9 3.  1.4 0.2 1. ]\n",
      " [4.7 3.2 1.3 0.2 1. ]\n",
      " [4.6 3.1 1.5 0.2 1. ]\n",
      " [5.  3.6 1.4 0.2 1. ]\n",
      " [5.4 3.9 1.7 0.4 1. ]\n",
      " [4.6 3.4 1.4 0.3 1. ]\n",
      " [5.  3.4 1.5 0.2 1. ]\n",
      " [4.4 2.9 1.4 0.2 1. ]\n",
      " [4.9 3.1 1.5 0.1 1. ]\n",
      " [5.4 3.7 1.5 0.2 1. ]\n",
      " [4.8 3.4 1.6 0.2 1. ]\n",
      " [4.8 3.  1.4 0.1 1. ]\n",
      " [4.3 3.  1.1 0.1 1. ]\n",
      " [5.8 4.  1.2 0.2 1. ]\n",
      " [5.7 4.4 1.5 0.4 1. ]\n",
      " [5.4 3.9 1.3 0.4 1. ]\n",
      " [5.1 3.5 1.4 0.3 1. ]\n",
      " [5.7 3.8 1.7 0.3 1. ]\n",
      " [5.1 3.8 1.5 0.3 1. ]\n",
      " [5.4 3.4 1.7 0.2 1. ]\n",
      " [5.1 3.7 1.5 0.4 1. ]\n",
      " [4.6 3.6 1.  0.2 1. ]\n",
      " [5.1 3.3 1.7 0.5 1. ]\n",
      " [4.8 3.4 1.9 0.2 1. ]\n",
      " [5.  3.  1.6 0.2 1. ]\n",
      " [5.  3.4 1.6 0.4 1. ]\n",
      " [5.2 3.5 1.5 0.2 1. ]\n",
      " [5.2 3.4 1.4 0.2 1. ]\n",
      " [4.7 3.2 1.6 0.2 1. ]\n",
      " [4.8 3.1 1.6 0.2 1. ]\n",
      " [5.4 3.4 1.5 0.4 1. ]\n",
      " [5.2 4.1 1.5 0.1 1. ]\n",
      " [5.5 4.2 1.4 0.2 1. ]\n",
      " [4.9 3.1 1.5 0.2 1. ]\n",
      " [5.  3.2 1.2 0.2 1. ]\n",
      " [5.5 3.5 1.3 0.2 1. ]\n",
      " [4.9 3.6 1.4 0.1 1. ]\n",
      " [4.4 3.  1.3 0.2 1. ]\n",
      " [5.1 3.4 1.5 0.2 1. ]\n",
      " [5.  3.5 1.3 0.3 1. ]\n",
      " [4.5 2.3 1.3 0.3 1. ]\n",
      " [4.4 3.2 1.3 0.2 1. ]\n",
      " [5.  3.5 1.6 0.6 1. ]\n",
      " [5.1 3.8 1.9 0.4 1. ]\n",
      " [4.8 3.  1.4 0.3 1. ]\n",
      " [5.1 3.8 1.6 0.2 1. ]\n",
      " [4.6 3.2 1.4 0.2 1. ]\n",
      " [5.3 3.7 1.5 0.2 1. ]\n",
      " [5.  3.3 1.4 0.2 1. ]\n",
      " [7.  3.2 4.7 1.4 2. ]\n",
      " [6.4 3.2 4.5 1.5 2. ]\n",
      " [6.9 3.1 4.9 1.5 2. ]\n",
      " [5.5 2.3 4.  1.3 2. ]\n",
      " [6.5 2.8 4.6 1.5 2. ]\n",
      " [5.7 2.8 4.5 1.3 2. ]\n",
      " [6.3 3.3 4.7 1.6 2. ]\n",
      " [4.9 2.4 3.3 1.  2. ]\n",
      " [6.6 2.9 4.6 1.3 2. ]\n",
      " [5.2 2.7 3.9 1.4 2. ]\n",
      " [5.  2.  3.5 1.  2. ]\n",
      " [5.9 3.  4.2 1.5 2. ]\n",
      " [6.  2.2 4.  1.  2. ]\n",
      " [6.1 2.9 4.7 1.4 2. ]\n",
      " [5.6 2.9 3.6 1.3 2. ]\n",
      " [6.7 3.1 4.4 1.4 2. ]\n",
      " [5.6 3.  4.5 1.5 2. ]\n",
      " [5.8 2.7 4.1 1.  2. ]\n",
      " [6.2 2.2 4.5 1.5 2. ]\n",
      " [5.6 2.5 3.9 1.1 2. ]\n",
      " [5.9 3.2 4.8 1.8 2. ]\n",
      " [6.1 2.8 4.  1.3 2. ]\n",
      " [6.3 2.5 4.9 1.5 2. ]\n",
      " [6.1 2.8 4.7 1.2 2. ]\n",
      " [6.4 2.9 4.3 1.3 2. ]\n",
      " [6.6 3.  4.4 1.4 2. ]\n",
      " [6.8 2.8 4.8 1.4 2. ]\n",
      " [6.7 3.  5.  1.7 2. ]\n",
      " [6.  2.9 4.5 1.5 2. ]\n",
      " [5.7 2.6 3.5 1.  2. ]\n",
      " [5.5 2.4 3.8 1.1 2. ]\n",
      " [5.5 2.4 3.7 1.  2. ]\n",
      " [5.8 2.7 3.9 1.2 2. ]\n",
      " [6.  2.7 5.1 1.6 2. ]\n",
      " [5.4 3.  4.5 1.5 2. ]\n",
      " [6.  3.4 4.5 1.6 2. ]\n",
      " [6.7 3.1 4.7 1.5 2. ]\n",
      " [6.3 2.3 4.4 1.3 2. ]\n",
      " [5.6 3.  4.1 1.3 2. ]\n",
      " [5.5 2.5 4.  1.3 2. ]\n",
      " [5.5 2.6 4.4 1.2 2. ]\n",
      " [6.1 3.  4.6 1.4 2. ]\n",
      " [5.8 2.6 4.  1.2 2. ]\n",
      " [5.  2.3 3.3 1.  2. ]\n",
      " [5.6 2.7 4.2 1.3 2. ]\n",
      " [5.7 3.  4.2 1.2 2. ]\n",
      " [5.7 2.9 4.2 1.3 2. ]\n",
      " [6.2 2.9 4.3 1.3 2. ]\n",
      " [5.1 2.5 3.  1.1 2. ]\n",
      " [5.7 2.8 4.1 1.3 2. ]\n",
      " [6.3 3.3 6.  2.5 3. ]\n",
      " [5.8 2.7 5.1 1.9 3. ]\n",
      " [7.1 3.  5.9 2.1 3. ]\n",
      " [6.3 2.9 5.6 1.8 3. ]\n",
      " [6.5 3.  5.8 2.2 3. ]\n",
      " [7.6 3.  6.6 2.1 3. ]\n",
      " [4.9 2.5 4.5 1.7 3. ]\n",
      " [7.3 2.9 6.3 1.8 3. ]\n",
      " [6.7 2.5 5.8 1.8 3. ]\n",
      " [7.2 3.6 6.1 2.5 3. ]\n",
      " [6.5 3.2 5.1 2.  3. ]\n",
      " [6.4 2.7 5.3 1.9 3. ]\n",
      " [6.8 3.  5.5 2.1 3. ]\n",
      " [5.7 2.5 5.  2.  3. ]\n",
      " [5.8 2.8 5.1 2.4 3. ]\n",
      " [6.4 3.2 5.3 2.3 3. ]\n",
      " [6.5 3.  5.5 1.8 3. ]\n",
      " [7.7 3.8 6.7 2.2 3. ]\n",
      " [7.7 2.6 6.9 2.3 3. ]\n",
      " [6.  2.2 5.  1.5 3. ]\n",
      " [6.9 3.2 5.7 2.3 3. ]\n",
      " [5.6 2.8 4.9 2.  3. ]\n",
      " [7.7 2.8 6.7 2.  3. ]\n",
      " [6.3 2.7 4.9 1.8 3. ]\n",
      " [6.7 3.3 5.7 2.1 3. ]\n",
      " [7.2 3.2 6.  1.8 3. ]\n",
      " [6.2 2.8 4.8 1.8 3. ]\n",
      " [6.1 3.  4.9 1.8 3. ]\n",
      " [6.4 2.8 5.6 2.1 3. ]\n",
      " [7.2 3.  5.8 1.6 3. ]\n",
      " [7.4 2.8 6.1 1.9 3. ]\n",
      " [7.9 3.8 6.4 2.  3. ]\n",
      " [6.4 2.8 5.6 2.2 3. ]\n",
      " [6.3 2.8 5.1 1.5 3. ]\n",
      " [6.1 2.6 5.6 1.4 3. ]\n",
      " [7.7 3.  6.1 2.3 3. ]\n",
      " [6.3 3.4 5.6 2.4 3. ]\n",
      " [6.4 3.1 5.5 1.8 3. ]\n",
      " [6.  3.  4.8 1.8 3. ]\n",
      " [6.9 3.1 5.4 2.1 3. ]\n",
      " [6.7 3.1 5.6 2.4 3. ]\n",
      " [6.9 3.1 5.1 2.3 3. ]\n",
      " [5.8 2.7 5.1 1.9 3. ]\n",
      " [6.8 3.2 5.9 2.3 3. ]\n",
      " [6.7 3.3 5.7 2.5 3. ]\n",
      " [6.7 3.  5.2 2.3 3. ]\n",
      " [6.3 2.5 5.  1.9 3. ]\n",
      " [6.5 3.  5.2 2.  3. ]\n",
      " [6.2 3.4 5.4 2.3 3. ]\n",
      " [5.9 3.  5.1 1.8 3. ]]\n",
      "float64\n"
     ]
    },
    {
     "data": {
      "text/plain": [
       "numpy.ndarray"
      ]
     },
     "execution_count": 24,
     "metadata": {},
     "output_type": "execute_result"
    }
   ],
   "source": [
    "iris = np.genfromtxt(\"Jeux_de_données/iris.csv\", delimiter=\";\", skip_header=True, encoding='latin-1')\n",
    "print(iris)\n",
    "print(iris.dtype)\n",
    "type(iris)"
   ]
  },
  {
   "cell_type": "code",
   "execution_count": 21,
   "metadata": {},
   "outputs": [],
   "source": [
    "np.savetxt(\"Jeux_de_données/iris_2.csv\", iris, delimiter=\";\")"
   ]
  },
  {
   "cell_type": "code",
   "execution_count": 22,
   "metadata": {},
   "outputs": [
    {
     "data": {
      "text/plain": [
       "3.2"
      ]
     },
     "execution_count": 22,
     "metadata": {},
     "output_type": "execute_result"
    }
   ],
   "source": [
    "iris[2, 1]"
   ]
  },
  {
   "cell_type": "code",
   "execution_count": 25,
   "metadata": {},
   "outputs": [
    {
     "data": {
      "text/plain": [
       "4.0"
      ]
     },
     "execution_count": 25,
     "metadata": {},
     "output_type": "execute_result"
    }
   ],
   "source": [
    "iris[2, 1] = 4\n",
    "iris[2, 1]"
   ]
  },
  {
   "cell_type": "code",
   "execution_count": 26,
   "metadata": {},
   "outputs": [
    {
     "data": {
      "text/plain": [
       "3.2"
      ]
     },
     "execution_count": 26,
     "metadata": {},
     "output_type": "execute_result"
    }
   ],
   "source": [
    "iris[2, 1] = 3.2\n",
    "iris[2, 1]"
   ]
  },
  {
   "cell_type": "code",
   "execution_count": 27,
   "metadata": {},
   "outputs": [
    {
     "data": {
      "text/plain": [
       "array([5.1, 3.5, 4.9, 3. , 4.7, 3.2, 4.6, 3.1, 5. , 3.6, 5.4, 3.9, 4.6,\n",
       "       3.4, 5. , 3.4, 4.4, 2.9, 4.9, 3.1, 5.4, 3.7, 4.8, 3.4, 4.8, 3. ,\n",
       "       4.3, 3. , 5.8, 4. , 5.7, 4.4, 5.4, 3.9, 5.1, 3.5, 5.7, 3.8, 5.1,\n",
       "       3.8, 5.4, 3.4, 5.1, 3.7, 4.6, 3.6, 5.1, 3.3, 4.8, 3.4, 5. , 3. ,\n",
       "       5. , 3.4, 5.2, 3.5, 5.2, 3.4, 4.7, 3.2, 4.8, 3.1, 5.4, 3.4, 5.2,\n",
       "       4.1, 5.5, 4.2, 4.9, 3.1, 5. , 3.2, 5.5, 3.5, 4.9, 3.6, 4.4, 3. ,\n",
       "       5.1, 3.4, 5. , 3.5, 4.5, 2.3, 4.4, 3.2, 5. , 3.5, 5.1, 3.8, 4.8,\n",
       "       3. , 5.1, 3.8, 4.6, 3.2, 5.3, 3.7, 5. , 3.3, 7. , 3.2, 4.7, 6.4,\n",
       "       3.2, 4.5, 6.9, 3.1, 4.9, 5.5, 2.3, 4. , 6.5, 2.8, 4.6, 5.7, 2.8,\n",
       "       4.5, 6.3, 3.3, 4.7, 4.9, 2.4, 3.3, 6.6, 2.9, 4.6, 5.2, 2.7, 3.9,\n",
       "       5. , 3.5, 5.9, 3. , 4.2, 6. , 2.2, 4. , 6.1, 2.9, 4.7, 5.6, 2.9,\n",
       "       3.6, 6.7, 3.1, 4.4, 5.6, 3. , 4.5, 5.8, 2.7, 4.1, 6.2, 2.2, 4.5,\n",
       "       5.6, 2.5, 3.9, 5.9, 3.2, 4.8, 6.1, 2.8, 4. , 6.3, 2.5, 4.9, 6.1,\n",
       "       2.8, 4.7, 6.4, 2.9, 4.3, 6.6, 3. , 4.4, 6.8, 2.8, 4.8, 6.7, 3. ,\n",
       "       5. , 6. , 2.9, 4.5, 5.7, 2.6, 3.5, 5.5, 2.4, 3.8, 5.5, 2.4, 3.7,\n",
       "       5.8, 2.7, 3.9, 6. , 2.7, 5.1, 5.4, 3. , 4.5, 6. , 3.4, 4.5, 6.7,\n",
       "       3.1, 4.7, 6.3, 2.3, 4.4, 5.6, 3. , 4.1, 5.5, 2.5, 4. , 5.5, 2.6,\n",
       "       4.4, 6.1, 3. , 4.6, 5.8, 2.6, 4. , 5. , 2.3, 3.3, 5.6, 2.7, 4.2,\n",
       "       5.7, 3. , 4.2, 5.7, 2.9, 4.2, 6.2, 2.9, 4.3, 5.1, 2.5, 3. , 5.7,\n",
       "       2.8, 4.1, 6.3, 3.3, 6. , 2.5, 3. , 5.8, 2.7, 5.1, 3. , 7.1, 3. ,\n",
       "       5.9, 2.1, 3. , 6.3, 2.9, 5.6, 3. , 6.5, 3. , 5.8, 2.2, 3. , 7.6,\n",
       "       3. , 6.6, 2.1, 3. , 4.9, 2.5, 4.5, 3. , 7.3, 2.9, 6.3, 3. , 6.7,\n",
       "       2.5, 5.8, 3. , 7.2, 3.6, 6.1, 2.5, 3. , 6.5, 3.2, 5.1, 3. , 6.4,\n",
       "       2.7, 5.3, 3. , 6.8, 3. , 5.5, 2.1, 3. , 5.7, 2.5, 5. , 3. , 5.8,\n",
       "       2.8, 5.1, 2.4, 3. , 6.4, 3.2, 5.3, 2.3, 3. , 6.5, 3. , 5.5, 3. ,\n",
       "       7.7, 3.8, 6.7, 2.2, 3. , 7.7, 2.6, 6.9, 2.3, 3. , 6. , 2.2, 5. ,\n",
       "       3. , 6.9, 3.2, 5.7, 2.3, 3. , 5.6, 2.8, 4.9, 3. , 7.7, 2.8, 6.7,\n",
       "       3. , 6.3, 2.7, 4.9, 3. , 6.7, 3.3, 5.7, 2.1, 3. , 7.2, 3.2, 6. ,\n",
       "       3. , 6.2, 2.8, 4.8, 3. , 6.1, 3. , 4.9, 3. , 6.4, 2.8, 5.6, 2.1,\n",
       "       3. , 7.2, 3. , 5.8, 3. , 7.4, 2.8, 6.1, 3. , 7.9, 3.8, 6.4, 3. ,\n",
       "       6.4, 2.8, 5.6, 2.2, 3. , 6.3, 2.8, 5.1, 3. , 6.1, 2.6, 5.6, 3. ,\n",
       "       7.7, 3. , 6.1, 2.3, 3. , 6.3, 3.4, 5.6, 2.4, 3. , 6.4, 3.1, 5.5,\n",
       "       3. , 6. , 3. , 4.8, 3. , 6.9, 3.1, 5.4, 2.1, 3. , 6.7, 3.1, 5.6,\n",
       "       2.4, 3. , 6.9, 3.1, 5.1, 2.3, 3. , 5.8, 2.7, 5.1, 3. , 6.8, 3.2,\n",
       "       5.9, 2.3, 3. , 6.7, 3.3, 5.7, 2.5, 3. , 6.7, 3. , 5.2, 2.3, 3. ,\n",
       "       6.3, 2.5, 5. , 3. , 6.5, 3. , 5.2, 3. , 6.2, 3.4, 5.4, 2.3, 3. ,\n",
       "       5.9, 3. , 5.1, 3. ])"
      ]
     },
     "execution_count": 27,
     "metadata": {},
     "output_type": "execute_result"
    }
   ],
   "source": [
    "iris[iris > 2]"
   ]
  },
  {
   "cell_type": "code",
   "execution_count": 28,
   "metadata": {},
   "outputs": [
    {
     "data": {
      "text/plain": [
       "(472,)"
      ]
     },
     "execution_count": 28,
     "metadata": {},
     "output_type": "execute_result"
    }
   ],
   "source": [
    "iris[iris > 2].shape"
   ]
  },
  {
   "cell_type": "code",
   "execution_count": 29,
   "metadata": {},
   "outputs": [
    {
     "data": {
      "text/plain": [
       "472"
      ]
     },
     "execution_count": 29,
     "metadata": {},
     "output_type": "execute_result"
    }
   ],
   "source": [
    "iris[iris > 2].shape[0]"
   ]
  },
  {
   "cell_type": "code",
   "execution_count": 30,
   "metadata": {},
   "outputs": [
    {
     "data": {
      "text/plain": [
       "array([[ True,  True, False, False, False],\n",
       "       [ True,  True, False, False, False],\n",
       "       [ True,  True, False, False, False],\n",
       "       [ True,  True, False, False, False],\n",
       "       [ True,  True, False, False, False],\n",
       "       [ True,  True, False, False, False],\n",
       "       [ True,  True, False, False, False],\n",
       "       [ True,  True, False, False, False],\n",
       "       [ True,  True, False, False, False],\n",
       "       [ True,  True, False, False, False],\n",
       "       [ True,  True, False, False, False],\n",
       "       [ True,  True, False, False, False],\n",
       "       [ True,  True, False, False, False],\n",
       "       [ True,  True, False, False, False],\n",
       "       [ True,  True, False, False, False],\n",
       "       [ True,  True, False, False, False],\n",
       "       [ True,  True, False, False, False],\n",
       "       [ True,  True, False, False, False],\n",
       "       [ True,  True, False, False, False],\n",
       "       [ True,  True, False, False, False],\n",
       "       [ True,  True, False, False, False],\n",
       "       [ True,  True, False, False, False],\n",
       "       [ True,  True, False, False, False],\n",
       "       [ True,  True, False, False, False],\n",
       "       [ True,  True, False, False, False],\n",
       "       [ True,  True, False, False, False],\n",
       "       [ True,  True, False, False, False],\n",
       "       [ True,  True, False, False, False],\n",
       "       [ True,  True, False, False, False],\n",
       "       [ True,  True, False, False, False],\n",
       "       [ True,  True, False, False, False],\n",
       "       [ True,  True, False, False, False],\n",
       "       [ True,  True, False, False, False],\n",
       "       [ True,  True, False, False, False],\n",
       "       [ True,  True, False, False, False],\n",
       "       [ True,  True, False, False, False],\n",
       "       [ True,  True, False, False, False],\n",
       "       [ True,  True, False, False, False],\n",
       "       [ True,  True, False, False, False],\n",
       "       [ True,  True, False, False, False],\n",
       "       [ True,  True, False, False, False],\n",
       "       [ True,  True, False, False, False],\n",
       "       [ True,  True, False, False, False],\n",
       "       [ True,  True, False, False, False],\n",
       "       [ True,  True, False, False, False],\n",
       "       [ True,  True, False, False, False],\n",
       "       [ True,  True, False, False, False],\n",
       "       [ True,  True, False, False, False],\n",
       "       [ True,  True, False, False, False],\n",
       "       [ True,  True, False, False, False],\n",
       "       [ True,  True,  True, False, False],\n",
       "       [ True,  True,  True, False, False],\n",
       "       [ True,  True,  True, False, False],\n",
       "       [ True,  True,  True, False, False],\n",
       "       [ True,  True,  True, False, False],\n",
       "       [ True,  True,  True, False, False],\n",
       "       [ True,  True,  True, False, False],\n",
       "       [ True,  True,  True, False, False],\n",
       "       [ True,  True,  True, False, False],\n",
       "       [ True,  True,  True, False, False],\n",
       "       [ True, False,  True, False, False],\n",
       "       [ True,  True,  True, False, False],\n",
       "       [ True,  True,  True, False, False],\n",
       "       [ True,  True,  True, False, False],\n",
       "       [ True,  True,  True, False, False],\n",
       "       [ True,  True,  True, False, False],\n",
       "       [ True,  True,  True, False, False],\n",
       "       [ True,  True,  True, False, False],\n",
       "       [ True,  True,  True, False, False],\n",
       "       [ True,  True,  True, False, False],\n",
       "       [ True,  True,  True, False, False],\n",
       "       [ True,  True,  True, False, False],\n",
       "       [ True,  True,  True, False, False],\n",
       "       [ True,  True,  True, False, False],\n",
       "       [ True,  True,  True, False, False],\n",
       "       [ True,  True,  True, False, False],\n",
       "       [ True,  True,  True, False, False],\n",
       "       [ True,  True,  True, False, False],\n",
       "       [ True,  True,  True, False, False],\n",
       "       [ True,  True,  True, False, False],\n",
       "       [ True,  True,  True, False, False],\n",
       "       [ True,  True,  True, False, False],\n",
       "       [ True,  True,  True, False, False],\n",
       "       [ True,  True,  True, False, False],\n",
       "       [ True,  True,  True, False, False],\n",
       "       [ True,  True,  True, False, False],\n",
       "       [ True,  True,  True, False, False],\n",
       "       [ True,  True,  True, False, False],\n",
       "       [ True,  True,  True, False, False],\n",
       "       [ True,  True,  True, False, False],\n",
       "       [ True,  True,  True, False, False],\n",
       "       [ True,  True,  True, False, False],\n",
       "       [ True,  True,  True, False, False],\n",
       "       [ True,  True,  True, False, False],\n",
       "       [ True,  True,  True, False, False],\n",
       "       [ True,  True,  True, False, False],\n",
       "       [ True,  True,  True, False, False],\n",
       "       [ True,  True,  True, False, False],\n",
       "       [ True,  True,  True, False, False],\n",
       "       [ True,  True,  True, False, False],\n",
       "       [ True,  True,  True,  True,  True],\n",
       "       [ True,  True,  True, False,  True],\n",
       "       [ True,  True,  True,  True,  True],\n",
       "       [ True,  True,  True, False,  True],\n",
       "       [ True,  True,  True,  True,  True],\n",
       "       [ True,  True,  True,  True,  True],\n",
       "       [ True,  True,  True, False,  True],\n",
       "       [ True,  True,  True, False,  True],\n",
       "       [ True,  True,  True, False,  True],\n",
       "       [ True,  True,  True,  True,  True],\n",
       "       [ True,  True,  True, False,  True],\n",
       "       [ True,  True,  True, False,  True],\n",
       "       [ True,  True,  True,  True,  True],\n",
       "       [ True,  True,  True, False,  True],\n",
       "       [ True,  True,  True,  True,  True],\n",
       "       [ True,  True,  True,  True,  True],\n",
       "       [ True,  True,  True, False,  True],\n",
       "       [ True,  True,  True,  True,  True],\n",
       "       [ True,  True,  True,  True,  True],\n",
       "       [ True,  True,  True, False,  True],\n",
       "       [ True,  True,  True,  True,  True],\n",
       "       [ True,  True,  True, False,  True],\n",
       "       [ True,  True,  True, False,  True],\n",
       "       [ True,  True,  True, False,  True],\n",
       "       [ True,  True,  True,  True,  True],\n",
       "       [ True,  True,  True, False,  True],\n",
       "       [ True,  True,  True, False,  True],\n",
       "       [ True,  True,  True, False,  True],\n",
       "       [ True,  True,  True,  True,  True],\n",
       "       [ True,  True,  True, False,  True],\n",
       "       [ True,  True,  True, False,  True],\n",
       "       [ True,  True,  True, False,  True],\n",
       "       [ True,  True,  True,  True,  True],\n",
       "       [ True,  True,  True, False,  True],\n",
       "       [ True,  True,  True, False,  True],\n",
       "       [ True,  True,  True,  True,  True],\n",
       "       [ True,  True,  True,  True,  True],\n",
       "       [ True,  True,  True, False,  True],\n",
       "       [ True,  True,  True, False,  True],\n",
       "       [ True,  True,  True,  True,  True],\n",
       "       [ True,  True,  True,  True,  True],\n",
       "       [ True,  True,  True,  True,  True],\n",
       "       [ True,  True,  True, False,  True],\n",
       "       [ True,  True,  True,  True,  True],\n",
       "       [ True,  True,  True,  True,  True],\n",
       "       [ True,  True,  True,  True,  True],\n",
       "       [ True,  True,  True, False,  True],\n",
       "       [ True,  True,  True, False,  True],\n",
       "       [ True,  True,  True,  True,  True],\n",
       "       [ True,  True,  True, False,  True]])"
      ]
     },
     "execution_count": 30,
     "metadata": {},
     "output_type": "execute_result"
    }
   ],
   "source": [
    "iris > 2"
   ]
  },
  {
   "cell_type": "code",
   "execution_count": 31,
   "metadata": {},
   "outputs": [
    {
     "data": {
      "text/plain": [
       "array([[5.1, 3.5, 1.4, 0.2, 1. ],\n",
       "       [5.4, 3.9, 1.7, 0.4, 1. ],\n",
       "       [5.4, 3.7, 1.5, 0.2, 1. ],\n",
       "       [5.8, 4. , 1.2, 0.2, 1. ],\n",
       "       [5.7, 4.4, 1.5, 0.4, 1. ],\n",
       "       [5.4, 3.9, 1.3, 0.4, 1. ],\n",
       "       [5.1, 3.5, 1.4, 0.3, 1. ],\n",
       "       [5.7, 3.8, 1.7, 0.3, 1. ],\n",
       "       [5.1, 3.8, 1.5, 0.3, 1. ],\n",
       "       [5.4, 3.4, 1.7, 0.2, 1. ],\n",
       "       [5.1, 3.7, 1.5, 0.4, 1. ],\n",
       "       [5.1, 3.3, 1.7, 0.5, 1. ],\n",
       "       [5.2, 3.5, 1.5, 0.2, 1. ],\n",
       "       [5.2, 3.4, 1.4, 0.2, 1. ],\n",
       "       [5.4, 3.4, 1.5, 0.4, 1. ],\n",
       "       [5.2, 4.1, 1.5, 0.1, 1. ],\n",
       "       [5.5, 4.2, 1.4, 0.2, 1. ],\n",
       "       [5.5, 3.5, 1.3, 0.2, 1. ],\n",
       "       [5.1, 3.4, 1.5, 0.2, 1. ],\n",
       "       [5.1, 3.8, 1.9, 0.4, 1. ],\n",
       "       [5.1, 3.8, 1.6, 0.2, 1. ],\n",
       "       [5.3, 3.7, 1.5, 0.2, 1. ],\n",
       "       [7. , 3.2, 4.7, 1.4, 2. ],\n",
       "       [6.4, 3.2, 4.5, 1.5, 2. ],\n",
       "       [6.9, 3.1, 4.9, 1.5, 2. ],\n",
       "       [5.5, 2.3, 4. , 1.3, 2. ],\n",
       "       [6.5, 2.8, 4.6, 1.5, 2. ],\n",
       "       [5.7, 2.8, 4.5, 1.3, 2. ],\n",
       "       [6.3, 3.3, 4.7, 1.6, 2. ],\n",
       "       [6.6, 2.9, 4.6, 1.3, 2. ],\n",
       "       [5.2, 2.7, 3.9, 1.4, 2. ],\n",
       "       [5.9, 3. , 4.2, 1.5, 2. ],\n",
       "       [6. , 2.2, 4. , 1. , 2. ],\n",
       "       [6.1, 2.9, 4.7, 1.4, 2. ],\n",
       "       [5.6, 2.9, 3.6, 1.3, 2. ],\n",
       "       [6.7, 3.1, 4.4, 1.4, 2. ],\n",
       "       [5.6, 3. , 4.5, 1.5, 2. ],\n",
       "       [5.8, 2.7, 4.1, 1. , 2. ],\n",
       "       [6.2, 2.2, 4.5, 1.5, 2. ],\n",
       "       [5.6, 2.5, 3.9, 1.1, 2. ],\n",
       "       [5.9, 3.2, 4.8, 1.8, 2. ],\n",
       "       [6.1, 2.8, 4. , 1.3, 2. ],\n",
       "       [6.3, 2.5, 4.9, 1.5, 2. ],\n",
       "       [6.1, 2.8, 4.7, 1.2, 2. ],\n",
       "       [6.4, 2.9, 4.3, 1.3, 2. ],\n",
       "       [6.6, 3. , 4.4, 1.4, 2. ],\n",
       "       [6.8, 2.8, 4.8, 1.4, 2. ],\n",
       "       [6.7, 3. , 5. , 1.7, 2. ],\n",
       "       [6. , 2.9, 4.5, 1.5, 2. ],\n",
       "       [5.7, 2.6, 3.5, 1. , 2. ],\n",
       "       [5.5, 2.4, 3.8, 1.1, 2. ],\n",
       "       [5.5, 2.4, 3.7, 1. , 2. ],\n",
       "       [5.8, 2.7, 3.9, 1.2, 2. ],\n",
       "       [6. , 2.7, 5.1, 1.6, 2. ],\n",
       "       [5.4, 3. , 4.5, 1.5, 2. ],\n",
       "       [6. , 3.4, 4.5, 1.6, 2. ],\n",
       "       [6.7, 3.1, 4.7, 1.5, 2. ],\n",
       "       [6.3, 2.3, 4.4, 1.3, 2. ],\n",
       "       [5.6, 3. , 4.1, 1.3, 2. ],\n",
       "       [5.5, 2.5, 4. , 1.3, 2. ],\n",
       "       [5.5, 2.6, 4.4, 1.2, 2. ],\n",
       "       [6.1, 3. , 4.6, 1.4, 2. ],\n",
       "       [5.8, 2.6, 4. , 1.2, 2. ],\n",
       "       [5.6, 2.7, 4.2, 1.3, 2. ],\n",
       "       [5.7, 3. , 4.2, 1.2, 2. ],\n",
       "       [5.7, 2.9, 4.2, 1.3, 2. ],\n",
       "       [6.2, 2.9, 4.3, 1.3, 2. ],\n",
       "       [5.1, 2.5, 3. , 1.1, 2. ],\n",
       "       [5.7, 2.8, 4.1, 1.3, 2. ],\n",
       "       [6.3, 3.3, 6. , 2.5, 3. ],\n",
       "       [5.8, 2.7, 5.1, 1.9, 3. ],\n",
       "       [7.1, 3. , 5.9, 2.1, 3. ],\n",
       "       [6.3, 2.9, 5.6, 1.8, 3. ],\n",
       "       [6.5, 3. , 5.8, 2.2, 3. ],\n",
       "       [7.6, 3. , 6.6, 2.1, 3. ],\n",
       "       [7.3, 2.9, 6.3, 1.8, 3. ],\n",
       "       [6.7, 2.5, 5.8, 1.8, 3. ],\n",
       "       [7.2, 3.6, 6.1, 2.5, 3. ],\n",
       "       [6.5, 3.2, 5.1, 2. , 3. ],\n",
       "       [6.4, 2.7, 5.3, 1.9, 3. ],\n",
       "       [6.8, 3. , 5.5, 2.1, 3. ],\n",
       "       [5.7, 2.5, 5. , 2. , 3. ],\n",
       "       [5.8, 2.8, 5.1, 2.4, 3. ],\n",
       "       [6.4, 3.2, 5.3, 2.3, 3. ],\n",
       "       [6.5, 3. , 5.5, 1.8, 3. ],\n",
       "       [7.7, 3.8, 6.7, 2.2, 3. ],\n",
       "       [7.7, 2.6, 6.9, 2.3, 3. ],\n",
       "       [6. , 2.2, 5. , 1.5, 3. ],\n",
       "       [6.9, 3.2, 5.7, 2.3, 3. ],\n",
       "       [5.6, 2.8, 4.9, 2. , 3. ],\n",
       "       [7.7, 2.8, 6.7, 2. , 3. ],\n",
       "       [6.3, 2.7, 4.9, 1.8, 3. ],\n",
       "       [6.7, 3.3, 5.7, 2.1, 3. ],\n",
       "       [7.2, 3.2, 6. , 1.8, 3. ],\n",
       "       [6.2, 2.8, 4.8, 1.8, 3. ],\n",
       "       [6.1, 3. , 4.9, 1.8, 3. ],\n",
       "       [6.4, 2.8, 5.6, 2.1, 3. ],\n",
       "       [7.2, 3. , 5.8, 1.6, 3. ],\n",
       "       [7.4, 2.8, 6.1, 1.9, 3. ],\n",
       "       [7.9, 3.8, 6.4, 2. , 3. ],\n",
       "       [6.4, 2.8, 5.6, 2.2, 3. ],\n",
       "       [6.3, 2.8, 5.1, 1.5, 3. ],\n",
       "       [6.1, 2.6, 5.6, 1.4, 3. ],\n",
       "       [7.7, 3. , 6.1, 2.3, 3. ],\n",
       "       [6.3, 3.4, 5.6, 2.4, 3. ],\n",
       "       [6.4, 3.1, 5.5, 1.8, 3. ],\n",
       "       [6. , 3. , 4.8, 1.8, 3. ],\n",
       "       [6.9, 3.1, 5.4, 2.1, 3. ],\n",
       "       [6.7, 3.1, 5.6, 2.4, 3. ],\n",
       "       [6.9, 3.1, 5.1, 2.3, 3. ],\n",
       "       [5.8, 2.7, 5.1, 1.9, 3. ],\n",
       "       [6.8, 3.2, 5.9, 2.3, 3. ],\n",
       "       [6.7, 3.3, 5.7, 2.5, 3. ],\n",
       "       [6.7, 3. , 5.2, 2.3, 3. ],\n",
       "       [6.3, 2.5, 5. , 1.9, 3. ],\n",
       "       [6.5, 3. , 5.2, 2. , 3. ],\n",
       "       [6.2, 3.4, 5.4, 2.3, 3. ],\n",
       "       [5.9, 3. , 5.1, 1.8, 3. ]])"
      ]
     },
     "execution_count": 31,
     "metadata": {},
     "output_type": "execute_result"
    }
   ],
   "source": [
    "iris[iris[: , 0] > 5]"
   ]
  },
  {
   "cell_type": "code",
   "execution_count": 32,
   "metadata": {},
   "outputs": [
    {
     "data": {
      "text/plain": [
       "array([[5.1, 3.5, 1.4, 0.2, 1. ],\n",
       "       [4.7, 3.2, 1.3, 0.2, 1. ],\n",
       "       [4.6, 3.1, 1.5, 0.2, 1. ],\n",
       "       [5. , 3.6, 1.4, 0.2, 1. ],\n",
       "       [5.4, 3.9, 1.7, 0.4, 1. ],\n",
       "       [4.6, 3.4, 1.4, 0.3, 1. ],\n",
       "       [5. , 3.4, 1.5, 0.2, 1. ],\n",
       "       [4.9, 3.1, 1.5, 0.1, 1. ],\n",
       "       [5.4, 3.7, 1.5, 0.2, 1. ],\n",
       "       [4.8, 3.4, 1.6, 0.2, 1. ],\n",
       "       [5.8, 4. , 1.2, 0.2, 1. ],\n",
       "       [5.7, 4.4, 1.5, 0.4, 1. ],\n",
       "       [5.4, 3.9, 1.3, 0.4, 1. ],\n",
       "       [5.1, 3.5, 1.4, 0.3, 1. ],\n",
       "       [5.7, 3.8, 1.7, 0.3, 1. ],\n",
       "       [5.1, 3.8, 1.5, 0.3, 1. ],\n",
       "       [5.4, 3.4, 1.7, 0.2, 1. ],\n",
       "       [5.1, 3.7, 1.5, 0.4, 1. ],\n",
       "       [4.6, 3.6, 1. , 0.2, 1. ],\n",
       "       [5.1, 3.3, 1.7, 0.5, 1. ],\n",
       "       [4.8, 3.4, 1.9, 0.2, 1. ],\n",
       "       [5. , 3.4, 1.6, 0.4, 1. ],\n",
       "       [5.2, 3.5, 1.5, 0.2, 1. ],\n",
       "       [5.2, 3.4, 1.4, 0.2, 1. ],\n",
       "       [4.7, 3.2, 1.6, 0.2, 1. ],\n",
       "       [4.8, 3.1, 1.6, 0.2, 1. ],\n",
       "       [5.4, 3.4, 1.5, 0.4, 1. ],\n",
       "       [5.2, 4.1, 1.5, 0.1, 1. ],\n",
       "       [5.5, 4.2, 1.4, 0.2, 1. ],\n",
       "       [4.9, 3.1, 1.5, 0.2, 1. ],\n",
       "       [5. , 3.2, 1.2, 0.2, 1. ],\n",
       "       [5.5, 3.5, 1.3, 0.2, 1. ],\n",
       "       [4.9, 3.6, 1.4, 0.1, 1. ],\n",
       "       [5.1, 3.4, 1.5, 0.2, 1. ],\n",
       "       [5. , 3.5, 1.3, 0.3, 1. ],\n",
       "       [4.4, 3.2, 1.3, 0.2, 1. ],\n",
       "       [5. , 3.5, 1.6, 0.6, 1. ],\n",
       "       [5.1, 3.8, 1.9, 0.4, 1. ],\n",
       "       [5.1, 3.8, 1.6, 0.2, 1. ],\n",
       "       [4.6, 3.2, 1.4, 0.2, 1. ],\n",
       "       [5.3, 3.7, 1.5, 0.2, 1. ],\n",
       "       [5. , 3.3, 1.4, 0.2, 1. ],\n",
       "       [7. , 3.2, 4.7, 1.4, 2. ],\n",
       "       [6.4, 3.2, 4.5, 1.5, 2. ],\n",
       "       [6.9, 3.1, 4.9, 1.5, 2. ],\n",
       "       [6.3, 3.3, 4.7, 1.6, 2. ],\n",
       "       [6.7, 3.1, 4.4, 1.4, 2. ],\n",
       "       [5.9, 3.2, 4.8, 1.8, 2. ],\n",
       "       [6. , 3.4, 4.5, 1.6, 2. ],\n",
       "       [6.7, 3.1, 4.7, 1.5, 2. ],\n",
       "       [6.3, 3.3, 6. , 2.5, 3. ],\n",
       "       [7.2, 3.6, 6.1, 2.5, 3. ],\n",
       "       [6.5, 3.2, 5.1, 2. , 3. ],\n",
       "       [6.4, 3.2, 5.3, 2.3, 3. ],\n",
       "       [7.7, 3.8, 6.7, 2.2, 3. ],\n",
       "       [6.9, 3.2, 5.7, 2.3, 3. ],\n",
       "       [6.7, 3.3, 5.7, 2.1, 3. ],\n",
       "       [7.2, 3.2, 6. , 1.8, 3. ],\n",
       "       [7.9, 3.8, 6.4, 2. , 3. ],\n",
       "       [6.3, 3.4, 5.6, 2.4, 3. ],\n",
       "       [6.4, 3.1, 5.5, 1.8, 3. ],\n",
       "       [6.9, 3.1, 5.4, 2.1, 3. ],\n",
       "       [6.7, 3.1, 5.6, 2.4, 3. ],\n",
       "       [6.9, 3.1, 5.1, 2.3, 3. ],\n",
       "       [6.8, 3.2, 5.9, 2.3, 3. ],\n",
       "       [6.7, 3.3, 5.7, 2.5, 3. ],\n",
       "       [6.2, 3.4, 5.4, 2.3, 3. ]])"
      ]
     },
     "execution_count": 32,
     "metadata": {},
     "output_type": "execute_result"
    }
   ],
   "source": [
    "iris[iris[: , 1] > 3]"
   ]
  },
  {
   "cell_type": "code",
   "execution_count": 33,
   "metadata": {},
   "outputs": [
    {
     "data": {
      "text/plain": [
       "array([[6.3, 3.3, 6. , 2.5, 3. ],\n",
       "       [5.8, 2.7, 5.1, 1.9, 3. ],\n",
       "       [7.1, 3. , 5.9, 2.1, 3. ],\n",
       "       [6.3, 2.9, 5.6, 1.8, 3. ],\n",
       "       [6.5, 3. , 5.8, 2.2, 3. ],\n",
       "       [7.6, 3. , 6.6, 2.1, 3. ],\n",
       "       [4.9, 2.5, 4.5, 1.7, 3. ],\n",
       "       [7.3, 2.9, 6.3, 1.8, 3. ],\n",
       "       [6.7, 2.5, 5.8, 1.8, 3. ],\n",
       "       [7.2, 3.6, 6.1, 2.5, 3. ],\n",
       "       [6.5, 3.2, 5.1, 2. , 3. ],\n",
       "       [6.4, 2.7, 5.3, 1.9, 3. ],\n",
       "       [6.8, 3. , 5.5, 2.1, 3. ],\n",
       "       [5.7, 2.5, 5. , 2. , 3. ],\n",
       "       [5.8, 2.8, 5.1, 2.4, 3. ],\n",
       "       [6.4, 3.2, 5.3, 2.3, 3. ],\n",
       "       [6.5, 3. , 5.5, 1.8, 3. ],\n",
       "       [7.7, 3.8, 6.7, 2.2, 3. ],\n",
       "       [7.7, 2.6, 6.9, 2.3, 3. ],\n",
       "       [6. , 2.2, 5. , 1.5, 3. ],\n",
       "       [6.9, 3.2, 5.7, 2.3, 3. ],\n",
       "       [5.6, 2.8, 4.9, 2. , 3. ],\n",
       "       [7.7, 2.8, 6.7, 2. , 3. ],\n",
       "       [6.3, 2.7, 4.9, 1.8, 3. ],\n",
       "       [6.7, 3.3, 5.7, 2.1, 3. ],\n",
       "       [7.2, 3.2, 6. , 1.8, 3. ],\n",
       "       [6.2, 2.8, 4.8, 1.8, 3. ],\n",
       "       [6.1, 3. , 4.9, 1.8, 3. ],\n",
       "       [6.4, 2.8, 5.6, 2.1, 3. ],\n",
       "       [7.2, 3. , 5.8, 1.6, 3. ],\n",
       "       [7.4, 2.8, 6.1, 1.9, 3. ],\n",
       "       [7.9, 3.8, 6.4, 2. , 3. ],\n",
       "       [6.4, 2.8, 5.6, 2.2, 3. ],\n",
       "       [6.3, 2.8, 5.1, 1.5, 3. ],\n",
       "       [6.1, 2.6, 5.6, 1.4, 3. ],\n",
       "       [7.7, 3. , 6.1, 2.3, 3. ],\n",
       "       [6.3, 3.4, 5.6, 2.4, 3. ],\n",
       "       [6.4, 3.1, 5.5, 1.8, 3. ],\n",
       "       [6. , 3. , 4.8, 1.8, 3. ],\n",
       "       [6.9, 3.1, 5.4, 2.1, 3. ],\n",
       "       [6.7, 3.1, 5.6, 2.4, 3. ],\n",
       "       [6.9, 3.1, 5.1, 2.3, 3. ],\n",
       "       [5.8, 2.7, 5.1, 1.9, 3. ],\n",
       "       [6.8, 3.2, 5.9, 2.3, 3. ],\n",
       "       [6.7, 3.3, 5.7, 2.5, 3. ],\n",
       "       [6.7, 3. , 5.2, 2.3, 3. ],\n",
       "       [6.3, 2.5, 5. , 1.9, 3. ],\n",
       "       [6.5, 3. , 5.2, 2. , 3. ],\n",
       "       [6.2, 3.4, 5.4, 2.3, 3. ],\n",
       "       [5.9, 3. , 5.1, 1.8, 3. ]])"
      ]
     },
     "execution_count": 33,
     "metadata": {},
     "output_type": "execute_result"
    }
   ],
   "source": [
    "iris[iris[: , 4] == 3]"
   ]
  },
  {
   "cell_type": "code",
   "execution_count": 34,
   "metadata": {},
   "outputs": [
    {
     "data": {
      "text/plain": [
       "array([ True, False, False, False, False,  True, False, False, False,\n",
       "       False,  True, False, False, False,  True,  True,  True,  True,\n",
       "        True,  True,  True,  True, False,  True, False, False, False,\n",
       "        True,  True, False, False,  True,  True,  True, False, False,\n",
       "        True, False, False,  True, False, False, False, False,  True,\n",
       "       False,  True, False,  True, False,  True,  True,  True,  True,\n",
       "        True,  True,  True, False,  True,  True, False,  True,  True,\n",
       "        True,  True,  True,  True,  True,  True,  True,  True,  True,\n",
       "        True,  True,  True,  True,  True,  True,  True,  True,  True,\n",
       "        True,  True,  True,  True,  True,  True,  True,  True,  True,\n",
       "        True,  True,  True, False,  True,  True,  True,  True,  True,\n",
       "        True,  True,  True,  True,  True,  True,  True, False,  True,\n",
       "        True,  True,  True,  True,  True,  True,  True,  True,  True,\n",
       "        True,  True,  True,  True,  True,  True,  True,  True,  True,\n",
       "        True,  True,  True,  True,  True,  True,  True,  True,  True,\n",
       "        True,  True,  True,  True,  True,  True,  True,  True,  True,\n",
       "        True,  True,  True,  True,  True,  True])"
      ]
     },
     "execution_count": 34,
     "metadata": {},
     "output_type": "execute_result"
    }
   ],
   "source": [
    "iris[:, 0] > 5"
   ]
  },
  {
   "cell_type": "code",
   "execution_count": 40,
   "metadata": {},
   "outputs": [
    {
     "name": "stdout",
     "output_type": "stream",
     "text": [
      "Notre tablea :\n",
      "[ 1  2  3  4  5  6  7  8  9 10 11 12 13 14 15 16 18 19 20]\n",
      "Nouvea tableau apres fancy indexing\n",
      "[[ 5 11  6]\n",
      " [13  9 10]]\n"
     ]
    }
   ],
   "source": [
    "notre_tableau = np.array([1, 2, 3, 4, 5, 6, 7, 8, 9, 10, 11, 12, 13, 14, 15, 16, 18, 19, 20])\n",
    "print(\"Notre tableau contient :\")\n",
    "print(notre_tableau)\n",
    "print(\"Nouvea tableau apres fancy indexing\")\n",
    "indices = np.array([[4, 10, 5], [12, 8, 9]])\n",
    "print(notre_tableau[indices])\n"
   ]
  },
  {
   "cell_type": "code",
   "execution_count": 42,
   "metadata": {},
   "outputs": [
    {
     "name": "stdout",
     "output_type": "stream",
     "text": [
      "6\n"
     ]
    }
   ],
   "source": [
    "a = notre_tableau[indices]\n",
    "print(a[0, 2])"
   ]
  },
  {
   "cell_type": "code",
   "execution_count": 44,
   "metadata": {},
   "outputs": [
    {
     "data": {
      "text/plain": [
       "array([1, 2, 3])"
      ]
     },
     "execution_count": 44,
     "metadata": {},
     "output_type": "execute_result"
    }
   ],
   "source": [
    "notre_tableau[:3]"
   ]
  },
  {
   "cell_type": "code",
   "execution_count": 46,
   "metadata": {},
   "outputs": [
    {
     "data": {
      "text/plain": [
       "array([11, 12, 13, 14, 15, 16, 18, 19, 20])"
      ]
     },
     "execution_count": 46,
     "metadata": {},
     "output_type": "execute_result"
    }
   ],
   "source": [
    "notre_tableau[10:]"
   ]
  },
  {
   "cell_type": "code",
   "execution_count": 47,
   "metadata": {},
   "outputs": [
    {
     "data": {
      "text/plain": [
       "array([4, 5, 6, 7])"
      ]
     },
     "execution_count": 47,
     "metadata": {},
     "output_type": "execute_result"
    }
   ],
   "source": [
    "notre_tableau[3:7]"
   ]
  },
  {
   "cell_type": "code",
   "execution_count": 48,
   "metadata": {},
   "outputs": [
    {
     "data": {
      "text/plain": [
       "array([ 1,  3,  5,  7,  9, 11, 13, 15, 18, 20])"
      ]
     },
     "execution_count": 48,
     "metadata": {},
     "output_type": "execute_result"
    }
   ],
   "source": [
    "notre_tableau[::2]"
   ]
  },
  {
   "cell_type": "code",
   "execution_count": 49,
   "metadata": {},
   "outputs": [
    {
     "data": {
      "text/plain": [
       "array([ 1,  4,  7, 10, 13, 16, 20])"
      ]
     },
     "execution_count": 49,
     "metadata": {},
     "output_type": "execute_result"
    }
   ],
   "source": [
    "notre_tableau[::3]"
   ]
  },
  {
   "cell_type": "code",
   "execution_count": 50,
   "metadata": {},
   "outputs": [
    {
     "data": {
      "text/plain": [
       "array([4, 7])"
      ]
     },
     "execution_count": 50,
     "metadata": {},
     "output_type": "execute_result"
    }
   ],
   "source": [
    "notre_tableau[3:8:3]"
   ]
  },
  {
   "cell_type": "code",
   "execution_count": 51,
   "metadata": {},
   "outputs": [
    {
     "data": {
      "text/plain": [
       "array([[5.1, 3.5, 1.4, 0.2],\n",
       "       [4.9, 3. , 1.4, 0.2]])"
      ]
     },
     "execution_count": 51,
     "metadata": {},
     "output_type": "execute_result"
    }
   ],
   "source": [
    "iris[:2, :4]"
   ]
  },
  {
   "cell_type": "code",
   "execution_count": 52,
   "metadata": {},
   "outputs": [
    {
     "data": {
      "text/plain": [
       "array([[5.2, 2.3, 3. ],\n",
       "       [5. , 1.9, 3. ],\n",
       "       [5.2, 2. , 3. ],\n",
       "       [5.4, 2.3, 3. ],\n",
       "       [5.1, 1.8, 3. ]])"
      ]
     },
     "execution_count": 52,
     "metadata": {},
     "output_type": "execute_result"
    }
   ],
   "source": [
    "iris[145:, 2:]"
   ]
  },
  {
   "cell_type": "code",
   "execution_count": 53,
   "metadata": {},
   "outputs": [
    {
     "data": {
      "text/plain": [
       "array([5.1, 3.5, 1.4, 0.2, 1. ])"
      ]
     },
     "execution_count": 53,
     "metadata": {},
     "output_type": "execute_result"
    }
   ],
   "source": [
    "# premiere ligne de toutes les colonnes\n",
    "iris[0, :]"
   ]
  },
  {
   "cell_type": "code",
   "execution_count": 54,
   "metadata": {},
   "outputs": [
    {
     "data": {
      "text/plain": [
       "array([5.1, 4.9, 4.7, 4.6, 5. , 5.4, 4.6, 5. , 4.4, 4.9, 5.4, 4.8, 4.8,\n",
       "       4.3, 5.8, 5.7, 5.4, 5.1, 5.7, 5.1, 5.4, 5.1, 4.6, 5.1, 4.8, 5. ,\n",
       "       5. , 5.2, 5.2, 4.7, 4.8, 5.4, 5.2, 5.5, 4.9, 5. , 5.5, 4.9, 4.4,\n",
       "       5.1, 5. , 4.5, 4.4, 5. , 5.1, 4.8, 5.1, 4.6, 5.3, 5. , 7. , 6.4,\n",
       "       6.9, 5.5, 6.5, 5.7, 6.3, 4.9, 6.6, 5.2, 5. , 5.9, 6. , 6.1, 5.6,\n",
       "       6.7, 5.6, 5.8, 6.2, 5.6, 5.9, 6.1, 6.3, 6.1, 6.4, 6.6, 6.8, 6.7,\n",
       "       6. , 5.7, 5.5, 5.5, 5.8, 6. , 5.4, 6. , 6.7, 6.3, 5.6, 5.5, 5.5,\n",
       "       6.1, 5.8, 5. , 5.6, 5.7, 5.7, 6.2, 5.1, 5.7, 6.3, 5.8, 7.1, 6.3,\n",
       "       6.5, 7.6, 4.9, 7.3, 6.7, 7.2, 6.5, 6.4, 6.8, 5.7, 5.8, 6.4, 6.5,\n",
       "       7.7, 7.7, 6. , 6.9, 5.6, 7.7, 6.3, 6.7, 7.2, 6.2, 6.1, 6.4, 7.2,\n",
       "       7.4, 7.9, 6.4, 6.3, 6.1, 7.7, 6.3, 6.4, 6. , 6.9, 6.7, 6.9, 5.8,\n",
       "       6.8, 6.7, 6.7, 6.3, 6.5, 6.2, 5.9])"
      ]
     },
     "execution_count": 54,
     "metadata": {},
     "output_type": "execute_result"
    }
   ],
   "source": [
    "# \n",
    "iris[:, 0]"
   ]
  },
  {
   "cell_type": "code",
   "execution_count": 55,
   "metadata": {},
   "outputs": [
    {
     "data": {
      "text/plain": [
       "array([5.9, 3. , 5.1, 1.8, 3. ])"
      ]
     },
     "execution_count": 55,
     "metadata": {},
     "output_type": "execute_result"
    }
   ],
   "source": [
    "iris[-1, :]"
   ]
  },
  {
   "cell_type": "code",
   "execution_count": 56,
   "metadata": {},
   "outputs": [
    {
     "data": {
      "text/plain": [
       "array([1, 2, 3, 4, 5])"
      ]
     },
     "execution_count": 56,
     "metadata": {},
     "output_type": "execute_result"
    }
   ],
   "source": [
    "sous_tableau = notre_tableau[:5]\n",
    "sous_tableau"
   ]
  },
  {
   "cell_type": "code",
   "execution_count": 57,
   "metadata": {},
   "outputs": [
    {
     "data": {
      "text/plain": [
       "array([10,  2,  3,  4,  5])"
      ]
     },
     "execution_count": 57,
     "metadata": {},
     "output_type": "execute_result"
    }
   ],
   "source": [
    "sous_tableau[0] = 10\n",
    "sous_tableau"
   ]
  },
  {
   "cell_type": "code",
   "execution_count": 58,
   "metadata": {},
   "outputs": [
    {
     "data": {
      "text/plain": [
       "array([10,  2,  3,  4,  5,  6,  7,  8,  9, 10, 11, 12, 13, 14, 15, 16, 18,\n",
       "       19, 20])"
      ]
     },
     "execution_count": 58,
     "metadata": {},
     "output_type": "execute_result"
    }
   ],
   "source": [
    "notre_tableau"
   ]
  },
  {
   "cell_type": "code",
   "execution_count": 60,
   "metadata": {},
   "outputs": [
    {
     "name": "stdout",
     "output_type": "stream",
     "text": [
      "[10  2  3  4  5]\n",
      "[ 1  2  3  4  5  6  7  8  9 10 11 12 13 14 15 16 18 19 20]\n"
     ]
    }
   ],
   "source": [
    "notre_tableau = np.array([1, 2, 3, 4, 5, 6, 7, 8, 9, 10, 11, 12, 13, 14, 15, 16, 18, 19, 20])\n",
    "sous_tableau = notre_tableau[:5].copy()\n",
    "sous_tableau[0] = 10\n",
    "print(sous_tableau)\n",
    "print(notre_tableau)"
   ]
  },
  {
   "cell_type": "code",
   "execution_count": 61,
   "metadata": {},
   "outputs": [
    {
     "data": {
      "text/plain": [
       "array([[10, 11, 12],\n",
       "       [13, 14, 15],\n",
       "       [16, 17, 18]])"
      ]
     },
     "execution_count": 61,
     "metadata": {},
     "output_type": "execute_result"
    }
   ],
   "source": [
    "mon_tableau = np.array([[10, 11, 12], [13, 14, 15], [16, 17, 18]])\n",
    "mon_tableau"
   ]
  },
  {
   "cell_type": "code",
   "execution_count": 63,
   "metadata": {},
   "outputs": [
    {
     "data": {
      "text/plain": [
       "array([[20, 21, 22],\n",
       "       [23, 24, 25],\n",
       "       [26, 27, 28]])"
      ]
     },
     "execution_count": 63,
     "metadata": {},
     "output_type": "execute_result"
    }
   ],
   "source": [
    "np.add(mon_tableau, 10)"
   ]
  },
  {
   "cell_type": "code",
   "execution_count": 69,
   "metadata": {},
   "outputs": [
    {
     "name": "stdout",
     "output_type": "stream",
     "text": [
      "[[200 220 240]\n",
      " [260 280 300]\n",
      " [320 340 360]]\n",
      "[[10 11 12]\n",
      " [13 14 15]\n",
      " [16 17 18]]\n"
     ]
    }
   ],
   "source": [
    "a = np.multiply(mon_tableau, 20)\n",
    "print(a)\n",
    "print(mon_tableau)"
   ]
  },
  {
   "cell_type": "code",
   "execution_count": 66,
   "metadata": {},
   "outputs": [
    {
     "name": "stdout",
     "output_type": "stream",
     "text": [
      "[10 20 30]\n"
     ]
    },
    {
     "data": {
      "text/plain": [
       "array([[10, 11, 12],\n",
       "       [13, 14, 15],\n",
       "       [16, 17, 18]])"
      ]
     },
     "execution_count": 66,
     "metadata": {},
     "output_type": "execute_result"
    }
   ],
   "source": [
    "mon_tableau2 = np.array([10, 20, 30])\n",
    "print(mon_tableau2)\n",
    "mon_tableau"
   ]
  },
  {
   "cell_type": "code",
   "execution_count": 68,
   "metadata": {},
   "outputs": [
    {
     "data": {
      "text/plain": [
       "array([[  0,  -9, -18],\n",
       "       [  3,  -6, -15],\n",
       "       [  6,  -3, -12]])"
      ]
     },
     "execution_count": 68,
     "metadata": {},
     "output_type": "execute_result"
    }
   ],
   "source": [
    "np.subtract(mon_tableau, mon_tableau2)"
   ]
  },
  {
   "cell_type": "code",
   "execution_count": 70,
   "metadata": {},
   "outputs": [
    {
     "data": {
      "text/plain": [
       "array([[1, 2, 3],\n",
       "       [4, 5, 6],\n",
       "       [7, 8, 9]])"
      ]
     },
     "execution_count": 70,
     "metadata": {},
     "output_type": "execute_result"
    }
   ],
   "source": [
    "mon_tableau3 = np.array([[1, 2, 3], [4, 5, 6], [7, 8, 9]])\n",
    "mon_tableau3"
   ]
  },
  {
   "cell_type": "code",
   "execution_count": 71,
   "metadata": {},
   "outputs": [
    {
     "data": {
      "text/plain": [
       "array([[ 10,  22,  36],\n",
       "       [ 52,  70,  90],\n",
       "       [112, 136, 162]])"
      ]
     },
     "execution_count": 71,
     "metadata": {},
     "output_type": "execute_result"
    }
   ],
   "source": [
    "np.multiply(mon_tableau, mon_tableau3)"
   ]
  },
  {
   "cell_type": "code",
   "execution_count": 72,
   "metadata": {},
   "outputs": [
    {
     "name": "stdout",
     "output_type": "stream",
     "text": [
      "Somme sur l'ensemble des éléments\n",
      "2378.7\n",
      "Somme sur une colonne\n",
      "[876.5 458.6 563.7 179.9 300. ]\n",
      "Somme sur une ligne\n",
      "[11.2 10.5 10.4 10.4 11.2 12.4 10.7 11.1  9.9 10.6 11.8 11.  10.3  9.5\n",
      " 12.2 13.  12.  11.3 12.5 11.7 11.7 11.7 10.4 11.6 11.3 10.8 11.4 11.4\n",
      " 11.2 10.7 10.7 11.7 11.9 12.3 10.7 10.6 11.5 11.   9.9 11.2 11.1  9.4\n",
      " 10.1 11.7 12.2 10.5 11.7 10.4 11.7 10.9 18.3 17.6 18.4 15.1 17.4 16.3\n",
      " 17.9 13.6 17.4 15.2 13.5 16.6 15.2 17.1 15.4 17.6 16.6 15.6 16.4 15.1\n",
      " 17.7 16.2 17.2 16.8 16.9 17.4 17.8 18.4 16.9 14.8 14.8 14.6 15.6 17.4\n",
      " 16.4 17.5 18.  16.3 16.  15.3 15.7 17.1 15.6 13.6 15.8 16.1 16.1 16.7\n",
      " 13.7 15.9 21.1 18.5 21.1 19.6 20.5 22.3 16.6 21.3 19.8 22.4 19.8 19.3\n",
      " 20.4 18.2 19.1 20.2 19.8 23.4 22.5 17.7 21.1 18.3 22.2 18.7 20.8 21.2\n",
      " 18.6 18.8 19.9 20.6 21.2 23.1 20.  18.7 18.7 22.1 20.7 19.8 18.6 20.5\n",
      " 20.8 20.4 18.5 21.2 21.2 20.2 18.7 19.7 20.3 18.8]\n"
     ]
    }
   ],
   "source": [
    "print(\"Somme sur l'ensemble des éléments\")\n",
    "print(np.sum(iris))\n",
    "\n",
    "print(\"Somme sur une colonne\")\n",
    "print(np.sum(iris, axis = 0))\n",
    "\n",
    "print(\"Somme sur une ligne\")\n",
    "print(np.sum(iris, axis = 1))"
   ]
  },
  {
   "cell_type": "code",
   "execution_count": 74,
   "metadata": {},
   "outputs": [
    {
     "name": "stdout",
     "output_type": "stream",
     "text": [
      "[5.84333333 3.05733333 3.758      1.19933333 2.        ]\n",
      "[0.82530129 0.43441097 1.75940407 0.75969263 0.81649658]\n"
     ]
    }
   ],
   "source": [
    "print(np.mean(iris, axis = 0))\n",
    "print(np.std(iris, axis = 0))"
   ]
  },
  {
   "cell_type": "code",
   "execution_count": 75,
   "metadata": {},
   "outputs": [
    {
     "name": "stdout",
     "output_type": "stream",
     "text": [
      "[7.9 4.4 6.9 2.5 3. ]\n"
     ]
    }
   ],
   "source": [
    "print(np.max(iris, axis = 0))"
   ]
  },
  {
   "cell_type": "code",
   "execution_count": 81,
   "metadata": {},
   "outputs": [
    {
     "name": "stdout",
     "output_type": "stream",
     "text": [
      "[6.588 2.974 5.552 2.026 3.   ]\n",
      "[5.936 2.77  4.26  1.326 2.   ]\n",
      "[5.006 3.428 1.462 0.246 1.   ]\n"
     ]
    }
   ],
   "source": [
    "iris3 = iris[iris[:,4] == 3]\n",
    "iris2 = iris[iris[:,4] == 2]\n",
    "iris1 = iris[iris[:,4] == 1]\n",
    "print(np.mean(iris3, axis=0))\n",
    "print(np.mean(iris2, axis=0))\n",
    "print(np.mean(iris1, axis=0))"
   ]
  },
  {
   "cell_type": "code",
   "execution_count": 82,
   "metadata": {},
   "outputs": [
    {
     "name": "stdout",
     "output_type": "stream",
     "text": [
      "attribut size\n",
      "750\n",
      "Attribut shape\n",
      "(150, 5)\n",
      "Attribut ndim\n",
      "2\n"
     ]
    }
   ],
   "source": [
    "print(\"attribut size\")\n",
    "print(iris.size)\n",
    "print(\"Attribut shape\")\n",
    "print(iris.shape)\n",
    "print(\"Attribut ndim\")\n",
    "print(iris.ndim)"
   ]
  },
  {
   "cell_type": "code",
   "execution_count": 83,
   "metadata": {},
   "outputs": [
    {
     "data": {
      "text/plain": [
       "array([[5.1, 4.9, 4.7, 4.6, 5. , 5.4, 4.6, 5. , 4.4, 4.9, 5.4, 4.8, 4.8,\n",
       "        4.3, 5.8, 5.7, 5.4, 5.1, 5.7, 5.1, 5.4, 5.1, 4.6, 5.1, 4.8, 5. ,\n",
       "        5. , 5.2, 5.2, 4.7, 4.8, 5.4, 5.2, 5.5, 4.9, 5. , 5.5, 4.9, 4.4,\n",
       "        5.1, 5. , 4.5, 4.4, 5. , 5.1, 4.8, 5.1, 4.6, 5.3, 5. , 7. , 6.4,\n",
       "        6.9, 5.5, 6.5, 5.7, 6.3, 4.9, 6.6, 5.2, 5. , 5.9, 6. , 6.1, 5.6,\n",
       "        6.7, 5.6, 5.8, 6.2, 5.6, 5.9, 6.1, 6.3, 6.1, 6.4, 6.6, 6.8, 6.7,\n",
       "        6. , 5.7, 5.5, 5.5, 5.8, 6. , 5.4, 6. , 6.7, 6.3, 5.6, 5.5, 5.5,\n",
       "        6.1, 5.8, 5. , 5.6, 5.7, 5.7, 6.2, 5.1, 5.7, 6.3, 5.8, 7.1, 6.3,\n",
       "        6.5, 7.6, 4.9, 7.3, 6.7, 7.2, 6.5, 6.4, 6.8, 5.7, 5.8, 6.4, 6.5,\n",
       "        7.7, 7.7, 6. , 6.9, 5.6, 7.7, 6.3, 6.7, 7.2, 6.2, 6.1, 6.4, 7.2,\n",
       "        7.4, 7.9, 6.4, 6.3, 6.1, 7.7, 6.3, 6.4, 6. , 6.9, 6.7, 6.9, 5.8,\n",
       "        6.8, 6.7, 6.7, 6.3, 6.5, 6.2, 5.9],\n",
       "       [3.5, 3. , 3.2, 3.1, 3.6, 3.9, 3.4, 3.4, 2.9, 3.1, 3.7, 3.4, 3. ,\n",
       "        3. , 4. , 4.4, 3.9, 3.5, 3.8, 3.8, 3.4, 3.7, 3.6, 3.3, 3.4, 3. ,\n",
       "        3.4, 3.5, 3.4, 3.2, 3.1, 3.4, 4.1, 4.2, 3.1, 3.2, 3.5, 3.6, 3. ,\n",
       "        3.4, 3.5, 2.3, 3.2, 3.5, 3.8, 3. , 3.8, 3.2, 3.7, 3.3, 3.2, 3.2,\n",
       "        3.1, 2.3, 2.8, 2.8, 3.3, 2.4, 2.9, 2.7, 2. , 3. , 2.2, 2.9, 2.9,\n",
       "        3.1, 3. , 2.7, 2.2, 2.5, 3.2, 2.8, 2.5, 2.8, 2.9, 3. , 2.8, 3. ,\n",
       "        2.9, 2.6, 2.4, 2.4, 2.7, 2.7, 3. , 3.4, 3.1, 2.3, 3. , 2.5, 2.6,\n",
       "        3. , 2.6, 2.3, 2.7, 3. , 2.9, 2.9, 2.5, 2.8, 3.3, 2.7, 3. , 2.9,\n",
       "        3. , 3. , 2.5, 2.9, 2.5, 3.6, 3.2, 2.7, 3. , 2.5, 2.8, 3.2, 3. ,\n",
       "        3.8, 2.6, 2.2, 3.2, 2.8, 2.8, 2.7, 3.3, 3.2, 2.8, 3. , 2.8, 3. ,\n",
       "        2.8, 3.8, 2.8, 2.8, 2.6, 3. , 3.4, 3.1, 3. , 3.1, 3.1, 3.1, 2.7,\n",
       "        3.2, 3.3, 3. , 2.5, 3. , 3.4, 3. ],\n",
       "       [1.4, 1.4, 1.3, 1.5, 1.4, 1.7, 1.4, 1.5, 1.4, 1.5, 1.5, 1.6, 1.4,\n",
       "        1.1, 1.2, 1.5, 1.3, 1.4, 1.7, 1.5, 1.7, 1.5, 1. , 1.7, 1.9, 1.6,\n",
       "        1.6, 1.5, 1.4, 1.6, 1.6, 1.5, 1.5, 1.4, 1.5, 1.2, 1.3, 1.4, 1.3,\n",
       "        1.5, 1.3, 1.3, 1.3, 1.6, 1.9, 1.4, 1.6, 1.4, 1.5, 1.4, 4.7, 4.5,\n",
       "        4.9, 4. , 4.6, 4.5, 4.7, 3.3, 4.6, 3.9, 3.5, 4.2, 4. , 4.7, 3.6,\n",
       "        4.4, 4.5, 4.1, 4.5, 3.9, 4.8, 4. , 4.9, 4.7, 4.3, 4.4, 4.8, 5. ,\n",
       "        4.5, 3.5, 3.8, 3.7, 3.9, 5.1, 4.5, 4.5, 4.7, 4.4, 4.1, 4. , 4.4,\n",
       "        4.6, 4. , 3.3, 4.2, 4.2, 4.2, 4.3, 3. , 4.1, 6. , 5.1, 5.9, 5.6,\n",
       "        5.8, 6.6, 4.5, 6.3, 5.8, 6.1, 5.1, 5.3, 5.5, 5. , 5.1, 5.3, 5.5,\n",
       "        6.7, 6.9, 5. , 5.7, 4.9, 6.7, 4.9, 5.7, 6. , 4.8, 4.9, 5.6, 5.8,\n",
       "        6.1, 6.4, 5.6, 5.1, 5.6, 6.1, 5.6, 5.5, 4.8, 5.4, 5.6, 5.1, 5.1,\n",
       "        5.9, 5.7, 5.2, 5. , 5.2, 5.4, 5.1],\n",
       "       [0.2, 0.2, 0.2, 0.2, 0.2, 0.4, 0.3, 0.2, 0.2, 0.1, 0.2, 0.2, 0.1,\n",
       "        0.1, 0.2, 0.4, 0.4, 0.3, 0.3, 0.3, 0.2, 0.4, 0.2, 0.5, 0.2, 0.2,\n",
       "        0.4, 0.2, 0.2, 0.2, 0.2, 0.4, 0.1, 0.2, 0.2, 0.2, 0.2, 0.1, 0.2,\n",
       "        0.2, 0.3, 0.3, 0.2, 0.6, 0.4, 0.3, 0.2, 0.2, 0.2, 0.2, 1.4, 1.5,\n",
       "        1.5, 1.3, 1.5, 1.3, 1.6, 1. , 1.3, 1.4, 1. , 1.5, 1. , 1.4, 1.3,\n",
       "        1.4, 1.5, 1. , 1.5, 1.1, 1.8, 1.3, 1.5, 1.2, 1.3, 1.4, 1.4, 1.7,\n",
       "        1.5, 1. , 1.1, 1. , 1.2, 1.6, 1.5, 1.6, 1.5, 1.3, 1.3, 1.3, 1.2,\n",
       "        1.4, 1.2, 1. , 1.3, 1.2, 1.3, 1.3, 1.1, 1.3, 2.5, 1.9, 2.1, 1.8,\n",
       "        2.2, 2.1, 1.7, 1.8, 1.8, 2.5, 2. , 1.9, 2.1, 2. , 2.4, 2.3, 1.8,\n",
       "        2.2, 2.3, 1.5, 2.3, 2. , 2. , 1.8, 2.1, 1.8, 1.8, 1.8, 2.1, 1.6,\n",
       "        1.9, 2. , 2.2, 1.5, 1.4, 2.3, 2.4, 1.8, 1.8, 2.1, 2.4, 2.3, 1.9,\n",
       "        2.3, 2.5, 2.3, 1.9, 2. , 2.3, 1.8],\n",
       "       [1. , 1. , 1. , 1. , 1. , 1. , 1. , 1. , 1. , 1. , 1. , 1. , 1. ,\n",
       "        1. , 1. , 1. , 1. , 1. , 1. , 1. , 1. , 1. , 1. , 1. , 1. , 1. ,\n",
       "        1. , 1. , 1. , 1. , 1. , 1. , 1. , 1. , 1. , 1. , 1. , 1. , 1. ,\n",
       "        1. , 1. , 1. , 1. , 1. , 1. , 1. , 1. , 1. , 1. , 1. , 2. , 2. ,\n",
       "        2. , 2. , 2. , 2. , 2. , 2. , 2. , 2. , 2. , 2. , 2. , 2. , 2. ,\n",
       "        2. , 2. , 2. , 2. , 2. , 2. , 2. , 2. , 2. , 2. , 2. , 2. , 2. ,\n",
       "        2. , 2. , 2. , 2. , 2. , 2. , 2. , 2. , 2. , 2. , 2. , 2. , 2. ,\n",
       "        2. , 2. , 2. , 2. , 2. , 2. , 2. , 2. , 2. , 3. , 3. , 3. , 3. ,\n",
       "        3. , 3. , 3. , 3. , 3. , 3. , 3. , 3. , 3. , 3. , 3. , 3. , 3. ,\n",
       "        3. , 3. , 3. , 3. , 3. , 3. , 3. , 3. , 3. , 3. , 3. , 3. , 3. ,\n",
       "        3. , 3. , 3. , 3. , 3. , 3. , 3. , 3. , 3. , 3. , 3. , 3. , 3. ,\n",
       "        3. , 3. , 3. , 3. , 3. , 3. , 3. ]])"
      ]
     },
     "execution_count": 83,
     "metadata": {},
     "output_type": "execute_result"
    }
   ],
   "source": [
    "# transposer\n",
    "iris.T"
   ]
  },
  {
   "cell_type": "code",
   "execution_count": 84,
   "metadata": {},
   "outputs": [
    {
     "data": {
      "text/plain": [
       "array([ 1,  2,  3,  4,  5,  6,  7,  8,  9, 10, 11, 12, 13, 14, 15, 16, 18,\n",
       "       19, 20, 21, 22, 23, 24, 25])"
      ]
     },
     "execution_count": 84,
     "metadata": {},
     "output_type": "execute_result"
    }
   ],
   "source": [
    "np.append(notre_tableau, [21, 22, 23, 24, 25])"
   ]
  },
  {
   "cell_type": "code",
   "execution_count": 85,
   "metadata": {},
   "outputs": [
    {
     "data": {
      "text/plain": [
       "array([[ 5.1,  3.5,  1.4,  0.2,  1. ],\n",
       "       [ 4.9,  3. ,  1.4,  0.2,  1. ],\n",
       "       [ 4.7,  3.2,  1.3,  0.2,  1. ],\n",
       "       [ 4.6,  3.1,  1.5,  0.2,  1. ],\n",
       "       [ 5. ,  3.6,  1.4,  0.2,  1. ],\n",
       "       [ 5.4,  3.9,  1.7,  0.4,  1. ],\n",
       "       [ 4.6,  3.4,  1.4,  0.3,  1. ],\n",
       "       [ 5. ,  3.4,  1.5,  0.2,  1. ],\n",
       "       [ 4.4,  2.9,  1.4,  0.2,  1. ],\n",
       "       [ 4.9,  3.1,  1.5,  0.1,  1. ],\n",
       "       [ 5.4,  3.7,  1.5,  0.2,  1. ],\n",
       "       [ 4.8,  3.4,  1.6,  0.2,  1. ],\n",
       "       [ 4.8,  3. ,  1.4,  0.1,  1. ],\n",
       "       [ 4.3,  3. ,  1.1,  0.1,  1. ],\n",
       "       [ 5.8,  4. ,  1.2,  0.2,  1. ],\n",
       "       [ 5.7,  4.4,  1.5,  0.4,  1. ],\n",
       "       [ 5.4,  3.9,  1.3,  0.4,  1. ],\n",
       "       [ 5.1,  3.5,  1.4,  0.3,  1. ],\n",
       "       [ 5.7,  3.8,  1.7,  0.3,  1. ],\n",
       "       [ 5.1,  3.8,  1.5,  0.3,  1. ],\n",
       "       [ 5.4,  3.4,  1.7,  0.2,  1. ],\n",
       "       [ 5.1,  3.7,  1.5,  0.4,  1. ],\n",
       "       [ 4.6,  3.6,  1. ,  0.2,  1. ],\n",
       "       [ 5.1,  3.3,  1.7,  0.5,  1. ],\n",
       "       [ 4.8,  3.4,  1.9,  0.2,  1. ],\n",
       "       [ 5. ,  3. ,  1.6,  0.2,  1. ],\n",
       "       [ 5. ,  3.4,  1.6,  0.4,  1. ],\n",
       "       [ 5.2,  3.5,  1.5,  0.2,  1. ],\n",
       "       [ 5.2,  3.4,  1.4,  0.2,  1. ],\n",
       "       [ 4.7,  3.2,  1.6,  0.2,  1. ],\n",
       "       [ 4.8,  3.1,  1.6,  0.2,  1. ],\n",
       "       [ 5.4,  3.4,  1.5,  0.4,  1. ],\n",
       "       [ 5.2,  4.1,  1.5,  0.1,  1. ],\n",
       "       [ 5.5,  4.2,  1.4,  0.2,  1. ],\n",
       "       [ 4.9,  3.1,  1.5,  0.2,  1. ],\n",
       "       [ 5. ,  3.2,  1.2,  0.2,  1. ],\n",
       "       [ 5.5,  3.5,  1.3,  0.2,  1. ],\n",
       "       [ 4.9,  3.6,  1.4,  0.1,  1. ],\n",
       "       [ 4.4,  3. ,  1.3,  0.2,  1. ],\n",
       "       [ 5.1,  3.4,  1.5,  0.2,  1. ],\n",
       "       [ 5. ,  3.5,  1.3,  0.3,  1. ],\n",
       "       [ 4.5,  2.3,  1.3,  0.3,  1. ],\n",
       "       [ 4.4,  3.2,  1.3,  0.2,  1. ],\n",
       "       [ 5. ,  3.5,  1.6,  0.6,  1. ],\n",
       "       [ 5.1,  3.8,  1.9,  0.4,  1. ],\n",
       "       [ 4.8,  3. ,  1.4,  0.3,  1. ],\n",
       "       [ 5.1,  3.8,  1.6,  0.2,  1. ],\n",
       "       [ 4.6,  3.2,  1.4,  0.2,  1. ],\n",
       "       [ 5.3,  3.7,  1.5,  0.2,  1. ],\n",
       "       [ 5. ,  3.3,  1.4,  0.2,  1. ],\n",
       "       [ 7. ,  3.2,  4.7,  1.4,  2. ],\n",
       "       [ 6.4,  3.2,  4.5,  1.5,  2. ],\n",
       "       [ 6.9,  3.1,  4.9,  1.5,  2. ],\n",
       "       [ 5.5,  2.3,  4. ,  1.3,  2. ],\n",
       "       [ 6.5,  2.8,  4.6,  1.5,  2. ],\n",
       "       [ 5.7,  2.8,  4.5,  1.3,  2. ],\n",
       "       [ 6.3,  3.3,  4.7,  1.6,  2. ],\n",
       "       [ 4.9,  2.4,  3.3,  1. ,  2. ],\n",
       "       [ 6.6,  2.9,  4.6,  1.3,  2. ],\n",
       "       [ 5.2,  2.7,  3.9,  1.4,  2. ],\n",
       "       [ 5. ,  2. ,  3.5,  1. ,  2. ],\n",
       "       [ 5.9,  3. ,  4.2,  1.5,  2. ],\n",
       "       [ 6. ,  2.2,  4. ,  1. ,  2. ],\n",
       "       [ 6.1,  2.9,  4.7,  1.4,  2. ],\n",
       "       [ 5.6,  2.9,  3.6,  1.3,  2. ],\n",
       "       [ 6.7,  3.1,  4.4,  1.4,  2. ],\n",
       "       [ 5.6,  3. ,  4.5,  1.5,  2. ],\n",
       "       [ 5.8,  2.7,  4.1,  1. ,  2. ],\n",
       "       [ 6.2,  2.2,  4.5,  1.5,  2. ],\n",
       "       [ 5.6,  2.5,  3.9,  1.1,  2. ],\n",
       "       [ 5.9,  3.2,  4.8,  1.8,  2. ],\n",
       "       [ 6.1,  2.8,  4. ,  1.3,  2. ],\n",
       "       [ 6.3,  2.5,  4.9,  1.5,  2. ],\n",
       "       [ 6.1,  2.8,  4.7,  1.2,  2. ],\n",
       "       [ 6.4,  2.9,  4.3,  1.3,  2. ],\n",
       "       [ 6.6,  3. ,  4.4,  1.4,  2. ],\n",
       "       [ 6.8,  2.8,  4.8,  1.4,  2. ],\n",
       "       [ 6.7,  3. ,  5. ,  1.7,  2. ],\n",
       "       [ 6. ,  2.9,  4.5,  1.5,  2. ],\n",
       "       [ 5.7,  2.6,  3.5,  1. ,  2. ],\n",
       "       [ 5.5,  2.4,  3.8,  1.1,  2. ],\n",
       "       [ 5.5,  2.4,  3.7,  1. ,  2. ],\n",
       "       [ 5.8,  2.7,  3.9,  1.2,  2. ],\n",
       "       [ 6. ,  2.7,  5.1,  1.6,  2. ],\n",
       "       [ 5.4,  3. ,  4.5,  1.5,  2. ],\n",
       "       [ 6. ,  3.4,  4.5,  1.6,  2. ],\n",
       "       [ 6.7,  3.1,  4.7,  1.5,  2. ],\n",
       "       [ 6.3,  2.3,  4.4,  1.3,  2. ],\n",
       "       [ 5.6,  3. ,  4.1,  1.3,  2. ],\n",
       "       [ 5.5,  2.5,  4. ,  1.3,  2. ],\n",
       "       [ 5.5,  2.6,  4.4,  1.2,  2. ],\n",
       "       [ 6.1,  3. ,  4.6,  1.4,  2. ],\n",
       "       [ 5.8,  2.6,  4. ,  1.2,  2. ],\n",
       "       [ 5. ,  2.3,  3.3,  1. ,  2. ],\n",
       "       [ 5.6,  2.7,  4.2,  1.3,  2. ],\n",
       "       [ 5.7,  3. ,  4.2,  1.2,  2. ],\n",
       "       [ 5.7,  2.9,  4.2,  1.3,  2. ],\n",
       "       [ 6.2,  2.9,  4.3,  1.3,  2. ],\n",
       "       [ 5.1,  2.5,  3. ,  1.1,  2. ],\n",
       "       [ 5.7,  2.8,  4.1,  1.3,  2. ],\n",
       "       [ 6.3,  3.3,  6. ,  2.5,  3. ],\n",
       "       [ 5.8,  2.7,  5.1,  1.9,  3. ],\n",
       "       [ 7.1,  3. ,  5.9,  2.1,  3. ],\n",
       "       [ 6.3,  2.9,  5.6,  1.8,  3. ],\n",
       "       [ 6.5,  3. ,  5.8,  2.2,  3. ],\n",
       "       [ 7.6,  3. ,  6.6,  2.1,  3. ],\n",
       "       [ 4.9,  2.5,  4.5,  1.7,  3. ],\n",
       "       [ 7.3,  2.9,  6.3,  1.8,  3. ],\n",
       "       [ 6.7,  2.5,  5.8,  1.8,  3. ],\n",
       "       [ 7.2,  3.6,  6.1,  2.5,  3. ],\n",
       "       [ 6.5,  3.2,  5.1,  2. ,  3. ],\n",
       "       [ 6.4,  2.7,  5.3,  1.9,  3. ],\n",
       "       [ 6.8,  3. ,  5.5,  2.1,  3. ],\n",
       "       [ 5.7,  2.5,  5. ,  2. ,  3. ],\n",
       "       [ 5.8,  2.8,  5.1,  2.4,  3. ],\n",
       "       [ 6.4,  3.2,  5.3,  2.3,  3. ],\n",
       "       [ 6.5,  3. ,  5.5,  1.8,  3. ],\n",
       "       [ 7.7,  3.8,  6.7,  2.2,  3. ],\n",
       "       [ 7.7,  2.6,  6.9,  2.3,  3. ],\n",
       "       [ 6. ,  2.2,  5. ,  1.5,  3. ],\n",
       "       [ 6.9,  3.2,  5.7,  2.3,  3. ],\n",
       "       [ 5.6,  2.8,  4.9,  2. ,  3. ],\n",
       "       [ 7.7,  2.8,  6.7,  2. ,  3. ],\n",
       "       [ 6.3,  2.7,  4.9,  1.8,  3. ],\n",
       "       [ 6.7,  3.3,  5.7,  2.1,  3. ],\n",
       "       [ 7.2,  3.2,  6. ,  1.8,  3. ],\n",
       "       [ 6.2,  2.8,  4.8,  1.8,  3. ],\n",
       "       [ 6.1,  3. ,  4.9,  1.8,  3. ],\n",
       "       [ 6.4,  2.8,  5.6,  2.1,  3. ],\n",
       "       [ 7.2,  3. ,  5.8,  1.6,  3. ],\n",
       "       [ 7.4,  2.8,  6.1,  1.9,  3. ],\n",
       "       [ 7.9,  3.8,  6.4,  2. ,  3. ],\n",
       "       [ 6.4,  2.8,  5.6,  2.2,  3. ],\n",
       "       [ 6.3,  2.8,  5.1,  1.5,  3. ],\n",
       "       [ 6.1,  2.6,  5.6,  1.4,  3. ],\n",
       "       [ 7.7,  3. ,  6.1,  2.3,  3. ],\n",
       "       [ 6.3,  3.4,  5.6,  2.4,  3. ],\n",
       "       [ 6.4,  3.1,  5.5,  1.8,  3. ],\n",
       "       [ 6. ,  3. ,  4.8,  1.8,  3. ],\n",
       "       [ 6.9,  3.1,  5.4,  2.1,  3. ],\n",
       "       [ 6.7,  3.1,  5.6,  2.4,  3. ],\n",
       "       [ 6.9,  3.1,  5.1,  2.3,  3. ],\n",
       "       [ 5.8,  2.7,  5.1,  1.9,  3. ],\n",
       "       [ 6.8,  3.2,  5.9,  2.3,  3. ],\n",
       "       [ 6.7,  3.3,  5.7,  2.5,  3. ],\n",
       "       [ 6.7,  3. ,  5.2,  2.3,  3. ],\n",
       "       [ 6.3,  2.5,  5. ,  1.9,  3. ],\n",
       "       [ 6.5,  3. ,  5.2,  2. ,  3. ],\n",
       "       [ 6.2,  3.4,  5.4,  2.3,  3. ],\n",
       "       [ 5.9,  3. ,  5.1,  1.8,  3. ],\n",
       "       [10. , 10. , 10. , 10. , 10. ]])"
      ]
     },
     "execution_count": 85,
     "metadata": {},
     "output_type": "execute_result"
    }
   ],
   "source": [
    "np.append(iris, [[10, 10, 10, 10, 10]], axis=0)"
   ]
  },
  {
   "cell_type": "code",
   "execution_count": 86,
   "metadata": {},
   "outputs": [
    {
     "data": {
      "text/plain": [
       "array([10, 42, 11, 12, 13, 14, 15, 16, 17, 18])"
      ]
     },
     "execution_count": 86,
     "metadata": {},
     "output_type": "execute_result"
    }
   ],
   "source": [
    "np.insert(mon_tableau, 1, 42)"
   ]
  },
  {
   "cell_type": "code",
   "execution_count": 87,
   "metadata": {},
   "outputs": [
    {
     "data": {
      "text/plain": [
       "array([10, 42, 43, 44, 45, 46, 11, 12, 13, 14, 15, 16, 17, 18])"
      ]
     },
     "execution_count": 87,
     "metadata": {},
     "output_type": "execute_result"
    }
   ],
   "source": [
    "np.insert(mon_tableau, 1, [42, 43, 44, 45, 46])"
   ]
  },
  {
   "cell_type": "code",
   "execution_count": 88,
   "metadata": {},
   "outputs": [
    {
     "data": {
      "text/plain": [
       "array([[ 5.1,  3.5,  1.4,  0.2,  1. ],\n",
       "       [10. , 10. , 10. , 10. , 10. ],\n",
       "       [ 4.9,  3. ,  1.4,  0.2,  1. ],\n",
       "       [ 4.7,  3.2,  1.3,  0.2,  1. ],\n",
       "       [ 4.6,  3.1,  1.5,  0.2,  1. ],\n",
       "       [ 5. ,  3.6,  1.4,  0.2,  1. ],\n",
       "       [ 5.4,  3.9,  1.7,  0.4,  1. ],\n",
       "       [ 4.6,  3.4,  1.4,  0.3,  1. ],\n",
       "       [ 5. ,  3.4,  1.5,  0.2,  1. ],\n",
       "       [ 4.4,  2.9,  1.4,  0.2,  1. ],\n",
       "       [ 4.9,  3.1,  1.5,  0.1,  1. ],\n",
       "       [ 5.4,  3.7,  1.5,  0.2,  1. ],\n",
       "       [ 4.8,  3.4,  1.6,  0.2,  1. ],\n",
       "       [ 4.8,  3. ,  1.4,  0.1,  1. ],\n",
       "       [ 4.3,  3. ,  1.1,  0.1,  1. ],\n",
       "       [ 5.8,  4. ,  1.2,  0.2,  1. ],\n",
       "       [ 5.7,  4.4,  1.5,  0.4,  1. ],\n",
       "       [ 5.4,  3.9,  1.3,  0.4,  1. ],\n",
       "       [ 5.1,  3.5,  1.4,  0.3,  1. ],\n",
       "       [ 5.7,  3.8,  1.7,  0.3,  1. ],\n",
       "       [ 5.1,  3.8,  1.5,  0.3,  1. ],\n",
       "       [ 5.4,  3.4,  1.7,  0.2,  1. ],\n",
       "       [ 5.1,  3.7,  1.5,  0.4,  1. ],\n",
       "       [ 4.6,  3.6,  1. ,  0.2,  1. ],\n",
       "       [ 5.1,  3.3,  1.7,  0.5,  1. ],\n",
       "       [ 4.8,  3.4,  1.9,  0.2,  1. ],\n",
       "       [ 5. ,  3. ,  1.6,  0.2,  1. ],\n",
       "       [ 5. ,  3.4,  1.6,  0.4,  1. ],\n",
       "       [ 5.2,  3.5,  1.5,  0.2,  1. ],\n",
       "       [ 5.2,  3.4,  1.4,  0.2,  1. ],\n",
       "       [ 4.7,  3.2,  1.6,  0.2,  1. ],\n",
       "       [ 4.8,  3.1,  1.6,  0.2,  1. ],\n",
       "       [ 5.4,  3.4,  1.5,  0.4,  1. ],\n",
       "       [ 5.2,  4.1,  1.5,  0.1,  1. ],\n",
       "       [ 5.5,  4.2,  1.4,  0.2,  1. ],\n",
       "       [ 4.9,  3.1,  1.5,  0.2,  1. ],\n",
       "       [ 5. ,  3.2,  1.2,  0.2,  1. ],\n",
       "       [ 5.5,  3.5,  1.3,  0.2,  1. ],\n",
       "       [ 4.9,  3.6,  1.4,  0.1,  1. ],\n",
       "       [ 4.4,  3. ,  1.3,  0.2,  1. ],\n",
       "       [ 5.1,  3.4,  1.5,  0.2,  1. ],\n",
       "       [ 5. ,  3.5,  1.3,  0.3,  1. ],\n",
       "       [ 4.5,  2.3,  1.3,  0.3,  1. ],\n",
       "       [ 4.4,  3.2,  1.3,  0.2,  1. ],\n",
       "       [ 5. ,  3.5,  1.6,  0.6,  1. ],\n",
       "       [ 5.1,  3.8,  1.9,  0.4,  1. ],\n",
       "       [ 4.8,  3. ,  1.4,  0.3,  1. ],\n",
       "       [ 5.1,  3.8,  1.6,  0.2,  1. ],\n",
       "       [ 4.6,  3.2,  1.4,  0.2,  1. ],\n",
       "       [ 5.3,  3.7,  1.5,  0.2,  1. ],\n",
       "       [ 5. ,  3.3,  1.4,  0.2,  1. ],\n",
       "       [ 7. ,  3.2,  4.7,  1.4,  2. ],\n",
       "       [ 6.4,  3.2,  4.5,  1.5,  2. ],\n",
       "       [ 6.9,  3.1,  4.9,  1.5,  2. ],\n",
       "       [ 5.5,  2.3,  4. ,  1.3,  2. ],\n",
       "       [ 6.5,  2.8,  4.6,  1.5,  2. ],\n",
       "       [ 5.7,  2.8,  4.5,  1.3,  2. ],\n",
       "       [ 6.3,  3.3,  4.7,  1.6,  2. ],\n",
       "       [ 4.9,  2.4,  3.3,  1. ,  2. ],\n",
       "       [ 6.6,  2.9,  4.6,  1.3,  2. ],\n",
       "       [ 5.2,  2.7,  3.9,  1.4,  2. ],\n",
       "       [ 5. ,  2. ,  3.5,  1. ,  2. ],\n",
       "       [ 5.9,  3. ,  4.2,  1.5,  2. ],\n",
       "       [ 6. ,  2.2,  4. ,  1. ,  2. ],\n",
       "       [ 6.1,  2.9,  4.7,  1.4,  2. ],\n",
       "       [ 5.6,  2.9,  3.6,  1.3,  2. ],\n",
       "       [ 6.7,  3.1,  4.4,  1.4,  2. ],\n",
       "       [ 5.6,  3. ,  4.5,  1.5,  2. ],\n",
       "       [ 5.8,  2.7,  4.1,  1. ,  2. ],\n",
       "       [ 6.2,  2.2,  4.5,  1.5,  2. ],\n",
       "       [ 5.6,  2.5,  3.9,  1.1,  2. ],\n",
       "       [ 5.9,  3.2,  4.8,  1.8,  2. ],\n",
       "       [ 6.1,  2.8,  4. ,  1.3,  2. ],\n",
       "       [ 6.3,  2.5,  4.9,  1.5,  2. ],\n",
       "       [ 6.1,  2.8,  4.7,  1.2,  2. ],\n",
       "       [ 6.4,  2.9,  4.3,  1.3,  2. ],\n",
       "       [ 6.6,  3. ,  4.4,  1.4,  2. ],\n",
       "       [ 6.8,  2.8,  4.8,  1.4,  2. ],\n",
       "       [ 6.7,  3. ,  5. ,  1.7,  2. ],\n",
       "       [ 6. ,  2.9,  4.5,  1.5,  2. ],\n",
       "       [ 5.7,  2.6,  3.5,  1. ,  2. ],\n",
       "       [ 5.5,  2.4,  3.8,  1.1,  2. ],\n",
       "       [ 5.5,  2.4,  3.7,  1. ,  2. ],\n",
       "       [ 5.8,  2.7,  3.9,  1.2,  2. ],\n",
       "       [ 6. ,  2.7,  5.1,  1.6,  2. ],\n",
       "       [ 5.4,  3. ,  4.5,  1.5,  2. ],\n",
       "       [ 6. ,  3.4,  4.5,  1.6,  2. ],\n",
       "       [ 6.7,  3.1,  4.7,  1.5,  2. ],\n",
       "       [ 6.3,  2.3,  4.4,  1.3,  2. ],\n",
       "       [ 5.6,  3. ,  4.1,  1.3,  2. ],\n",
       "       [ 5.5,  2.5,  4. ,  1.3,  2. ],\n",
       "       [ 5.5,  2.6,  4.4,  1.2,  2. ],\n",
       "       [ 6.1,  3. ,  4.6,  1.4,  2. ],\n",
       "       [ 5.8,  2.6,  4. ,  1.2,  2. ],\n",
       "       [ 5. ,  2.3,  3.3,  1. ,  2. ],\n",
       "       [ 5.6,  2.7,  4.2,  1.3,  2. ],\n",
       "       [ 5.7,  3. ,  4.2,  1.2,  2. ],\n",
       "       [ 5.7,  2.9,  4.2,  1.3,  2. ],\n",
       "       [ 6.2,  2.9,  4.3,  1.3,  2. ],\n",
       "       [ 5.1,  2.5,  3. ,  1.1,  2. ],\n",
       "       [ 5.7,  2.8,  4.1,  1.3,  2. ],\n",
       "       [ 6.3,  3.3,  6. ,  2.5,  3. ],\n",
       "       [ 5.8,  2.7,  5.1,  1.9,  3. ],\n",
       "       [ 7.1,  3. ,  5.9,  2.1,  3. ],\n",
       "       [ 6.3,  2.9,  5.6,  1.8,  3. ],\n",
       "       [ 6.5,  3. ,  5.8,  2.2,  3. ],\n",
       "       [ 7.6,  3. ,  6.6,  2.1,  3. ],\n",
       "       [ 4.9,  2.5,  4.5,  1.7,  3. ],\n",
       "       [ 7.3,  2.9,  6.3,  1.8,  3. ],\n",
       "       [ 6.7,  2.5,  5.8,  1.8,  3. ],\n",
       "       [ 7.2,  3.6,  6.1,  2.5,  3. ],\n",
       "       [ 6.5,  3.2,  5.1,  2. ,  3. ],\n",
       "       [ 6.4,  2.7,  5.3,  1.9,  3. ],\n",
       "       [ 6.8,  3. ,  5.5,  2.1,  3. ],\n",
       "       [ 5.7,  2.5,  5. ,  2. ,  3. ],\n",
       "       [ 5.8,  2.8,  5.1,  2.4,  3. ],\n",
       "       [ 6.4,  3.2,  5.3,  2.3,  3. ],\n",
       "       [ 6.5,  3. ,  5.5,  1.8,  3. ],\n",
       "       [ 7.7,  3.8,  6.7,  2.2,  3. ],\n",
       "       [ 7.7,  2.6,  6.9,  2.3,  3. ],\n",
       "       [ 6. ,  2.2,  5. ,  1.5,  3. ],\n",
       "       [ 6.9,  3.2,  5.7,  2.3,  3. ],\n",
       "       [ 5.6,  2.8,  4.9,  2. ,  3. ],\n",
       "       [ 7.7,  2.8,  6.7,  2. ,  3. ],\n",
       "       [ 6.3,  2.7,  4.9,  1.8,  3. ],\n",
       "       [ 6.7,  3.3,  5.7,  2.1,  3. ],\n",
       "       [ 7.2,  3.2,  6. ,  1.8,  3. ],\n",
       "       [ 6.2,  2.8,  4.8,  1.8,  3. ],\n",
       "       [ 6.1,  3. ,  4.9,  1.8,  3. ],\n",
       "       [ 6.4,  2.8,  5.6,  2.1,  3. ],\n",
       "       [ 7.2,  3. ,  5.8,  1.6,  3. ],\n",
       "       [ 7.4,  2.8,  6.1,  1.9,  3. ],\n",
       "       [ 7.9,  3.8,  6.4,  2. ,  3. ],\n",
       "       [ 6.4,  2.8,  5.6,  2.2,  3. ],\n",
       "       [ 6.3,  2.8,  5.1,  1.5,  3. ],\n",
       "       [ 6.1,  2.6,  5.6,  1.4,  3. ],\n",
       "       [ 7.7,  3. ,  6.1,  2.3,  3. ],\n",
       "       [ 6.3,  3.4,  5.6,  2.4,  3. ],\n",
       "       [ 6.4,  3.1,  5.5,  1.8,  3. ],\n",
       "       [ 6. ,  3. ,  4.8,  1.8,  3. ],\n",
       "       [ 6.9,  3.1,  5.4,  2.1,  3. ],\n",
       "       [ 6.7,  3.1,  5.6,  2.4,  3. ],\n",
       "       [ 6.9,  3.1,  5.1,  2.3,  3. ],\n",
       "       [ 5.8,  2.7,  5.1,  1.9,  3. ],\n",
       "       [ 6.8,  3.2,  5.9,  2.3,  3. ],\n",
       "       [ 6.7,  3.3,  5.7,  2.5,  3. ],\n",
       "       [ 6.7,  3. ,  5.2,  2.3,  3. ],\n",
       "       [ 6.3,  2.5,  5. ,  1.9,  3. ],\n",
       "       [ 6.5,  3. ,  5.2,  2. ,  3. ],\n",
       "       [ 6.2,  3.4,  5.4,  2.3,  3. ],\n",
       "       [ 5.9,  3. ,  5.1,  1.8,  3. ]])"
      ]
     },
     "execution_count": 88,
     "metadata": {},
     "output_type": "execute_result"
    }
   ],
   "source": [
    "np.insert(iris, 1, [10, 10, 10, 10, 10], axis=0)"
   ]
  },
  {
   "cell_type": "code",
   "execution_count": 89,
   "metadata": {},
   "outputs": [
    {
     "data": {
      "text/plain": [
       "array([ 5.1, 10. , 10. , 10. , 10. , 10. ,  3.5,  1.4,  0.2,  1. ,  4.9,\n",
       "        3. ,  1.4,  0.2,  1. ,  4.7,  3.2,  1.3,  0.2,  1. ,  4.6,  3.1,\n",
       "        1.5,  0.2,  1. ,  5. ,  3.6,  1.4,  0.2,  1. ,  5.4,  3.9,  1.7,\n",
       "        0.4,  1. ,  4.6,  3.4,  1.4,  0.3,  1. ,  5. ,  3.4,  1.5,  0.2,\n",
       "        1. ,  4.4,  2.9,  1.4,  0.2,  1. ,  4.9,  3.1,  1.5,  0.1,  1. ,\n",
       "        5.4,  3.7,  1.5,  0.2,  1. ,  4.8,  3.4,  1.6,  0.2,  1. ,  4.8,\n",
       "        3. ,  1.4,  0.1,  1. ,  4.3,  3. ,  1.1,  0.1,  1. ,  5.8,  4. ,\n",
       "        1.2,  0.2,  1. ,  5.7,  4.4,  1.5,  0.4,  1. ,  5.4,  3.9,  1.3,\n",
       "        0.4,  1. ,  5.1,  3.5,  1.4,  0.3,  1. ,  5.7,  3.8,  1.7,  0.3,\n",
       "        1. ,  5.1,  3.8,  1.5,  0.3,  1. ,  5.4,  3.4,  1.7,  0.2,  1. ,\n",
       "        5.1,  3.7,  1.5,  0.4,  1. ,  4.6,  3.6,  1. ,  0.2,  1. ,  5.1,\n",
       "        3.3,  1.7,  0.5,  1. ,  4.8,  3.4,  1.9,  0.2,  1. ,  5. ,  3. ,\n",
       "        1.6,  0.2,  1. ,  5. ,  3.4,  1.6,  0.4,  1. ,  5.2,  3.5,  1.5,\n",
       "        0.2,  1. ,  5.2,  3.4,  1.4,  0.2,  1. ,  4.7,  3.2,  1.6,  0.2,\n",
       "        1. ,  4.8,  3.1,  1.6,  0.2,  1. ,  5.4,  3.4,  1.5,  0.4,  1. ,\n",
       "        5.2,  4.1,  1.5,  0.1,  1. ,  5.5,  4.2,  1.4,  0.2,  1. ,  4.9,\n",
       "        3.1,  1.5,  0.2,  1. ,  5. ,  3.2,  1.2,  0.2,  1. ,  5.5,  3.5,\n",
       "        1.3,  0.2,  1. ,  4.9,  3.6,  1.4,  0.1,  1. ,  4.4,  3. ,  1.3,\n",
       "        0.2,  1. ,  5.1,  3.4,  1.5,  0.2,  1. ,  5. ,  3.5,  1.3,  0.3,\n",
       "        1. ,  4.5,  2.3,  1.3,  0.3,  1. ,  4.4,  3.2,  1.3,  0.2,  1. ,\n",
       "        5. ,  3.5,  1.6,  0.6,  1. ,  5.1,  3.8,  1.9,  0.4,  1. ,  4.8,\n",
       "        3. ,  1.4,  0.3,  1. ,  5.1,  3.8,  1.6,  0.2,  1. ,  4.6,  3.2,\n",
       "        1.4,  0.2,  1. ,  5.3,  3.7,  1.5,  0.2,  1. ,  5. ,  3.3,  1.4,\n",
       "        0.2,  1. ,  7. ,  3.2,  4.7,  1.4,  2. ,  6.4,  3.2,  4.5,  1.5,\n",
       "        2. ,  6.9,  3.1,  4.9,  1.5,  2. ,  5.5,  2.3,  4. ,  1.3,  2. ,\n",
       "        6.5,  2.8,  4.6,  1.5,  2. ,  5.7,  2.8,  4.5,  1.3,  2. ,  6.3,\n",
       "        3.3,  4.7,  1.6,  2. ,  4.9,  2.4,  3.3,  1. ,  2. ,  6.6,  2.9,\n",
       "        4.6,  1.3,  2. ,  5.2,  2.7,  3.9,  1.4,  2. ,  5. ,  2. ,  3.5,\n",
       "        1. ,  2. ,  5.9,  3. ,  4.2,  1.5,  2. ,  6. ,  2.2,  4. ,  1. ,\n",
       "        2. ,  6.1,  2.9,  4.7,  1.4,  2. ,  5.6,  2.9,  3.6,  1.3,  2. ,\n",
       "        6.7,  3.1,  4.4,  1.4,  2. ,  5.6,  3. ,  4.5,  1.5,  2. ,  5.8,\n",
       "        2.7,  4.1,  1. ,  2. ,  6.2,  2.2,  4.5,  1.5,  2. ,  5.6,  2.5,\n",
       "        3.9,  1.1,  2. ,  5.9,  3.2,  4.8,  1.8,  2. ,  6.1,  2.8,  4. ,\n",
       "        1.3,  2. ,  6.3,  2.5,  4.9,  1.5,  2. ,  6.1,  2.8,  4.7,  1.2,\n",
       "        2. ,  6.4,  2.9,  4.3,  1.3,  2. ,  6.6,  3. ,  4.4,  1.4,  2. ,\n",
       "        6.8,  2.8,  4.8,  1.4,  2. ,  6.7,  3. ,  5. ,  1.7,  2. ,  6. ,\n",
       "        2.9,  4.5,  1.5,  2. ,  5.7,  2.6,  3.5,  1. ,  2. ,  5.5,  2.4,\n",
       "        3.8,  1.1,  2. ,  5.5,  2.4,  3.7,  1. ,  2. ,  5.8,  2.7,  3.9,\n",
       "        1.2,  2. ,  6. ,  2.7,  5.1,  1.6,  2. ,  5.4,  3. ,  4.5,  1.5,\n",
       "        2. ,  6. ,  3.4,  4.5,  1.6,  2. ,  6.7,  3.1,  4.7,  1.5,  2. ,\n",
       "        6.3,  2.3,  4.4,  1.3,  2. ,  5.6,  3. ,  4.1,  1.3,  2. ,  5.5,\n",
       "        2.5,  4. ,  1.3,  2. ,  5.5,  2.6,  4.4,  1.2,  2. ,  6.1,  3. ,\n",
       "        4.6,  1.4,  2. ,  5.8,  2.6,  4. ,  1.2,  2. ,  5. ,  2.3,  3.3,\n",
       "        1. ,  2. ,  5.6,  2.7,  4.2,  1.3,  2. ,  5.7,  3. ,  4.2,  1.2,\n",
       "        2. ,  5.7,  2.9,  4.2,  1.3,  2. ,  6.2,  2.9,  4.3,  1.3,  2. ,\n",
       "        5.1,  2.5,  3. ,  1.1,  2. ,  5.7,  2.8,  4.1,  1.3,  2. ,  6.3,\n",
       "        3.3,  6. ,  2.5,  3. ,  5.8,  2.7,  5.1,  1.9,  3. ,  7.1,  3. ,\n",
       "        5.9,  2.1,  3. ,  6.3,  2.9,  5.6,  1.8,  3. ,  6.5,  3. ,  5.8,\n",
       "        2.2,  3. ,  7.6,  3. ,  6.6,  2.1,  3. ,  4.9,  2.5,  4.5,  1.7,\n",
       "        3. ,  7.3,  2.9,  6.3,  1.8,  3. ,  6.7,  2.5,  5.8,  1.8,  3. ,\n",
       "        7.2,  3.6,  6.1,  2.5,  3. ,  6.5,  3.2,  5.1,  2. ,  3. ,  6.4,\n",
       "        2.7,  5.3,  1.9,  3. ,  6.8,  3. ,  5.5,  2.1,  3. ,  5.7,  2.5,\n",
       "        5. ,  2. ,  3. ,  5.8,  2.8,  5.1,  2.4,  3. ,  6.4,  3.2,  5.3,\n",
       "        2.3,  3. ,  6.5,  3. ,  5.5,  1.8,  3. ,  7.7,  3.8,  6.7,  2.2,\n",
       "        3. ,  7.7,  2.6,  6.9,  2.3,  3. ,  6. ,  2.2,  5. ,  1.5,  3. ,\n",
       "        6.9,  3.2,  5.7,  2.3,  3. ,  5.6,  2.8,  4.9,  2. ,  3. ,  7.7,\n",
       "        2.8,  6.7,  2. ,  3. ,  6.3,  2.7,  4.9,  1.8,  3. ,  6.7,  3.3,\n",
       "        5.7,  2.1,  3. ,  7.2,  3.2,  6. ,  1.8,  3. ,  6.2,  2.8,  4.8,\n",
       "        1.8,  3. ,  6.1,  3. ,  4.9,  1.8,  3. ,  6.4,  2.8,  5.6,  2.1,\n",
       "        3. ,  7.2,  3. ,  5.8,  1.6,  3. ,  7.4,  2.8,  6.1,  1.9,  3. ,\n",
       "        7.9,  3.8,  6.4,  2. ,  3. ,  6.4,  2.8,  5.6,  2.2,  3. ,  6.3,\n",
       "        2.8,  5.1,  1.5,  3. ,  6.1,  2.6,  5.6,  1.4,  3. ,  7.7,  3. ,\n",
       "        6.1,  2.3,  3. ,  6.3,  3.4,  5.6,  2.4,  3. ,  6.4,  3.1,  5.5,\n",
       "        1.8,  3. ,  6. ,  3. ,  4.8,  1.8,  3. ,  6.9,  3.1,  5.4,  2.1,\n",
       "        3. ,  6.7,  3.1,  5.6,  2.4,  3. ,  6.9,  3.1,  5.1,  2.3,  3. ,\n",
       "        5.8,  2.7,  5.1,  1.9,  3. ,  6.8,  3.2,  5.9,  2.3,  3. ,  6.7,\n",
       "        3.3,  5.7,  2.5,  3. ,  6.7,  3. ,  5.2,  2.3,  3. ,  6.3,  2.5,\n",
       "        5. ,  1.9,  3. ,  6.5,  3. ,  5.2,  2. ,  3. ,  6.2,  3.4,  5.4,\n",
       "        2.3,  3. ,  5.9,  3. ,  5.1,  1.8,  3. ])"
      ]
     },
     "execution_count": 89,
     "metadata": {},
     "output_type": "execute_result"
    }
   ],
   "source": [
    "np.insert(iris, 1, [10, 10, 10, 10, 10])"
   ]
  },
  {
   "cell_type": "code",
   "execution_count": 90,
   "metadata": {},
   "outputs": [
    {
     "data": {
      "text/plain": [
       "array([[5.1, 1.4, 0.2, 1. ],\n",
       "       [4.9, 1.4, 0.2, 1. ],\n",
       "       [4.7, 1.3, 0.2, 1. ],\n",
       "       [4.6, 1.5, 0.2, 1. ],\n",
       "       [5. , 1.4, 0.2, 1. ],\n",
       "       [5.4, 1.7, 0.4, 1. ],\n",
       "       [4.6, 1.4, 0.3, 1. ],\n",
       "       [5. , 1.5, 0.2, 1. ],\n",
       "       [4.4, 1.4, 0.2, 1. ],\n",
       "       [4.9, 1.5, 0.1, 1. ],\n",
       "       [5.4, 1.5, 0.2, 1. ],\n",
       "       [4.8, 1.6, 0.2, 1. ],\n",
       "       [4.8, 1.4, 0.1, 1. ],\n",
       "       [4.3, 1.1, 0.1, 1. ],\n",
       "       [5.8, 1.2, 0.2, 1. ],\n",
       "       [5.7, 1.5, 0.4, 1. ],\n",
       "       [5.4, 1.3, 0.4, 1. ],\n",
       "       [5.1, 1.4, 0.3, 1. ],\n",
       "       [5.7, 1.7, 0.3, 1. ],\n",
       "       [5.1, 1.5, 0.3, 1. ],\n",
       "       [5.4, 1.7, 0.2, 1. ],\n",
       "       [5.1, 1.5, 0.4, 1. ],\n",
       "       [4.6, 1. , 0.2, 1. ],\n",
       "       [5.1, 1.7, 0.5, 1. ],\n",
       "       [4.8, 1.9, 0.2, 1. ],\n",
       "       [5. , 1.6, 0.2, 1. ],\n",
       "       [5. , 1.6, 0.4, 1. ],\n",
       "       [5.2, 1.5, 0.2, 1. ],\n",
       "       [5.2, 1.4, 0.2, 1. ],\n",
       "       [4.7, 1.6, 0.2, 1. ],\n",
       "       [4.8, 1.6, 0.2, 1. ],\n",
       "       [5.4, 1.5, 0.4, 1. ],\n",
       "       [5.2, 1.5, 0.1, 1. ],\n",
       "       [5.5, 1.4, 0.2, 1. ],\n",
       "       [4.9, 1.5, 0.2, 1. ],\n",
       "       [5. , 1.2, 0.2, 1. ],\n",
       "       [5.5, 1.3, 0.2, 1. ],\n",
       "       [4.9, 1.4, 0.1, 1. ],\n",
       "       [4.4, 1.3, 0.2, 1. ],\n",
       "       [5.1, 1.5, 0.2, 1. ],\n",
       "       [5. , 1.3, 0.3, 1. ],\n",
       "       [4.5, 1.3, 0.3, 1. ],\n",
       "       [4.4, 1.3, 0.2, 1. ],\n",
       "       [5. , 1.6, 0.6, 1. ],\n",
       "       [5.1, 1.9, 0.4, 1. ],\n",
       "       [4.8, 1.4, 0.3, 1. ],\n",
       "       [5.1, 1.6, 0.2, 1. ],\n",
       "       [4.6, 1.4, 0.2, 1. ],\n",
       "       [5.3, 1.5, 0.2, 1. ],\n",
       "       [5. , 1.4, 0.2, 1. ],\n",
       "       [7. , 4.7, 1.4, 2. ],\n",
       "       [6.4, 4.5, 1.5, 2. ],\n",
       "       [6.9, 4.9, 1.5, 2. ],\n",
       "       [5.5, 4. , 1.3, 2. ],\n",
       "       [6.5, 4.6, 1.5, 2. ],\n",
       "       [5.7, 4.5, 1.3, 2. ],\n",
       "       [6.3, 4.7, 1.6, 2. ],\n",
       "       [4.9, 3.3, 1. , 2. ],\n",
       "       [6.6, 4.6, 1.3, 2. ],\n",
       "       [5.2, 3.9, 1.4, 2. ],\n",
       "       [5. , 3.5, 1. , 2. ],\n",
       "       [5.9, 4.2, 1.5, 2. ],\n",
       "       [6. , 4. , 1. , 2. ],\n",
       "       [6.1, 4.7, 1.4, 2. ],\n",
       "       [5.6, 3.6, 1.3, 2. ],\n",
       "       [6.7, 4.4, 1.4, 2. ],\n",
       "       [5.6, 4.5, 1.5, 2. ],\n",
       "       [5.8, 4.1, 1. , 2. ],\n",
       "       [6.2, 4.5, 1.5, 2. ],\n",
       "       [5.6, 3.9, 1.1, 2. ],\n",
       "       [5.9, 4.8, 1.8, 2. ],\n",
       "       [6.1, 4. , 1.3, 2. ],\n",
       "       [6.3, 4.9, 1.5, 2. ],\n",
       "       [6.1, 4.7, 1.2, 2. ],\n",
       "       [6.4, 4.3, 1.3, 2. ],\n",
       "       [6.6, 4.4, 1.4, 2. ],\n",
       "       [6.8, 4.8, 1.4, 2. ],\n",
       "       [6.7, 5. , 1.7, 2. ],\n",
       "       [6. , 4.5, 1.5, 2. ],\n",
       "       [5.7, 3.5, 1. , 2. ],\n",
       "       [5.5, 3.8, 1.1, 2. ],\n",
       "       [5.5, 3.7, 1. , 2. ],\n",
       "       [5.8, 3.9, 1.2, 2. ],\n",
       "       [6. , 5.1, 1.6, 2. ],\n",
       "       [5.4, 4.5, 1.5, 2. ],\n",
       "       [6. , 4.5, 1.6, 2. ],\n",
       "       [6.7, 4.7, 1.5, 2. ],\n",
       "       [6.3, 4.4, 1.3, 2. ],\n",
       "       [5.6, 4.1, 1.3, 2. ],\n",
       "       [5.5, 4. , 1.3, 2. ],\n",
       "       [5.5, 4.4, 1.2, 2. ],\n",
       "       [6.1, 4.6, 1.4, 2. ],\n",
       "       [5.8, 4. , 1.2, 2. ],\n",
       "       [5. , 3.3, 1. , 2. ],\n",
       "       [5.6, 4.2, 1.3, 2. ],\n",
       "       [5.7, 4.2, 1.2, 2. ],\n",
       "       [5.7, 4.2, 1.3, 2. ],\n",
       "       [6.2, 4.3, 1.3, 2. ],\n",
       "       [5.1, 3. , 1.1, 2. ],\n",
       "       [5.7, 4.1, 1.3, 2. ],\n",
       "       [6.3, 6. , 2.5, 3. ],\n",
       "       [5.8, 5.1, 1.9, 3. ],\n",
       "       [7.1, 5.9, 2.1, 3. ],\n",
       "       [6.3, 5.6, 1.8, 3. ],\n",
       "       [6.5, 5.8, 2.2, 3. ],\n",
       "       [7.6, 6.6, 2.1, 3. ],\n",
       "       [4.9, 4.5, 1.7, 3. ],\n",
       "       [7.3, 6.3, 1.8, 3. ],\n",
       "       [6.7, 5.8, 1.8, 3. ],\n",
       "       [7.2, 6.1, 2.5, 3. ],\n",
       "       [6.5, 5.1, 2. , 3. ],\n",
       "       [6.4, 5.3, 1.9, 3. ],\n",
       "       [6.8, 5.5, 2.1, 3. ],\n",
       "       [5.7, 5. , 2. , 3. ],\n",
       "       [5.8, 5.1, 2.4, 3. ],\n",
       "       [6.4, 5.3, 2.3, 3. ],\n",
       "       [6.5, 5.5, 1.8, 3. ],\n",
       "       [7.7, 6.7, 2.2, 3. ],\n",
       "       [7.7, 6.9, 2.3, 3. ],\n",
       "       [6. , 5. , 1.5, 3. ],\n",
       "       [6.9, 5.7, 2.3, 3. ],\n",
       "       [5.6, 4.9, 2. , 3. ],\n",
       "       [7.7, 6.7, 2. , 3. ],\n",
       "       [6.3, 4.9, 1.8, 3. ],\n",
       "       [6.7, 5.7, 2.1, 3. ],\n",
       "       [7.2, 6. , 1.8, 3. ],\n",
       "       [6.2, 4.8, 1.8, 3. ],\n",
       "       [6.1, 4.9, 1.8, 3. ],\n",
       "       [6.4, 5.6, 2.1, 3. ],\n",
       "       [7.2, 5.8, 1.6, 3. ],\n",
       "       [7.4, 6.1, 1.9, 3. ],\n",
       "       [7.9, 6.4, 2. , 3. ],\n",
       "       [6.4, 5.6, 2.2, 3. ],\n",
       "       [6.3, 5.1, 1.5, 3. ],\n",
       "       [6.1, 5.6, 1.4, 3. ],\n",
       "       [7.7, 6.1, 2.3, 3. ],\n",
       "       [6.3, 5.6, 2.4, 3. ],\n",
       "       [6.4, 5.5, 1.8, 3. ],\n",
       "       [6. , 4.8, 1.8, 3. ],\n",
       "       [6.9, 5.4, 2.1, 3. ],\n",
       "       [6.7, 5.6, 2.4, 3. ],\n",
       "       [6.9, 5.1, 2.3, 3. ],\n",
       "       [5.8, 5.1, 1.9, 3. ],\n",
       "       [6.8, 5.9, 2.3, 3. ],\n",
       "       [6.7, 5.7, 2.5, 3. ],\n",
       "       [6.7, 5.2, 2.3, 3. ],\n",
       "       [6.3, 5. , 1.9, 3. ],\n",
       "       [6.5, 5.2, 2. , 3. ],\n",
       "       [6.2, 5.4, 2.3, 3. ],\n",
       "       [5.9, 5.1, 1.8, 3. ]])"
      ]
     },
     "execution_count": 90,
     "metadata": {},
     "output_type": "execute_result"
    }
   ],
   "source": [
    "np.delete(iris, 1, axis=1)"
   ]
  },
  {
   "cell_type": "code",
   "execution_count": 91,
   "metadata": {},
   "outputs": [
    {
     "data": {
      "text/plain": [
       "array([[5.1, 3.5, 1.4, 0.2, 1. ],\n",
       "       [5.4, 3.9, 1.7, 0.4, 1. ],\n",
       "       [4.6, 3.4, 1.4, 0.3, 1. ],\n",
       "       [5. , 3.4, 1.5, 0.2, 1. ],\n",
       "       [4.4, 2.9, 1.4, 0.2, 1. ],\n",
       "       [4.9, 3.1, 1.5, 0.1, 1. ],\n",
       "       [5.4, 3.7, 1.5, 0.2, 1. ],\n",
       "       [4.8, 3.4, 1.6, 0.2, 1. ],\n",
       "       [4.8, 3. , 1.4, 0.1, 1. ],\n",
       "       [4.3, 3. , 1.1, 0.1, 1. ],\n",
       "       [5.8, 4. , 1.2, 0.2, 1. ],\n",
       "       [5.7, 4.4, 1.5, 0.4, 1. ],\n",
       "       [5.4, 3.9, 1.3, 0.4, 1. ],\n",
       "       [5.1, 3.5, 1.4, 0.3, 1. ],\n",
       "       [5.7, 3.8, 1.7, 0.3, 1. ],\n",
       "       [5.1, 3.8, 1.5, 0.3, 1. ],\n",
       "       [5.4, 3.4, 1.7, 0.2, 1. ],\n",
       "       [5.1, 3.7, 1.5, 0.4, 1. ],\n",
       "       [4.6, 3.6, 1. , 0.2, 1. ],\n",
       "       [5.1, 3.3, 1.7, 0.5, 1. ],\n",
       "       [4.8, 3.4, 1.9, 0.2, 1. ],\n",
       "       [5. , 3. , 1.6, 0.2, 1. ],\n",
       "       [5. , 3.4, 1.6, 0.4, 1. ],\n",
       "       [5.2, 3.5, 1.5, 0.2, 1. ],\n",
       "       [5.2, 3.4, 1.4, 0.2, 1. ],\n",
       "       [4.7, 3.2, 1.6, 0.2, 1. ],\n",
       "       [4.8, 3.1, 1.6, 0.2, 1. ],\n",
       "       [5.4, 3.4, 1.5, 0.4, 1. ],\n",
       "       [5.2, 4.1, 1.5, 0.1, 1. ],\n",
       "       [5.5, 4.2, 1.4, 0.2, 1. ],\n",
       "       [4.9, 3.1, 1.5, 0.2, 1. ],\n",
       "       [5. , 3.2, 1.2, 0.2, 1. ],\n",
       "       [5.5, 3.5, 1.3, 0.2, 1. ],\n",
       "       [4.9, 3.6, 1.4, 0.1, 1. ],\n",
       "       [4.4, 3. , 1.3, 0.2, 1. ],\n",
       "       [5.1, 3.4, 1.5, 0.2, 1. ],\n",
       "       [5. , 3.5, 1.3, 0.3, 1. ],\n",
       "       [4.5, 2.3, 1.3, 0.3, 1. ],\n",
       "       [4.4, 3.2, 1.3, 0.2, 1. ],\n",
       "       [5. , 3.5, 1.6, 0.6, 1. ],\n",
       "       [5.1, 3.8, 1.9, 0.4, 1. ],\n",
       "       [4.8, 3. , 1.4, 0.3, 1. ],\n",
       "       [5.1, 3.8, 1.6, 0.2, 1. ],\n",
       "       [4.6, 3.2, 1.4, 0.2, 1. ],\n",
       "       [5.3, 3.7, 1.5, 0.2, 1. ],\n",
       "       [5. , 3.3, 1.4, 0.2, 1. ],\n",
       "       [7. , 3.2, 4.7, 1.4, 2. ],\n",
       "       [6.4, 3.2, 4.5, 1.5, 2. ],\n",
       "       [6.9, 3.1, 4.9, 1.5, 2. ],\n",
       "       [5.5, 2.3, 4. , 1.3, 2. ],\n",
       "       [6.5, 2.8, 4.6, 1.5, 2. ],\n",
       "       [5.7, 2.8, 4.5, 1.3, 2. ],\n",
       "       [6.3, 3.3, 4.7, 1.6, 2. ],\n",
       "       [4.9, 2.4, 3.3, 1. , 2. ],\n",
       "       [6.6, 2.9, 4.6, 1.3, 2. ],\n",
       "       [5.2, 2.7, 3.9, 1.4, 2. ],\n",
       "       [5. , 2. , 3.5, 1. , 2. ],\n",
       "       [5.9, 3. , 4.2, 1.5, 2. ],\n",
       "       [6. , 2.2, 4. , 1. , 2. ],\n",
       "       [6.1, 2.9, 4.7, 1.4, 2. ],\n",
       "       [5.6, 2.9, 3.6, 1.3, 2. ],\n",
       "       [6.7, 3.1, 4.4, 1.4, 2. ],\n",
       "       [5.6, 3. , 4.5, 1.5, 2. ],\n",
       "       [5.8, 2.7, 4.1, 1. , 2. ],\n",
       "       [6.2, 2.2, 4.5, 1.5, 2. ],\n",
       "       [5.6, 2.5, 3.9, 1.1, 2. ],\n",
       "       [5.9, 3.2, 4.8, 1.8, 2. ],\n",
       "       [6.1, 2.8, 4. , 1.3, 2. ],\n",
       "       [6.3, 2.5, 4.9, 1.5, 2. ],\n",
       "       [6.1, 2.8, 4.7, 1.2, 2. ],\n",
       "       [6.4, 2.9, 4.3, 1.3, 2. ],\n",
       "       [6.6, 3. , 4.4, 1.4, 2. ],\n",
       "       [6.8, 2.8, 4.8, 1.4, 2. ],\n",
       "       [6.7, 3. , 5. , 1.7, 2. ],\n",
       "       [6. , 2.9, 4.5, 1.5, 2. ],\n",
       "       [5.7, 2.6, 3.5, 1. , 2. ],\n",
       "       [5.5, 2.4, 3.8, 1.1, 2. ],\n",
       "       [5.5, 2.4, 3.7, 1. , 2. ],\n",
       "       [5.8, 2.7, 3.9, 1.2, 2. ],\n",
       "       [6. , 2.7, 5.1, 1.6, 2. ],\n",
       "       [5.4, 3. , 4.5, 1.5, 2. ],\n",
       "       [6. , 3.4, 4.5, 1.6, 2. ],\n",
       "       [6.7, 3.1, 4.7, 1.5, 2. ],\n",
       "       [6.3, 2.3, 4.4, 1.3, 2. ],\n",
       "       [5.6, 3. , 4.1, 1.3, 2. ],\n",
       "       [5.5, 2.5, 4. , 1.3, 2. ],\n",
       "       [5.5, 2.6, 4.4, 1.2, 2. ],\n",
       "       [6.1, 3. , 4.6, 1.4, 2. ],\n",
       "       [5.8, 2.6, 4. , 1.2, 2. ],\n",
       "       [5. , 2.3, 3.3, 1. , 2. ],\n",
       "       [5.6, 2.7, 4.2, 1.3, 2. ],\n",
       "       [5.7, 3. , 4.2, 1.2, 2. ],\n",
       "       [5.7, 2.9, 4.2, 1.3, 2. ],\n",
       "       [6.2, 2.9, 4.3, 1.3, 2. ],\n",
       "       [5.1, 2.5, 3. , 1.1, 2. ],\n",
       "       [5.7, 2.8, 4.1, 1.3, 2. ],\n",
       "       [6.3, 3.3, 6. , 2.5, 3. ],\n",
       "       [5.8, 2.7, 5.1, 1.9, 3. ],\n",
       "       [7.1, 3. , 5.9, 2.1, 3. ],\n",
       "       [6.3, 2.9, 5.6, 1.8, 3. ],\n",
       "       [6.5, 3. , 5.8, 2.2, 3. ],\n",
       "       [7.6, 3. , 6.6, 2.1, 3. ],\n",
       "       [4.9, 2.5, 4.5, 1.7, 3. ],\n",
       "       [7.3, 2.9, 6.3, 1.8, 3. ],\n",
       "       [6.7, 2.5, 5.8, 1.8, 3. ],\n",
       "       [7.2, 3.6, 6.1, 2.5, 3. ],\n",
       "       [6.5, 3.2, 5.1, 2. , 3. ],\n",
       "       [6.4, 2.7, 5.3, 1.9, 3. ],\n",
       "       [6.8, 3. , 5.5, 2.1, 3. ],\n",
       "       [5.7, 2.5, 5. , 2. , 3. ],\n",
       "       [5.8, 2.8, 5.1, 2.4, 3. ],\n",
       "       [6.4, 3.2, 5.3, 2.3, 3. ],\n",
       "       [6.5, 3. , 5.5, 1.8, 3. ],\n",
       "       [7.7, 3.8, 6.7, 2.2, 3. ],\n",
       "       [7.7, 2.6, 6.9, 2.3, 3. ],\n",
       "       [6. , 2.2, 5. , 1.5, 3. ],\n",
       "       [6.9, 3.2, 5.7, 2.3, 3. ],\n",
       "       [5.6, 2.8, 4.9, 2. , 3. ],\n",
       "       [7.7, 2.8, 6.7, 2. , 3. ],\n",
       "       [6.3, 2.7, 4.9, 1.8, 3. ],\n",
       "       [6.7, 3.3, 5.7, 2.1, 3. ],\n",
       "       [7.2, 3.2, 6. , 1.8, 3. ],\n",
       "       [6.2, 2.8, 4.8, 1.8, 3. ],\n",
       "       [6.1, 3. , 4.9, 1.8, 3. ],\n",
       "       [6.4, 2.8, 5.6, 2.1, 3. ],\n",
       "       [7.2, 3. , 5.8, 1.6, 3. ],\n",
       "       [7.4, 2.8, 6.1, 1.9, 3. ],\n",
       "       [7.9, 3.8, 6.4, 2. , 3. ],\n",
       "       [6.4, 2.8, 5.6, 2.2, 3. ],\n",
       "       [6.3, 2.8, 5.1, 1.5, 3. ],\n",
       "       [6.1, 2.6, 5.6, 1.4, 3. ],\n",
       "       [7.7, 3. , 6.1, 2.3, 3. ],\n",
       "       [6.3, 3.4, 5.6, 2.4, 3. ],\n",
       "       [6.4, 3.1, 5.5, 1.8, 3. ],\n",
       "       [6. , 3. , 4.8, 1.8, 3. ],\n",
       "       [6.9, 3.1, 5.4, 2.1, 3. ],\n",
       "       [6.7, 3.1, 5.6, 2.4, 3. ],\n",
       "       [6.9, 3.1, 5.1, 2.3, 3. ],\n",
       "       [5.8, 2.7, 5.1, 1.9, 3. ],\n",
       "       [6.8, 3.2, 5.9, 2.3, 3. ],\n",
       "       [6.7, 3.3, 5.7, 2.5, 3. ],\n",
       "       [6.7, 3. , 5.2, 2.3, 3. ],\n",
       "       [6.3, 2.5, 5. , 1.9, 3. ],\n",
       "       [6.5, 3. , 5.2, 2. , 3. ],\n",
       "       [6.2, 3.4, 5.4, 2.3, 3. ],\n",
       "       [5.9, 3. , 5.1, 1.8, 3. ]])"
      ]
     },
     "execution_count": 91,
     "metadata": {},
     "output_type": "execute_result"
    }
   ],
   "source": [
    "np.delete(iris, [1, 2, 3, 4], axis=0)"
   ]
  },
  {
   "cell_type": "code",
   "execution_count": 93,
   "metadata": {},
   "outputs": [
    {
     "data": {
      "text/plain": [
       "array([ 1,  3,  4,  5,  6,  7,  8,  9, 10, 11, 12, 13, 14, 15, 16, 18, 19,\n",
       "       20])"
      ]
     },
     "execution_count": 93,
     "metadata": {},
     "output_type": "execute_result"
    }
   ],
   "source": [
    "np.delete(notre_tableau, 1)"
   ]
  },
  {
   "cell_type": "code",
   "execution_count": 100,
   "metadata": {},
   "outputs": [
    {
     "data": {
      "text/plain": [
       "array([ 1,  2,  3,  4,  5,  6,  7,  8,  9, 10, 11, 12, 13, 14, 15, 16, 18,\n",
       "       19, 20])"
      ]
     },
     "execution_count": 100,
     "metadata": {},
     "output_type": "execute_result"
    }
   ],
   "source": [
    "notre_tableau = np.array([1, 2, 3, 4, 5, 6, 7, 8, 9, 10, 11, 12, 13, 14, 15, 16, 18, 19, 20])\n",
    "notre_tableau"
   ]
  },
  {
   "cell_type": "code",
   "execution_count": 101,
   "metadata": {},
   "outputs": [
    {
     "name": "stdout",
     "output_type": "stream",
     "text": [
      "[1 2] [3 4 5 6] [ 7  8  9 10 11 12 13 14 15 16 18 19 20]\n"
     ]
    }
   ],
   "source": [
    "notre_tableau1, notre_tableau2, notre_tableau3 = np.split(notre_tableau, [2, 6])\n",
    "print(notre_tableau1, notre_tableau2, notre_tableau3)"
   ]
  },
  {
   "cell_type": "code",
   "execution_count": 103,
   "metadata": {},
   "outputs": [
    {
     "name": "stdout",
     "output_type": "stream",
     "text": [
      "avant division\n",
      "[[ 2.  5.  6.]\n",
      " [ 9. 10. 11.]\n",
      " [ 5.  6.  9.]]\n",
      "apres division\n",
      "[[ 2.  5.  6.]\n",
      " [ 9. 10. 11.]]\n",
      "[[5. 6. 9.]]\n"
     ]
    }
   ],
   "source": [
    "array = np.array([[2, 5, 6], [9, 10, 11], [5, 6, 9]], dtype=float)\n",
    "print(\"avant division\")\n",
    "print(array)\n",
    "\n",
    "array1, array2 = np.vsplit(array, [2])\n",
    "print(\"apres division\")\n",
    "print(array1)\n",
    "print(array2)"
   ]
  },
  {
   "cell_type": "code",
   "execution_count": 104,
   "metadata": {},
   "outputs": [
    {
     "name": "stdout",
     "output_type": "stream",
     "text": [
      "avant division\n",
      "[[ 2.  5.  6.]\n",
      " [ 9. 10. 11.]\n",
      " [ 5.  6.  9.]]\n",
      "apres division\n",
      "[[ 2.  5.]\n",
      " [ 9. 10.]\n",
      " [ 5.  6.]]\n",
      "[[ 6.]\n",
      " [11.]\n",
      " [ 9.]]\n"
     ]
    }
   ],
   "source": [
    "array = np.array([[2, 5, 6], [9, 10, 11], [5, 6, 9]], dtype=float)\n",
    "print(\"avant division\")\n",
    "print(array)\n",
    "\n",
    "array1, array2 = np.hsplit(array, [2])\n",
    "print(\"apres division\")\n",
    "print(array1)\n",
    "print(array2)"
   ]
  },
  {
   "cell_type": "code",
   "execution_count": 105,
   "metadata": {},
   "outputs": [
    {
     "name": "stdout",
     "output_type": "stream",
     "text": [
      "[1 2 3 4 5]\n",
      "[6 7 8 9]\n"
     ]
    },
    {
     "data": {
      "text/plain": [
       "array([1, 2, 3, 4, 5, 6, 7, 8, 9, 6, 7, 8, 9])"
      ]
     },
     "execution_count": 105,
     "metadata": {},
     "output_type": "execute_result"
    }
   ],
   "source": [
    "array1 = np.array([1, 2, 3, 4, 5])\n",
    "array2 = np.array([6, 7, 8, 9])\n",
    "array3 = np.array([6, 7, 8, 9])\n",
    "print(array1)\n",
    "print(array2)\n",
    "np.concatenate([array1, array2, array3])"
   ]
  },
  {
   "cell_type": "code",
   "execution_count": 107,
   "metadata": {},
   "outputs": [
    {
     "name": "stdout",
     "output_type": "stream",
     "text": [
      "[[1. 2. 3.]\n",
      " [4. 5. 6.]\n",
      " [7. 8. 9.]]\n",
      "[[ 2.  5.  6.]\n",
      " [ 9. 10. 11.]\n",
      " [ 5.  6.  9.]]\n"
     ]
    },
    {
     "data": {
      "text/plain": [
       "array([[ 1.,  2.,  3.],\n",
       "       [ 4.,  5.,  6.],\n",
       "       [ 7.,  8.,  9.],\n",
       "       [ 2.,  5.,  6.],\n",
       "       [ 9., 10., 11.],\n",
       "       [ 5.,  6.,  9.]])"
      ]
     },
     "execution_count": 107,
     "metadata": {},
     "output_type": "execute_result"
    }
   ],
   "source": [
    "array1 = np.array([[1, 2, 3,], [4, 5, 6], [7, 8, 9]], dtype=float)\n",
    "array2 = np.array([[2, 5, 6], [9, 10, 11], [5, 6, 9]], dtype=float)\n",
    "print(array1)\n",
    "print(array2)\n",
    "np.concatenate([array1, array2])"
   ]
  },
  {
   "cell_type": "code",
   "execution_count": 110,
   "metadata": {},
   "outputs": [
    {
     "name": "stdout",
     "output_type": "stream",
     "text": [
      "[15 16 47]\n",
      "----\n",
      "[[1. 2. 3.]\n",
      " [4. 5. 6.]\n",
      " [7. 8. 9.]]\n",
      "-----\n",
      "[[15. 16. 47.]\n",
      " [ 1.  2.  3.]\n",
      " [ 4.  5.  6.]\n",
      " [ 7.  8.  9.]]\n",
      "********\n",
      "[[15]\n",
      " [16]\n",
      " [47]]\n",
      "----\n",
      "[[1. 2. 3.]\n",
      " [4. 5. 6.]\n",
      " [7. 8. 9.]]\n",
      "-----\n",
      "[[15.  1.  2.  3.]\n",
      " [16.  4.  5.  6.]\n",
      " [47.  7.  8.  9.]]\n"
     ]
    }
   ],
   "source": [
    "array1 = np.array([15, 16, 47])\n",
    "array2 = np.array([[1, 2, 3,], [4, 5, 6], [7, 8, 9]], dtype=float)\n",
    "print(array1)\n",
    "print(\"----\")\n",
    "print(array2)\n",
    "print(\"-----\")\n",
    "print(np.vstack([array1, array2]))\n",
    "print(\"********\")\n",
    "array1 = np.array([[15], [16], [47]])\n",
    "print(array1)\n",
    "print(\"----\")\n",
    "print(array2)\n",
    "print(\"-----\")\n",
    "print(np.hstack([array1, array2]))"
   ]
  },
  {
   "cell_type": "code",
   "execution_count": 122,
   "metadata": {},
   "outputs": [
    {
     "name": "stdout",
     "output_type": "stream",
     "text": [
      "[[5.1   3.5   1.4   0.2   1.    2.55 ]\n",
      " [4.9   3.    1.4   0.2   1.    2.375]\n",
      " [4.7   3.2   1.3   0.2   1.    2.35 ]\n",
      " [4.6   3.1   1.5   0.2   1.    2.35 ]\n",
      " [5.    3.6   1.4   0.2   1.    2.55 ]\n",
      " [5.4   3.9   1.7   0.4   1.    2.85 ]\n",
      " [4.6   3.4   1.4   0.3   1.    2.425]\n",
      " [5.    3.4   1.5   0.2   1.    2.525]\n",
      " [4.4   2.9   1.4   0.2   1.    2.225]\n",
      " [4.9   3.1   1.5   0.1   1.    2.4  ]\n",
      " [5.4   3.7   1.5   0.2   1.    2.7  ]\n",
      " [4.8   3.4   1.6   0.2   1.    2.5  ]\n",
      " [4.8   3.    1.4   0.1   1.    2.325]\n",
      " [4.3   3.    1.1   0.1   1.    2.125]\n",
      " [5.8   4.    1.2   0.2   1.    2.8  ]\n",
      " [5.7   4.4   1.5   0.4   1.    3.   ]\n",
      " [5.4   3.9   1.3   0.4   1.    2.75 ]\n",
      " [5.1   3.5   1.4   0.3   1.    2.575]\n",
      " [5.7   3.8   1.7   0.3   1.    2.875]\n",
      " [5.1   3.8   1.5   0.3   1.    2.675]\n",
      " [5.4   3.4   1.7   0.2   1.    2.675]\n",
      " [5.1   3.7   1.5   0.4   1.    2.675]\n",
      " [4.6   3.6   1.    0.2   1.    2.35 ]\n",
      " [5.1   3.3   1.7   0.5   1.    2.65 ]\n",
      " [4.8   3.4   1.9   0.2   1.    2.575]\n",
      " [5.    3.    1.6   0.2   1.    2.45 ]\n",
      " [5.    3.4   1.6   0.4   1.    2.6  ]\n",
      " [5.2   3.5   1.5   0.2   1.    2.6  ]\n",
      " [5.2   3.4   1.4   0.2   1.    2.55 ]\n",
      " [4.7   3.2   1.6   0.2   1.    2.425]\n",
      " [4.8   3.1   1.6   0.2   1.    2.425]\n",
      " [5.4   3.4   1.5   0.4   1.    2.675]\n",
      " [5.2   4.1   1.5   0.1   1.    2.725]\n",
      " [5.5   4.2   1.4   0.2   1.    2.825]\n",
      " [4.9   3.1   1.5   0.2   1.    2.425]\n",
      " [5.    3.2   1.2   0.2   1.    2.4  ]\n",
      " [5.5   3.5   1.3   0.2   1.    2.625]\n",
      " [4.9   3.6   1.4   0.1   1.    2.5  ]\n",
      " [4.4   3.    1.3   0.2   1.    2.225]\n",
      " [5.1   3.4   1.5   0.2   1.    2.55 ]\n",
      " [5.    3.5   1.3   0.3   1.    2.525]\n",
      " [4.5   2.3   1.3   0.3   1.    2.1  ]\n",
      " [4.4   3.2   1.3   0.2   1.    2.275]\n",
      " [5.    3.5   1.6   0.6   1.    2.675]\n",
      " [5.1   3.8   1.9   0.4   1.    2.8  ]\n",
      " [4.8   3.    1.4   0.3   1.    2.375]\n",
      " [5.1   3.8   1.6   0.2   1.    2.675]\n",
      " [4.6   3.2   1.4   0.2   1.    2.35 ]\n",
      " [5.3   3.7   1.5   0.2   1.    2.675]\n",
      " [5.    3.3   1.4   0.2   1.    2.475]\n",
      " [7.    3.2   4.7   1.4   2.    4.075]\n",
      " [6.4   3.2   4.5   1.5   2.    3.9  ]\n",
      " [6.9   3.1   4.9   1.5   2.    4.1  ]\n",
      " [5.5   2.3   4.    1.3   2.    3.275]\n",
      " [6.5   2.8   4.6   1.5   2.    3.85 ]\n",
      " [5.7   2.8   4.5   1.3   2.    3.575]\n",
      " [6.3   3.3   4.7   1.6   2.    3.975]\n",
      " [4.9   2.4   3.3   1.    2.    2.9  ]\n",
      " [6.6   2.9   4.6   1.3   2.    3.85 ]\n",
      " [5.2   2.7   3.9   1.4   2.    3.3  ]\n",
      " [5.    2.    3.5   1.    2.    2.875]\n",
      " [5.9   3.    4.2   1.5   2.    3.65 ]\n",
      " [6.    2.2   4.    1.    2.    3.3  ]\n",
      " [6.1   2.9   4.7   1.4   2.    3.775]\n",
      " [5.6   2.9   3.6   1.3   2.    3.35 ]\n",
      " [6.7   3.1   4.4   1.4   2.    3.9  ]\n",
      " [5.6   3.    4.5   1.5   2.    3.65 ]\n",
      " [5.8   2.7   4.1   1.    2.    3.4  ]\n",
      " [6.2   2.2   4.5   1.5   2.    3.6  ]\n",
      " [5.6   2.5   3.9   1.1   2.    3.275]\n",
      " [5.9   3.2   4.8   1.8   2.    3.925]\n",
      " [6.1   2.8   4.    1.3   2.    3.55 ]\n",
      " [6.3   2.5   4.9   1.5   2.    3.8  ]\n",
      " [6.1   2.8   4.7   1.2   2.    3.7  ]\n",
      " [6.4   2.9   4.3   1.3   2.    3.725]\n",
      " [6.6   3.    4.4   1.4   2.    3.85 ]\n",
      " [6.8   2.8   4.8   1.4   2.    3.95 ]\n",
      " [6.7   3.    5.    1.7   2.    4.1  ]\n",
      " [6.    2.9   4.5   1.5   2.    3.725]\n",
      " [5.7   2.6   3.5   1.    2.    3.2  ]\n",
      " [5.5   2.4   3.8   1.1   2.    3.2  ]\n",
      " [5.5   2.4   3.7   1.    2.    3.15 ]\n",
      " [5.8   2.7   3.9   1.2   2.    3.4  ]\n",
      " [6.    2.7   5.1   1.6   2.    3.85 ]\n",
      " [5.4   3.    4.5   1.5   2.    3.6  ]\n",
      " [6.    3.4   4.5   1.6   2.    3.875]\n",
      " [6.7   3.1   4.7   1.5   2.    4.   ]\n",
      " [6.3   2.3   4.4   1.3   2.    3.575]\n",
      " [5.6   3.    4.1   1.3   2.    3.5  ]\n",
      " [5.5   2.5   4.    1.3   2.    3.325]\n",
      " [5.5   2.6   4.4   1.2   2.    3.425]\n",
      " [6.1   3.    4.6   1.4   2.    3.775]\n",
      " [5.8   2.6   4.    1.2   2.    3.4  ]\n",
      " [5.    2.3   3.3   1.    2.    2.9  ]\n",
      " [5.6   2.7   4.2   1.3   2.    3.45 ]\n",
      " [5.7   3.    4.2   1.2   2.    3.525]\n",
      " [5.7   2.9   4.2   1.3   2.    3.525]\n",
      " [6.2   2.9   4.3   1.3   2.    3.675]\n",
      " [5.1   2.5   3.    1.1   2.    2.925]\n",
      " [5.7   2.8   4.1   1.3   2.    3.475]\n",
      " [6.3   3.3   6.    2.5   3.    4.525]\n",
      " [5.8   2.7   5.1   1.9   3.    3.875]\n",
      " [7.1   3.    5.9   2.1   3.    4.525]\n",
      " [6.3   2.9   5.6   1.8   3.    4.15 ]\n",
      " [6.5   3.    5.8   2.2   3.    4.375]\n",
      " [7.6   3.    6.6   2.1   3.    4.825]\n",
      " [4.9   2.5   4.5   1.7   3.    3.4  ]\n",
      " [7.3   2.9   6.3   1.8   3.    4.575]\n",
      " [6.7   2.5   5.8   1.8   3.    4.2  ]\n",
      " [7.2   3.6   6.1   2.5   3.    4.85 ]\n",
      " [6.5   3.2   5.1   2.    3.    4.2  ]\n",
      " [6.4   2.7   5.3   1.9   3.    4.075]\n",
      " [6.8   3.    5.5   2.1   3.    4.35 ]\n",
      " [5.7   2.5   5.    2.    3.    3.8  ]\n",
      " [5.8   2.8   5.1   2.4   3.    4.025]\n",
      " [6.4   3.2   5.3   2.3   3.    4.3  ]\n",
      " [6.5   3.    5.5   1.8   3.    4.2  ]\n",
      " [7.7   3.8   6.7   2.2   3.    5.1  ]\n",
      " [7.7   2.6   6.9   2.3   3.    4.875]\n",
      " [6.    2.2   5.    1.5   3.    3.675]\n",
      " [6.9   3.2   5.7   2.3   3.    4.525]\n",
      " [5.6   2.8   4.9   2.    3.    3.825]\n",
      " [7.7   2.8   6.7   2.    3.    4.8  ]\n",
      " [6.3   2.7   4.9   1.8   3.    3.925]\n",
      " [6.7   3.3   5.7   2.1   3.    4.45 ]\n",
      " [7.2   3.2   6.    1.8   3.    4.55 ]\n",
      " [6.2   2.8   4.8   1.8   3.    3.9  ]\n",
      " [6.1   3.    4.9   1.8   3.    3.95 ]\n",
      " [6.4   2.8   5.6   2.1   3.    4.225]\n",
      " [7.2   3.    5.8   1.6   3.    4.4  ]\n",
      " [7.4   2.8   6.1   1.9   3.    4.55 ]\n",
      " [7.9   3.8   6.4   2.    3.    5.025]\n",
      " [6.4   2.8   5.6   2.2   3.    4.25 ]\n",
      " [6.3   2.8   5.1   1.5   3.    3.925]\n",
      " [6.1   2.6   5.6   1.4   3.    3.925]\n",
      " [7.7   3.    6.1   2.3   3.    4.775]\n",
      " [6.3   3.4   5.6   2.4   3.    4.425]\n",
      " [6.4   3.1   5.5   1.8   3.    4.2  ]\n",
      " [6.    3.    4.8   1.8   3.    3.9  ]\n",
      " [6.9   3.1   5.4   2.1   3.    4.375]\n",
      " [6.7   3.1   5.6   2.4   3.    4.45 ]\n",
      " [6.9   3.1   5.1   2.3   3.    4.35 ]\n",
      " [5.8   2.7   5.1   1.9   3.    3.875]\n",
      " [6.8   3.2   5.9   2.3   3.    4.55 ]\n",
      " [6.7   3.3   5.7   2.5   3.    4.55 ]\n",
      " [6.7   3.    5.2   2.3   3.    4.3  ]\n",
      " [6.3   2.5   5.    1.9   3.    3.925]\n",
      " [6.5   3.    5.2   2.    3.    4.175]\n",
      " [6.2   3.4   5.4   2.3   3.    4.325]\n",
      " [5.9   3.    5.1   1.8   3.    3.95 ]]\n"
     ]
    }
   ],
   "source": [
    "iris_mean = np.mean(iris[:,:4], axis=1)\n",
    "iris_mean\n",
    "print(np.insert(iris, 5,iris_mean, axis=1))"
   ]
  },
  {
   "cell_type": "code",
   "execution_count": 133,
   "metadata": {},
   "outputs": [
    {
     "name": "stdout",
     "output_type": "stream",
     "text": [
      "moyenne des colonnes\n",
      "[5.84333333 3.05733333 3.758      1.19933333 2.        ]\n",
      "-----------\n",
      "insert les moyenne sur la dernière ligne\n",
      "[[5.1        3.5        1.4        0.2        1.        ]\n",
      " [4.9        3.         1.4        0.2        1.        ]\n",
      " [4.7        3.2        1.3        0.2        1.        ]\n",
      " [4.6        3.1        1.5        0.2        1.        ]\n",
      " [5.         3.6        1.4        0.2        1.        ]\n",
      " [5.4        3.9        1.7        0.4        1.        ]\n",
      " [4.6        3.4        1.4        0.3        1.        ]\n",
      " [5.         3.4        1.5        0.2        1.        ]\n",
      " [4.4        2.9        1.4        0.2        1.        ]\n",
      " [4.9        3.1        1.5        0.1        1.        ]\n",
      " [5.4        3.7        1.5        0.2        1.        ]\n",
      " [4.8        3.4        1.6        0.2        1.        ]\n",
      " [4.8        3.         1.4        0.1        1.        ]\n",
      " [4.3        3.         1.1        0.1        1.        ]\n",
      " [5.8        4.         1.2        0.2        1.        ]\n",
      " [5.7        4.4        1.5        0.4        1.        ]\n",
      " [5.4        3.9        1.3        0.4        1.        ]\n",
      " [5.1        3.5        1.4        0.3        1.        ]\n",
      " [5.7        3.8        1.7        0.3        1.        ]\n",
      " [5.1        3.8        1.5        0.3        1.        ]\n",
      " [5.4        3.4        1.7        0.2        1.        ]\n",
      " [5.1        3.7        1.5        0.4        1.        ]\n",
      " [4.6        3.6        1.         0.2        1.        ]\n",
      " [5.1        3.3        1.7        0.5        1.        ]\n",
      " [4.8        3.4        1.9        0.2        1.        ]\n",
      " [5.         3.         1.6        0.2        1.        ]\n",
      " [5.         3.4        1.6        0.4        1.        ]\n",
      " [5.2        3.5        1.5        0.2        1.        ]\n",
      " [5.2        3.4        1.4        0.2        1.        ]\n",
      " [4.7        3.2        1.6        0.2        1.        ]\n",
      " [4.8        3.1        1.6        0.2        1.        ]\n",
      " [5.4        3.4        1.5        0.4        1.        ]\n",
      " [5.2        4.1        1.5        0.1        1.        ]\n",
      " [5.5        4.2        1.4        0.2        1.        ]\n",
      " [4.9        3.1        1.5        0.2        1.        ]\n",
      " [5.         3.2        1.2        0.2        1.        ]\n",
      " [5.5        3.5        1.3        0.2        1.        ]\n",
      " [4.9        3.6        1.4        0.1        1.        ]\n",
      " [4.4        3.         1.3        0.2        1.        ]\n",
      " [5.1        3.4        1.5        0.2        1.        ]\n",
      " [5.         3.5        1.3        0.3        1.        ]\n",
      " [4.5        2.3        1.3        0.3        1.        ]\n",
      " [4.4        3.2        1.3        0.2        1.        ]\n",
      " [5.         3.5        1.6        0.6        1.        ]\n",
      " [5.1        3.8        1.9        0.4        1.        ]\n",
      " [4.8        3.         1.4        0.3        1.        ]\n",
      " [5.1        3.8        1.6        0.2        1.        ]\n",
      " [4.6        3.2        1.4        0.2        1.        ]\n",
      " [5.3        3.7        1.5        0.2        1.        ]\n",
      " [5.         3.3        1.4        0.2        1.        ]\n",
      " [7.         3.2        4.7        1.4        2.        ]\n",
      " [6.4        3.2        4.5        1.5        2.        ]\n",
      " [6.9        3.1        4.9        1.5        2.        ]\n",
      " [5.5        2.3        4.         1.3        2.        ]\n",
      " [6.5        2.8        4.6        1.5        2.        ]\n",
      " [5.7        2.8        4.5        1.3        2.        ]\n",
      " [6.3        3.3        4.7        1.6        2.        ]\n",
      " [4.9        2.4        3.3        1.         2.        ]\n",
      " [6.6        2.9        4.6        1.3        2.        ]\n",
      " [5.2        2.7        3.9        1.4        2.        ]\n",
      " [5.         2.         3.5        1.         2.        ]\n",
      " [5.9        3.         4.2        1.5        2.        ]\n",
      " [6.         2.2        4.         1.         2.        ]\n",
      " [6.1        2.9        4.7        1.4        2.        ]\n",
      " [5.6        2.9        3.6        1.3        2.        ]\n",
      " [6.7        3.1        4.4        1.4        2.        ]\n",
      " [5.6        3.         4.5        1.5        2.        ]\n",
      " [5.8        2.7        4.1        1.         2.        ]\n",
      " [6.2        2.2        4.5        1.5        2.        ]\n",
      " [5.6        2.5        3.9        1.1        2.        ]\n",
      " [5.9        3.2        4.8        1.8        2.        ]\n",
      " [6.1        2.8        4.         1.3        2.        ]\n",
      " [6.3        2.5        4.9        1.5        2.        ]\n",
      " [6.1        2.8        4.7        1.2        2.        ]\n",
      " [6.4        2.9        4.3        1.3        2.        ]\n",
      " [6.6        3.         4.4        1.4        2.        ]\n",
      " [6.8        2.8        4.8        1.4        2.        ]\n",
      " [6.7        3.         5.         1.7        2.        ]\n",
      " [6.         2.9        4.5        1.5        2.        ]\n",
      " [5.7        2.6        3.5        1.         2.        ]\n",
      " [5.5        2.4        3.8        1.1        2.        ]\n",
      " [5.5        2.4        3.7        1.         2.        ]\n",
      " [5.8        2.7        3.9        1.2        2.        ]\n",
      " [6.         2.7        5.1        1.6        2.        ]\n",
      " [5.4        3.         4.5        1.5        2.        ]\n",
      " [6.         3.4        4.5        1.6        2.        ]\n",
      " [6.7        3.1        4.7        1.5        2.        ]\n",
      " [6.3        2.3        4.4        1.3        2.        ]\n",
      " [5.6        3.         4.1        1.3        2.        ]\n",
      " [5.5        2.5        4.         1.3        2.        ]\n",
      " [5.5        2.6        4.4        1.2        2.        ]\n",
      " [6.1        3.         4.6        1.4        2.        ]\n",
      " [5.8        2.6        4.         1.2        2.        ]\n",
      " [5.         2.3        3.3        1.         2.        ]\n",
      " [5.6        2.7        4.2        1.3        2.        ]\n",
      " [5.7        3.         4.2        1.2        2.        ]\n",
      " [5.7        2.9        4.2        1.3        2.        ]\n",
      " [6.2        2.9        4.3        1.3        2.        ]\n",
      " [5.1        2.5        3.         1.1        2.        ]\n",
      " [5.7        2.8        4.1        1.3        2.        ]\n",
      " [6.3        3.3        6.         2.5        3.        ]\n",
      " [5.8        2.7        5.1        1.9        3.        ]\n",
      " [7.1        3.         5.9        2.1        3.        ]\n",
      " [6.3        2.9        5.6        1.8        3.        ]\n",
      " [6.5        3.         5.8        2.2        3.        ]\n",
      " [7.6        3.         6.6        2.1        3.        ]\n",
      " [4.9        2.5        4.5        1.7        3.        ]\n",
      " [7.3        2.9        6.3        1.8        3.        ]\n",
      " [6.7        2.5        5.8        1.8        3.        ]\n",
      " [7.2        3.6        6.1        2.5        3.        ]\n",
      " [6.5        3.2        5.1        2.         3.        ]\n",
      " [6.4        2.7        5.3        1.9        3.        ]\n",
      " [6.8        3.         5.5        2.1        3.        ]\n",
      " [5.7        2.5        5.         2.         3.        ]\n",
      " [5.8        2.8        5.1        2.4        3.        ]\n",
      " [6.4        3.2        5.3        2.3        3.        ]\n",
      " [6.5        3.         5.5        1.8        3.        ]\n",
      " [7.7        3.8        6.7        2.2        3.        ]\n",
      " [7.7        2.6        6.9        2.3        3.        ]\n",
      " [6.         2.2        5.         1.5        3.        ]\n",
      " [6.9        3.2        5.7        2.3        3.        ]\n",
      " [5.6        2.8        4.9        2.         3.        ]\n",
      " [7.7        2.8        6.7        2.         3.        ]\n",
      " [6.3        2.7        4.9        1.8        3.        ]\n",
      " [6.7        3.3        5.7        2.1        3.        ]\n",
      " [7.2        3.2        6.         1.8        3.        ]\n",
      " [6.2        2.8        4.8        1.8        3.        ]\n",
      " [6.1        3.         4.9        1.8        3.        ]\n",
      " [6.4        2.8        5.6        2.1        3.        ]\n",
      " [7.2        3.         5.8        1.6        3.        ]\n",
      " [7.4        2.8        6.1        1.9        3.        ]\n",
      " [7.9        3.8        6.4        2.         3.        ]\n",
      " [6.4        2.8        5.6        2.2        3.        ]\n",
      " [6.3        2.8        5.1        1.5        3.        ]\n",
      " [6.1        2.6        5.6        1.4        3.        ]\n",
      " [7.7        3.         6.1        2.3        3.        ]\n",
      " [6.3        3.4        5.6        2.4        3.        ]\n",
      " [6.4        3.1        5.5        1.8        3.        ]\n",
      " [6.         3.         4.8        1.8        3.        ]\n",
      " [6.9        3.1        5.4        2.1        3.        ]\n",
      " [6.7        3.1        5.6        2.4        3.        ]\n",
      " [6.9        3.1        5.1        2.3        3.        ]\n",
      " [5.8        2.7        5.1        1.9        3.        ]\n",
      " [6.8        3.2        5.9        2.3        3.        ]\n",
      " [6.7        3.3        5.7        2.5        3.        ]\n",
      " [6.7        3.         5.2        2.3        3.        ]\n",
      " [6.3        2.5        5.         1.9        3.        ]\n",
      " [6.5        3.         5.2        2.         3.        ]\n",
      " [6.2        3.4        5.4        2.3        3.        ]\n",
      " [5.9        3.         5.1        1.8        3.        ]\n",
      " [5.84333333 3.05733333 3.758      1.19933333 2.        ]]\n"
     ]
    }
   ],
   "source": [
    "iris_mean = np.mean(iris, axis=0)\n",
    "print(\"moyenne des colonnes\")\n",
    "print(iris_mean)\n",
    "print(\"-----------\")\n",
    "print(\"insert les moyenne sur la dernière ligne\")\n",
    "print(np.insert(iris, iris.shape[0],iris_mean, axis=0))"
   ]
  },
  {
   "cell_type": "code",
   "execution_count": null,
   "metadata": {},
   "outputs": [],
   "source": []
  }
 ],
 "metadata": {
  "kernelspec": {
   "display_name": "Python 3",
   "language": "python",
   "name": "python3"
  },
  "language_info": {
   "codemirror_mode": {
    "name": "ipython",
    "version": 3
   },
   "file_extension": ".py",
   "mimetype": "text/x-python",
   "name": "python",
   "nbconvert_exporter": "python",
   "pygments_lexer": "ipython3",
   "version": "3.8.5"
  }
 },
 "nbformat": 4,
 "nbformat_minor": 4
}
