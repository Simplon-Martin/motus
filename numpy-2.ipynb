{
 "cells": [
  {
   "cell_type": "code",
   "execution_count": 1,
   "metadata": {},
   "outputs": [
    {
     "name": "stdout",
     "output_type": "stream",
     "text": [
      "[['1986' 'Western Pacific' 'Viet Nam' 'Wine' '0']\n",
      " ['1986' 'Americas' 'Uruguay' 'Other' '0.5']\n",
      " ['1985' 'Africa' \"Cte d'Ivoire\" 'Wine' '1.62']\n",
      " ...\n",
      " ['1986' 'Europe' 'Switzerland' 'Spirits' '2.54']\n",
      " ['1987' 'Western Pacific' 'Papua New Guinea' 'Other' '0']\n",
      " ['1986' 'Africa' 'Swaziland' 'Other' '5.15']]\n"
     ]
    },
    {
     "data": {
      "text/plain": [
       "(3257, 5)"
      ]
     },
     "execution_count": 1,
     "metadata": {},
     "output_type": "execute_result"
    }
   ],
   "source": [
    "import numpy as np\n",
    "world_alcohol = np.genfromtxt(\"Jeux_de_données/world_alcohol.csv\", delimiter=\",\", dtype=\"U75\" , skip_header=1)\n",
    "print(world_alcohol)\n",
    "world_alcohol.shape"
   ]
  },
  {
   "cell_type": "code",
   "execution_count": 9,
   "metadata": {},
   "outputs": [
    {
     "name": "stdout",
     "output_type": "stream",
     "text": [
      "[False False False ... False False False]\n"
     ]
    }
   ],
   "source": [
    "countries_is_canada = world_alcohol[:, 2] == \"Canada\"\n",
    "print(countries_is_canada)"
   ]
  },
  {
   "cell_type": "code",
   "execution_count": 10,
   "metadata": {},
   "outputs": [
    {
     "name": "stdout",
     "output_type": "stream",
     "text": [
      "[['1984' 'Americas' 'Canada' 'Spirits' '3.35']\n",
      " ['1989' 'Americas' 'Canada' 'Wine' '1.27']\n",
      " ['1984' 'Americas' 'Canada' 'Beer' '5']\n",
      " ['1985' 'Americas' 'Canada' 'Beer' '4.94']\n",
      " ['1987' 'Americas' 'Canada' 'Wine' '1.3']\n",
      " ['1987' 'Americas' 'Canada' 'Beer' '4.83']\n",
      " ['1986' 'Americas' 'Canada' 'Other' '']\n",
      " ['1986' 'Americas' 'Canada' 'Spirits' '3.11']\n",
      " ['1985' 'Americas' 'Canada' 'Spirits' '3.21']\n",
      " ['1985' 'Americas' 'Canada' 'Other' '']\n",
      " ['1986' 'Americas' 'Canada' 'Beer' '4.87']\n",
      " ['1984' 'Americas' 'Canada' 'Wine' '1.24']\n",
      " ['1989' 'Americas' 'Canada' 'Spirits' '2.91']\n",
      " ['1984' 'Americas' 'Canada' 'Other' '']\n",
      " ['1985' 'Americas' 'Canada' 'Wine' '1.29']\n",
      " ['1987' 'Americas' 'Canada' 'Spirits' '2.99']\n",
      " ['1989' 'Americas' 'Canada' 'Beer' '4.82']\n",
      " ['1989' 'Americas' 'Canada' 'Other' '']\n",
      " ['1986' 'Americas' 'Canada' 'Wine' '1.33']\n",
      " ['1987' 'Americas' 'Canada' 'Other' '']]\n",
      "\n",
      "(20, 5)\n"
     ]
    }
   ],
   "source": [
    "# countries_is_canada = world_alcohol[world_alcohol[:, 2] == \"Canada\"]\n",
    "countries_is_canada = world_alcohol[countries_is_canada]\n",
    "print(countries_is_canada)\n",
    "print()\n",
    "print(countries_is_canada.shape)"
   ]
  },
  {
   "cell_type": "code",
   "execution_count": 24,
   "metadata": {},
   "outputs": [
    {
     "name": "stdout",
     "output_type": "stream",
     "text": [
      "[['1984' 'Africa' 'Algeria' 'Spirits' '0.01']\n",
      " ['1987' 'Africa' 'Algeria' 'Beer' '0.17']\n",
      " ['1987' 'Africa' 'Algeria' 'Spirits' '0.01']\n",
      " ['1986' 'Africa' 'Algeria' 'Wine' '0.1']\n",
      " ['1984' 'Africa' 'Algeria' 'Other' '0']\n",
      " ['1989' 'Africa' 'Algeria' 'Beer' '0.16']\n",
      " ['1989' 'Africa' 'Algeria' 'Spirits' '0.01']\n",
      " ['1989' 'Africa' 'Algeria' 'Wine' '0.23']\n",
      " ['1986' 'Africa' 'Algeria' 'Spirits' '0.01']\n",
      " ['1984' 'Africa' 'Algeria' 'Wine' '0.12']\n",
      " ['1985' 'Africa' 'Algeria' 'Beer' '0.19']\n",
      " ['1985' 'Africa' 'Algeria' 'Other' '0']\n",
      " ['1986' 'Africa' 'Algeria' 'Beer' '0.18']\n",
      " ['1985' 'Africa' 'Algeria' 'Wine' '0.11']\n",
      " ['1986' 'Africa' 'Algeria' 'Other' '0']\n",
      " ['1989' 'Africa' 'Algeria' 'Other' '0']\n",
      " ['1987' 'Africa' 'Algeria' 'Other' '0']\n",
      " ['1984' 'Africa' 'Algeria' 'Beer' '0.2']\n",
      " ['1985' 'Africa' 'Algeria' 'Spirits' '0.01']\n",
      " ['1987' 'Africa' 'Algeria' 'Wine' '0.1']]\n",
      "\n",
      "(20, 5)\n"
     ]
    }
   ],
   "source": [
    "countries_is_algeria = world_alcohol[:, 2] == \"Algeria\"\n",
    "countries_is_algeria = world_alcohol[countries_is_algeria]\n",
    "print(countries_is_algeria)\n",
    "print()\n",
    "print(countries_is_algeria.shape)"
   ]
  },
  {
   "cell_type": "code",
   "execution_count": 39,
   "metadata": {},
   "outputs": [
    {
     "name": "stdout",
     "output_type": "stream",
     "text": [
      "[False False False ... False False False]\n",
      "646\n"
     ]
    }
   ],
   "source": [
    "year_1984 = world_alcohol[:, 0] == \"1984\"\n",
    "print(year_1984)\n",
    "year_tab = world_alcohol[year_1984]\n",
    "print(year_tab.shape[0])"
   ]
  },
  {
   "cell_type": "code",
   "execution_count": 41,
   "metadata": {},
   "outputs": [
    {
     "name": "stdout",
     "output_type": "stream",
     "text": [
      "[['1986' 'Africa' 'Algeria' 'Wine' '0.1']\n",
      " ['1986' 'Africa' 'Algeria' 'Spirits' '0.01']\n",
      " ['1986' 'Africa' 'Algeria' 'Beer' '0.18']\n",
      " ['1986' 'Africa' 'Algeria' 'Other' '0']]\n",
      "\n",
      "4\n"
     ]
    }
   ],
   "source": [
    "is_algeria_1986 = (world_alcohol[:, 0] == \"1986\") & (world_alcohol[:, 2] == \"Algeria\")\n",
    "row_is_algeria_1986 = world_alcohol[is_algeria_1986]\n",
    "print(row_is_algeria_1986)\n",
    "print()\n",
    "print(row_is_algeria_1986.shape[0])"
   ]
  },
  {
   "cell_type": "code",
   "execution_count": 44,
   "metadata": {},
   "outputs": [
    {
     "name": "stdout",
     "output_type": "stream",
     "text": [
      "[['1984' 'Americas' 'Canada' 'Spirits' '3.35']\n",
      " ['1984' 'Africa' 'Algeria' 'Spirits' '0.01']\n",
      " ['1987' 'Africa' 'Algeria' 'Beer' '0.17']\n",
      " ['1987' 'Africa' 'Algeria' 'Spirits' '0.01']\n",
      " ['1986' 'Africa' 'Algeria' 'Wine' '0.1']\n",
      " ['1989' 'Americas' 'Canada' 'Wine' '1.27']\n",
      " ['1984' 'Americas' 'Canada' 'Beer' '5']\n",
      " ['1985' 'Americas' 'Canada' 'Beer' '4.94']\n",
      " ['1987' 'Americas' 'Canada' 'Wine' '1.3']\n",
      " ['1984' 'Africa' 'Algeria' 'Other' '0']\n",
      " ['1989' 'Africa' 'Algeria' 'Beer' '0.16']\n",
      " ['1989' 'Africa' 'Algeria' 'Spirits' '0.01']\n",
      " ['1989' 'Africa' 'Algeria' 'Wine' '0.23']\n",
      " ['1987' 'Americas' 'Canada' 'Beer' '4.83']\n",
      " ['1986' 'Africa' 'Algeria' 'Spirits' '0.01']\n",
      " ['1984' 'Africa' 'Algeria' 'Wine' '0.12']\n",
      " ['1986' 'Americas' 'Canada' 'Other' '']\n",
      " ['1985' 'Africa' 'Algeria' 'Beer' '0.19']\n",
      " ['1986' 'Americas' 'Canada' 'Spirits' '3.11']\n",
      " ['1985' 'Africa' 'Algeria' 'Other' '0']\n",
      " ['1985' 'Americas' 'Canada' 'Spirits' '3.21']\n",
      " ['1985' 'Americas' 'Canada' 'Other' '']\n",
      " ['1986' 'Americas' 'Canada' 'Beer' '4.87']\n",
      " ['1986' 'Africa' 'Algeria' 'Beer' '0.18']\n",
      " ['1985' 'Africa' 'Algeria' 'Wine' '0.11']\n",
      " ['1984' 'Americas' 'Canada' 'Wine' '1.24']\n",
      " ['1986' 'Africa' 'Algeria' 'Other' '0']\n",
      " ['1989' 'Africa' 'Algeria' 'Other' '0']\n",
      " ['1987' 'Africa' 'Algeria' 'Other' '0']\n",
      " ['1989' 'Americas' 'Canada' 'Spirits' '2.91']\n",
      " ['1984' 'Africa' 'Algeria' 'Beer' '0.2']\n",
      " ['1985' 'Africa' 'Algeria' 'Spirits' '0.01']\n",
      " ['1987' 'Africa' 'Algeria' 'Wine' '0.1']\n",
      " ['1984' 'Americas' 'Canada' 'Other' '']\n",
      " ['1985' 'Americas' 'Canada' 'Wine' '1.29']\n",
      " ['1987' 'Americas' 'Canada' 'Spirits' '2.99']\n",
      " ['1989' 'Americas' 'Canada' 'Beer' '4.82']\n",
      " ['1989' 'Americas' 'Canada' 'Other' '']\n",
      " ['1986' 'Americas' 'Canada' 'Wine' '1.33']\n",
      " ['1987' 'Americas' 'Canada' 'Other' '']]\n",
      "\n",
      "40\n"
     ]
    }
   ],
   "source": [
    "is_algeria_canada = (world_alcohol[:, 2] == \"Algeria\") | (world_alcohol[:, 2] == \"Canada\")\n",
    "row_is_algeria_canada = world_alcohol[is_algeria_canada]\n",
    "print(row_is_algeria_canada)\n",
    "print()\n",
    "print(row_is_algeria_canada.shape[0])"
   ]
  },
  {
   "cell_type": "code",
   "execution_count": 61,
   "metadata": {},
   "outputs": [],
   "source": [
    "world_alcohol_2 = world_alcohol.copy()"
   ]
  },
  {
   "cell_type": "code",
   "execution_count": 62,
   "metadata": {},
   "outputs": [
    {
     "name": "stdout",
     "output_type": "stream",
     "text": [
      "['1986' '1986' '1985' ... '1986' '1987' '1986']\n"
     ]
    }
   ],
   "source": [
    "print(world_alcohol_2[:, 0])"
   ]
  },
  {
   "cell_type": "code",
   "execution_count": 63,
   "metadata": {},
   "outputs": [
    {
     "name": "stdout",
     "output_type": "stream",
     "text": [
      "[['1986' 'Western Pacific' 'Viet Nam' 'Wine' '0']\n",
      " ['1986' 'Americas' 'Uruguay' 'Other' '0.5']\n",
      " ['1986' 'Americas' 'Colombia' 'Beer' '4.27']\n",
      " ...\n",
      " ['1986' 'Western Pacific' 'Fiji' 'Spirits' '0.05']\n",
      " ['1986' 'Europe' 'Switzerland' 'Spirits' '2.54']\n",
      " ['1986' 'Africa' 'Swaziland' 'Other' '5.15']]\n"
     ]
    }
   ],
   "source": [
    "print(world_alcohol_2[world_alcohol_2[:, 0] == \"1986\"])"
   ]
  },
  {
   "cell_type": "code",
   "execution_count": 64,
   "metadata": {},
   "outputs": [
    {
     "name": "stdout",
     "output_type": "stream",
     "text": [
      "['1986' '1986' '1986' '1986' '1986' '1986' '1986' '1986' '1986' '1986'\n",
      " '1986' '1986' '1986' '1986' '1986' '1986' '1986' '1986' '1986' '1986'\n",
      " '1986' '1986' '1986' '1986' '1986' '1986' '1986' '1986' '1986' '1986'\n",
      " '1986' '1986' '1986' '1986' '1986' '1986' '1986' '1986' '1986' '1986'\n",
      " '1986' '1986' '1986' '1986' '1986' '1986' '1986' '1986' '1986' '1986'\n",
      " '1986' '1986' '1986' '1986' '1986' '1986' '1986' '1986' '1986' '1986'\n",
      " '1986' '1986' '1986' '1986' '1986' '1986' '1986' '1986' '1986' '1986'\n",
      " '1986' '1986' '1986' '1986' '1986' '1986' '1986' '1986' '1986' '1986'\n",
      " '1986' '1986' '1986' '1986' '1986' '1986' '1986' '1986' '1986' '1986'\n",
      " '1986' '1986' '1986' '1986' '1986' '1986' '1986' '1986' '1986' '1986'\n",
      " '1986' '1986' '1986' '1986' '1986' '1986' '1986' '1986' '1986' '1986'\n",
      " '1986' '1986' '1986' '1986' '1986' '1986' '1986' '1986' '1986' '1986'\n",
      " '1986' '1986' '1986' '1986' '1986' '1986' '1986' '1986' '1986' '1986'\n",
      " '1986' '1986' '1986' '1986' '1986' '1986' '1986' '1986' '1986' '1986'\n",
      " '1986' '1986' '1986' '1986' '1986' '1986' '1986' '1986' '1986' '1986'\n",
      " '1986' '1986' '1986' '1986' '1986' '1986' '1986' '1986' '1986' '1986'\n",
      " '1986' '1986' '1986' '1986' '1986' '1986' '1986' '1986' '1986' '1986'\n",
      " '1986' '1986' '1986' '1986' '1986' '1986' '1986' '1986' '1986' '1986'\n",
      " '1986' '1986' '1986' '1986' '1986' '1986' '1986' '1986' '1986' '1986'\n",
      " '1986' '1986' '1986' '1986' '1986' '1986' '1986' '1986' '1986' '1986'\n",
      " '1986' '1986' '1986' '1986' '1986' '1986' '1986' '1986' '1986' '1986'\n",
      " '1986' '1986' '1986' '1986' '1986' '1986' '1986' '1986' '1986' '1986'\n",
      " '1986' '1986' '1986' '1986' '1986' '1986' '1986' '1986' '1986' '1986'\n",
      " '1986' '1986' '1986' '1986' '1986' '1986' '1986' '1986' '1986' '1986'\n",
      " '1986' '1986' '1986' '1986' '1986' '1986' '1986' '1986' '1986' '1986'\n",
      " '1986' '1986' '1986' '1986' '1986' '1986' '1986' '1986' '1986' '1986'\n",
      " '1986' '1986' '1986' '1986' '1986' '1986' '1986' '1986' '1986' '1986'\n",
      " '1986' '1986' '1986' '1986' '1986' '1986' '1986' '1986' '1986' '1986'\n",
      " '1986' '1986' '1986' '1986' '1986' '1986' '1986' '1986' '1986' '1986'\n",
      " '1986' '1986' '1986' '1986' '1986' '1986' '1986' '1986' '1986' '1986'\n",
      " '1986' '1986' '1986' '1986' '1986' '1986' '1986' '1986' '1986' '1986'\n",
      " '1986' '1986' '1986' '1986' '1986' '1986' '1986' '1986' '1986' '1986'\n",
      " '1986' '1986' '1986' '1986' '1986' '1986' '1986' '1986' '1986' '1986'\n",
      " '1986' '1986' '1986' '1986' '1986' '1986' '1986' '1986' '1986' '1986'\n",
      " '1986' '1986' '1986' '1986' '1986' '1986' '1986' '1986' '1986' '1986'\n",
      " '1986' '1986' '1986' '1986' '1986' '1986' '1986' '1986' '1986' '1986'\n",
      " '1986' '1986' '1986' '1986' '1986' '1986' '1986' '1986' '1986' '1986'\n",
      " '1986' '1986' '1986' '1986' '1986' '1986' '1986' '1986' '1986' '1986'\n",
      " '1986' '1986' '1986' '1986' '1986' '1986' '1986' '1986' '1986' '1986'\n",
      " '1986' '1986' '1986' '1986' '1986' '1986' '1986' '1986' '1986' '1986'\n",
      " '1986' '1986' '1986' '1986' '1986' '1986' '1986' '1986' '1986' '1986'\n",
      " '1986' '1986' '1986' '1986' '1986' '1986' '1986' '1986' '1986' '1986'\n",
      " '1986' '1986' '1986' '1986' '1986' '1986' '1986' '1986' '1986' '1986'\n",
      " '1986' '1986' '1986' '1986' '1986' '1986' '1986' '1986' '1986' '1986'\n",
      " '1986' '1986' '1986' '1986' '1986' '1986' '1986' '1986' '1986' '1986'\n",
      " '1986' '1986' '1986' '1986' '1986' '1986' '1986' '1986' '1986' '1986'\n",
      " '1986' '1986' '1986' '1986' '1986' '1986' '1986' '1986' '1986' '1986'\n",
      " '1986' '1986' '1986' '1986' '1986' '1986' '1986' '1986' '1986' '1986'\n",
      " '1986' '1986' '1986' '1986' '1986' '1986' '1986' '1986' '1986' '1986'\n",
      " '1986' '1986' '1986' '1986' '1986' '1986' '1986' '1986' '1986' '1986'\n",
      " '1986' '1986' '1986' '1986' '1986' '1986' '1986' '1986' '1986' '1986'\n",
      " '1986' '1986' '1986' '1986' '1986' '1986' '1986' '1986' '1986' '1986'\n",
      " '1986' '1986' '1986' '1986' '1986' '1986' '1986' '1986' '1986' '1986'\n",
      " '1986' '1986' '1986' '1986' '1986' '1986' '1986' '1986' '1986' '1986'\n",
      " '1986' '1986' '1986' '1986' '1986' '1986' '1986' '1986' '1986' '1986'\n",
      " '1986' '1986' '1986' '1986' '1986' '1986' '1986' '1986' '1986' '1986'\n",
      " '1986' '1986' '1986' '1986' '1986' '1986' '1986' '1986' '1986' '1986'\n",
      " '1986' '1986' '1986' '1986' '1986' '1986' '1986' '1986' '1986' '1986'\n",
      " '1986' '1986' '1986' '1986' '1986' '1986' '1986' '1986' '1986' '1986'\n",
      " '1986' '1986' '1986' '1986' '1986' '1986' '1986' '1986' '1986' '1986'\n",
      " '1986' '1986' '1986' '1986' '1986' '1986' '1986' '1986' '1986' '1986'\n",
      " '1986' '1986' '1986' '1986' '1986' '1986' '1986' '1986' '1986' '1986'\n",
      " '1986' '1986' '1986' '1986' '1986' '1986' '1986' '1986' '1986' '1986'\n",
      " '1986' '1986' '1986' '1986' '1986' '1986' '1986' '1986' '1986' '1986'\n",
      " '1986' '1986' '1986' '1986' '1986' '1986' '1986' '1986' '1986' '1986'\n",
      " '1986']\n"
     ]
    }
   ],
   "source": [
    "print(world_alcohol_2[:, 0][world_alcohol_2[:, 0] == \"1986\"] )"
   ]
  },
  {
   "cell_type": "code",
   "execution_count": 65,
   "metadata": {},
   "outputs": [],
   "source": [
    "masque = (world_alcohol_2[:, 0] == '1986')\n",
    "world_alcohol_2[:,0][masque] = '2018'"
   ]
  },
  {
   "cell_type": "code",
   "execution_count": 66,
   "metadata": {},
   "outputs": [
    {
     "name": "stdout",
     "output_type": "stream",
     "text": [
      "[['2018' 'Western Pacific' 'Viet Nam' 'Wine' '0']\n",
      " ['2018' 'Americas' 'Uruguay' 'Other' '0.5']\n",
      " ['1985' 'Africa' \"Cte d'Ivoire\" 'Wine' '1.62']\n",
      " ...\n",
      " ['2018' 'Europe' 'Switzerland' 'Spirits' '2.54']\n",
      " ['1987' 'Western Pacific' 'Papua New Guinea' 'Other' '0']\n",
      " ['2018' 'Africa' 'Swaziland' 'Other' '5.15']]\n"
     ]
    }
   ],
   "source": [
    "print(world_alcohol_2)"
   ]
  },
  {
   "cell_type": "code",
   "execution_count": 68,
   "metadata": {},
   "outputs": [
    {
     "name": "stdout",
     "output_type": "stream",
     "text": [
      "nombre de ligne Beer :\n",
      "651\n",
      "[['2018' 'Western Pacific' 'Viet Nam' 'Beer' '0']\n",
      " ['2018' 'Americas' 'Uruguay' 'Other' '0.5']\n",
      " ['1985' 'Africa' \"Cte d'Ivoire\" 'Beer' '1.62']\n",
      " ...\n",
      " ['2018' 'Europe' 'Switzerland' 'Spirits' '2.54']\n",
      " ['1987' 'Western Pacific' 'Papua New Guinea' 'Other' '0']\n",
      " ['2018' 'Africa' 'Swaziland' 'Other' '5.15']]\n"
     ]
    }
   ],
   "source": [
    "masque_2 = (world_alcohol_2[:, 3] == 'Wine')\n",
    "print(\"nombre de ligne Beer :\")\n",
    "print(world_alcohol_2[masque].shape[0])\n",
    "world_alcohol_2[:, 3][masque_2] = \"Beer\"\n",
    "print(world_alcohol_2)"
   ]
  },
  {
   "cell_type": "code",
   "execution_count": 70,
   "metadata": {},
   "outputs": [
    {
     "name": "stdout",
     "output_type": "stream",
     "text": [
      "[False False False ... False False False]\n"
     ]
    }
   ],
   "source": [
    "is_value_empty = (world_alcohol[:, 4] == '')\n",
    "print(is_value_empty)"
   ]
  },
  {
   "cell_type": "code",
   "execution_count": 71,
   "metadata": {},
   "outputs": [
    {
     "name": "stdout",
     "output_type": "stream",
     "text": [
      "[['1986' 'Western Pacific' 'Viet Nam' 'Wine' '0']\n",
      " ['1986' 'Americas' 'Uruguay' 'Other' '0.5']\n",
      " ['1985' 'Africa' \"Cte d'Ivoire\" 'Wine' '1.62']\n",
      " ...\n",
      " ['1986' 'Europe' 'Switzerland' 'Spirits' '2.54']\n",
      " ['1987' 'Western Pacific' 'Papua New Guinea' 'Other' '0']\n",
      " ['1986' 'Africa' 'Swaziland' 'Other' '5.15']]\n"
     ]
    }
   ],
   "source": [
    "world_alcohol[is_value_empty, 4] = 0\n",
    "print(world_alcohol)"
   ]
  },
  {
   "cell_type": "code",
   "execution_count": 74,
   "metadata": {},
   "outputs": [
    {
     "name": "stdout",
     "output_type": "stream",
     "text": [
      "[0.   0.5  1.62 ... 2.54 0.   5.15]\n"
     ]
    }
   ],
   "source": [
    "alcohol_consomation = world_alcohol[:, 4]\n",
    "alcohol_consomation = alcohol_consomation.astype(float)\n",
    "print(alcohol_consomation)"
   ]
  },
  {
   "cell_type": "code",
   "execution_count": 76,
   "metadata": {},
   "outputs": [
    {
     "name": "stdout",
     "output_type": "stream",
     "text": [
      "3908.96\n",
      "1.2001719373656738\n"
     ]
    }
   ],
   "source": [
    "total_alcohol = alcohol_consomation.sum()\n",
    "average_alcohol = alcohol_consomation.mean()\n"
   ]
  },
  {
   "cell_type": "code",
   "execution_count": 77,
   "metadata": {},
   "outputs": [
    {
     "name": "stdout",
     "output_type": "stream",
     "text": [
      "3908.96\n"
     ]
    }
   ],
   "source": [
    "print(total_alcohol)"
   ]
  },
  {
   "cell_type": "code",
   "execution_count": 78,
   "metadata": {},
   "outputs": [
    {
     "name": "stdout",
     "output_type": "stream",
     "text": [
      "1.2001719373656738\n"
     ]
    }
   ],
   "source": [
    "print(average_alcohol)"
   ]
  },
  {
   "cell_type": "code",
   "execution_count": 92,
   "metadata": {},
   "outputs": [
    {
     "name": "stdout",
     "output_type": "stream",
     "text": [
      "[['1987' 'Americas' 'Canada' 'Wine' '1.3']\n",
      " ['1987' 'Americas' 'Canada' 'Beer' '4.83']\n",
      " ['1987' 'Americas' 'Canada' 'Spirits' '2.99']\n",
      " ['1987' 'Americas' 'Canada' 'Other' '0']]\n",
      "[1.3  4.83 2.99 0.  ]\n",
      "9.120000000000001\n",
      "2.2800000000000002\n"
     ]
    }
   ],
   "source": [
    "is_canada_1987 = (world_alcohol[:, 0] == \"1987\") & (world_alcohol[:, 2] == \"Canada\")\n",
    "is_canada_1987 = world_alcohol[is_canada_1987]\n",
    "print(is_canada_1987)\n",
    "\n",
    "alcohol_consomation = is_canada_1987[:, 4]\n",
    "alcohol_consomation = alcohol_consomation.astype(float)\n",
    "print(alcohol_consomation)\n",
    "\n",
    "total_alcohol = alcohol_consomation.sum()\n",
    "average_alcohol = alcohol_consomation.mean()\n",
    "\n",
    "print(total_alcohol)\n",
    "print(average_alcohol)"
   ]
  },
  {
   "cell_type": "code",
   "execution_count": 103,
   "metadata": {},
   "outputs": [
    {
     "name": "stdout",
     "output_type": "stream",
     "text": [
      "310.02\n",
      "2.0001290322580645\n"
     ]
    }
   ],
   "source": [
    "is_americas_beer = (world_alcohol[:, 3] == \"Beer\") & (world_alcohol[:, 1] == \"Americas\")\n",
    "is_americas_beer = world_alcohol[is_americas_beer]\n",
    "\n",
    "alcohol_consomation = is_americas_beer[:, 4]\n",
    "alcohol_consomation = alcohol_consomation.astype(float)\n",
    "\n",
    "total_alcohol = alcohol_consomation.sum()\n",
    "average_alcohol = alcohol_consomation.mean()\n",
    "\n",
    "print(total_alcohol)\n",
    "print(average_alcohol)"
   ]
  },
  {
   "cell_type": "code",
   "execution_count": 2,
   "metadata": {},
   "outputs": [
    {
     "name": "stdout",
     "output_type": "stream",
     "text": [
      "******\n",
      "{'Viet Nam': 0.16, 'Uruguay': 7.4399999999999995, \"Cte d'Ivoire\": 2.2, 'Colombia': 6.960000000000001, 'Saint Kitts and Nevis': 4.65, 'Guatemala': 2.47, 'Mauritius': 3.54, 'Angola': 2.28, 'Antigua and Barbuda': 4.69, 'Nigeria': 6.74, 'Botswana': 4.63, \"Lao People's Democratic Republic\": 5.95, 'Afghanistan': 0.0, 'Guinea-Bissau': 2.67, 'Costa Rica': 5.3999999999999995, 'Seychelles': 3.3000000000000003, 'Norway': 5.08, 'Kenya': 2.82, 'Myanmar': 0.16, 'Romania': 8.41, 'Turkey': 0.72, 'Comoros': 0.10999999999999999, 'Tunisia': 0.95, 'United Kingdom of Great Britain and Northern Ireland': 9.99, 'Bahrain': 4.89, 'Italy': 10.899999999999999, 'Sierra Leone': 4.380000000000001, 'Micronesia (Federated States of)': 0.0, 'Mauritania': 0.02, 'Russian Federation': 5.35, 'Egypt': 0.42000000000000004, 'Sweden': 7.47, 'Qatar': 1.4500000000000002, 'Burkina Faso': 3.99, 'Austria': 13.9, 'Czech Republic': 13.009999999999998, 'Ukraine': 5.32, 'China': 3.33, 'Lithuania': 0.0, 'Zimbabwe': 4.92, 'Trinidad and Tobago': 4.68, 'Mexico': 5.1, 'Nicaragua': 2.5, 'Malta': 7.13, 'Switzerland': 13.849999999999998, 'Finland': 9.419999999999998, 'Saudi Arabia': 0.15, 'Kuwait': 0.0, 'El Salvador': 1.77, 'Suriname': 3.67, 'Croatia': 10.92, 'Somalia': 0.0, 'Syrian Arab Republic': 0.54, 'Iran (Islamic Republic of)': 0.0, 'Papua New Guinea': 1.1099999999999999, 'Libya': 0.0, 'Bolivia (Plurinational State of)': 3.05, 'Iraq': 0.75, 'Namibia': 0.24, 'Uganda': 7.8, 'Togo': 2.2199999999999998, 'Madagascar': 1.38, 'Mali': 0.6699999999999999, 'Pakistan': 0.02, 'Cameroon': 6.359999999999999, 'Jamaica': 3.03, 'Malawi': 1.02, 'Netherlands': 10.030000000000001, 'Ireland': 11.79, 'Sri Lanka': 0.14, 'Democratic Republic of the Congo': 1.92, 'Bahamas': 12.290000000000001, 'Lebanon': 3.94, 'Bulgaria': 11.43, 'Eritrea': 0.29, 'Niger': 0.11, 'Luxembourg': 15.21, 'Indonesia': 0.07, 'Equatorial Guinea': 6.49, \"Democratic People's Republic of Korea\": 3.6799999999999997, 'Chile': 8.649999999999999, 'Central African Republic': 2.5199999999999996, 'Spain': 13.280000000000001, 'Gambia': 1.6300000000000001, 'Ghana': 1.8599999999999999, 'Brazil': 5.52, 'Portugal': 15.350000000000001, 'Burundi': 8.159999999999998, 'Belgium': 11.61, 'Paraguay': 6.51, 'Hungary': 16.29, 'Greece': 10.15, 'India': 1.66, 'Kyrgyzstan': 4.279999999999999, 'France': 16.05, 'Zambia': 3.37, 'Israel': 2.0300000000000002, 'Swaziland': 6.68, 'Canada': 9.0, 'Cambodia': 0.33, 'Cabo Verde': 2.79, 'United Arab Emirates': 4.43, 'Peru': 4.99, 'Solomon Islands': 0.5800000000000001, 'United Republic of Tanzania': 5.9, 'Chad': 0.30000000000000004, 'Cuba': 4.37, 'Guyana': 9.940000000000001, 'Mongolia': 2.59, 'Australia': 12.09, 'Sao Tome and Principe': 2.57, 'Slovenia': 12.969999999999999, 'Benin': 1.3800000000000001, 'Algeria': 0.4, 'Venezuela (Bolivarian Republic of)': 7.87, 'Ecuador': 2.54, 'Iceland': 5.359999999999999, 'Liberia': 5.61, 'Yemen': 0.2, 'Sudan': 0.15, 'Belarus': 7.9799999999999995, 'Cyprus': 9.29, 'United States of America': 9.16, 'Vanuatu': 1.74, 'Bangladesh': 0.0, 'Philippines': 3.78, 'Slovakia': 12.700000000000001, 'Poland': 9.33, 'Senegal': 0.6100000000000001, 'Honduras': 2.15, 'Bhutan': 0.31, 'Fiji': 1.9600000000000002, 'Belize': 0.0, 'Lesotho': 2.02, 'Singapore': 1.61, 'Guinea': 0.21, 'Brunei Darussalam': 2.7800000000000002, 'Congo': 3.1500000000000004, 'Thailand': 3.92, 'Djibouti': 0.87, 'Gabon': 9.34, 'Dominican Republic': 4.53, 'Morocco': 0.7, 'New Zealand': 11.52, 'Denmark': 11.649999999999999, 'Samoa': 2.63, 'Argentina': 10.82, 'Oman': 1.03, 'Kiribati': 0.48, 'Albania': 1.73, 'Nepal': 0.03, 'Malaysia': 0.68, 'Latvia': 7.039999999999999, 'Haiti': 5.81, 'South Africa': 9.21, 'Republic of Korea': 9.620000000000001, 'Japan': 7.74, 'Mozambique': 0.39, 'Ethiopia': 0.8600000000000001, 'Panama': 4.6000000000000005, 'Germany': 14.64, 'Saint Lucia': 11.62, 'Rwanda': 7.549999999999999, 'Jordan': 0.19}\n"
     ]
    }
   ],
   "source": [
    "totals = {}\n",
    "year = world_alcohol[:, 0] == \"1989\"\n",
    "year = world_alcohol[year]\n",
    "countries = world_alcohol[:, 2:3]\n",
    "\n",
    "for i in range(countries.shape[0]):\n",
    "    country_consumption = year[:, 2] == countries[i][0]\n",
    "    country_consumption = year[country_consumption]\n",
    "    is_value_empty = (country_consumption[:, 4] == '')\n",
    "    country_consumption[is_value_empty, 4] = 0\n",
    "    alcohol_consomation = country_consumption[:, 4]\n",
    "    alcohol_consomation = alcohol_consomation.astype(float)\n",
    "    total_alcohol = alcohol_consomation.sum()\n",
    "    totals[countries[i][0]] = total_alcohol\n",
    "\n",
    "print(\"******\")\n",
    "print(totals)"
   ]
  },
  {
   "cell_type": "code",
   "execution_count": 3,
   "metadata": {},
   "outputs": [
    {
     "name": "stdout",
     "output_type": "stream",
     "text": [
      "16.29\n",
      "Hungary\n"
     ]
    }
   ],
   "source": [
    "hightest_value = 0\n",
    "hightest_key = None\n",
    "\n",
    "for cle in totals.keys():\n",
    "    if totals[cle] > hightest_value:\n",
    "        hightest_value = totals[cle]\n",
    "        hightest_key = cle\n",
    "        \n",
    "print(hightest_value)\n",
    "print(hightest_key)\n",
    "\n",
    "\n",
    "    "
   ]
  },
  {
   "cell_type": "code",
   "execution_count": 4,
   "metadata": {},
   "outputs": [
    {
     "name": "stdout",
     "output_type": "stream",
     "text": [
      "{'Viet Nam': 0.16, 'Uruguay': 7.4399999999999995, \"Cte d'Ivoire\": 2.2, 'Colombia': 6.960000000000001, 'Saint Kitts and Nevis': 4.65, 'Guatemala': 2.47, 'Mauritius': 3.54, 'Angola': 2.28, 'Antigua and Barbuda': 4.69, 'Nigeria': 6.74, 'Botswana': 4.63, \"Lao People's Democratic Republic\": 5.95, 'Afghanistan': 0.0, 'Guinea-Bissau': 2.67, 'Costa Rica': 5.3999999999999995, 'Seychelles': 3.3000000000000003, 'Norway': 5.08, 'Kenya': 2.82, 'Myanmar': 0.16, 'Romania': 8.41, 'Turkey': 0.72, 'Comoros': 0.10999999999999999, 'Tunisia': 0.95, 'United Kingdom of Great Britain and Northern Ireland': 9.99, 'Bahrain': 4.89, 'Italy': 10.899999999999999, 'Sierra Leone': 4.380000000000001, 'Micronesia (Federated States of)': 0.0, 'Mauritania': 0.02, 'Russian Federation': 5.35, 'Egypt': 0.42000000000000004, 'Sweden': 7.47, 'Qatar': 1.4500000000000002, 'Burkina Faso': 3.99, 'Austria': 13.9, 'Czech Republic': 13.009999999999998, 'Ukraine': 5.32, 'China': 3.33, 'Lithuania': 0.0, 'Zimbabwe': 4.92, 'Trinidad and Tobago': 4.68, 'Mexico': 5.1, 'Nicaragua': 2.5, 'Malta': 7.13, 'Switzerland': 13.849999999999998, 'Finland': 9.419999999999998, 'Saudi Arabia': 0.15, 'Kuwait': 0.0, 'El Salvador': 1.77, 'Suriname': 3.67, 'Croatia': 10.92, 'Somalia': 0.0, 'Syrian Arab Republic': 0.54, 'Iran (Islamic Republic of)': 0.0, 'Papua New Guinea': 1.1099999999999999, 'Libya': 0.0, 'Bolivia (Plurinational State of)': 3.05, 'Iraq': 0.75, 'Namibia': 0.24, 'Uganda': 7.8, 'Togo': 2.2199999999999998, 'Madagascar': 1.38, 'Mali': 0.6699999999999999, 'Pakistan': 0.02, 'Cameroon': 6.359999999999999, 'Jamaica': 3.03, 'Malawi': 1.02, 'Netherlands': 10.030000000000001, 'Ireland': 11.79, 'Sri Lanka': 0.14, 'Democratic Republic of the Congo': 1.92, 'Bahamas': 12.290000000000001, 'Lebanon': 3.94, 'Bulgaria': 11.43, 'Eritrea': 0.29, 'Niger': 0.11, 'Luxembourg': 15.21, 'Indonesia': 0.07, 'Equatorial Guinea': 6.49, \"Democratic People's Republic of Korea\": 3.6799999999999997, 'Chile': 8.649999999999999, 'Central African Republic': 2.5199999999999996, 'Spain': 13.280000000000001, 'Gambia': 1.6300000000000001, 'Ghana': 1.8599999999999999, 'Brazil': 5.52, 'Portugal': 15.350000000000001, 'Burundi': 8.159999999999998, 'Belgium': 11.61, 'Paraguay': 6.51, 'Hungary': 16.29, 'Greece': 10.15, 'India': 1.66, 'Kyrgyzstan': 4.279999999999999, 'France': 16.05, 'Zambia': 3.37, 'Israel': 2.0300000000000002, 'Swaziland': 6.68, 'Canada': 9.0, 'Cambodia': 0.33, 'Cabo Verde': 2.79, 'United Arab Emirates': 4.43, 'Peru': 4.99, 'Solomon Islands': 0.5800000000000001, 'United Republic of Tanzania': 5.9, 'Chad': 0.30000000000000004, 'Cuba': 4.37, 'Guyana': 9.940000000000001, 'Mongolia': 2.59, 'Australia': 12.09, 'Sao Tome and Principe': 2.57, 'Slovenia': 12.969999999999999, 'Benin': 1.3800000000000001, 'Algeria': 0.4, 'Venezuela (Bolivarian Republic of)': 7.87, 'Ecuador': 2.54, 'Iceland': 5.359999999999999, 'Liberia': 5.61, 'Yemen': 0.2, 'Sudan': 0.15, 'Belarus': 7.9799999999999995, 'Cyprus': 9.29, 'United States of America': 9.16, 'Vanuatu': 1.74, 'Bangladesh': 0.0, 'Philippines': 3.78, 'Slovakia': 12.700000000000001, 'Poland': 9.33, 'Senegal': 0.6100000000000001, 'Honduras': 2.15, 'Bhutan': 0.31, 'Fiji': 1.9600000000000002, 'Belize': 0.0, 'Lesotho': 2.02, 'Singapore': 1.61, 'Guinea': 0.21, 'Brunei Darussalam': 2.7800000000000002, 'Congo': 3.1500000000000004, 'Thailand': 3.92, 'Djibouti': 0.87, 'Gabon': 9.34, 'Dominican Republic': 4.53, 'Morocco': 0.7, 'New Zealand': 11.52, 'Denmark': 11.649999999999999, 'Samoa': 2.63, 'Argentina': 10.82, 'Oman': 1.03, 'Kiribati': 0.48, 'Albania': 1.73, 'Nepal': 0.03, 'Malaysia': 0.68, 'Latvia': 7.039999999999999, 'Haiti': 5.81, 'South Africa': 9.21, 'Republic of Korea': 9.620000000000001, 'Japan': 7.74, 'Mozambique': 0.39, 'Ethiopia': 0.8600000000000001, 'Panama': 4.6000000000000005, 'Germany': 14.64, 'Saint Lucia': 11.62, 'Rwanda': 7.549999999999999, 'Jordan': 0.19}\n"
     ]
    }
   ],
   "source": [
    "def conso_moyenne_by_year(year):\n",
    "    totals = {}\n",
    "    year_curr = world_alcohol[:, 0] == str(year)\n",
    "    year_curr = world_alcohol[year_curr]\n",
    "    countries = world_alcohol[:, 2:3]\n",
    "\n",
    "    for i in range(countries.shape[0]):\n",
    "        country_consumption = year_curr[:, 2] == countries[i][0]\n",
    "        country_consumption = year_curr[country_consumption]\n",
    "        is_value_empty = (country_consumption[:, 4] == '')\n",
    "        country_consumption[is_value_empty, 4] = 0\n",
    "        alcohol_consomation = country_consumption[:, 4]\n",
    "        alcohol_consomation = alcohol_consomation.astype(float)\n",
    "        total_alcohol = alcohol_consomation.sum()\n",
    "        totals[countries[i][0]] = total_alcohol\n",
    "\n",
    "    return totals\n",
    "\n",
    "\n",
    "print(conso_moyenne_by_year(\"1989\"))"
   ]
  },
  {
   "cell_type": "code",
   "execution_count": null,
   "metadata": {},
   "outputs": [],
   "source": []
  }
 ],
 "metadata": {
  "kernelspec": {
   "display_name": "Python 3",
   "language": "python",
   "name": "python3"
  },
  "language_info": {
   "codemirror_mode": {
    "name": "ipython",
    "version": 3
   },
   "file_extension": ".py",
   "mimetype": "text/x-python",
   "name": "python",
   "nbconvert_exporter": "python",
   "pygments_lexer": "ipython3",
   "version": "3.8.5"
  }
 },
 "nbformat": 4,
 "nbformat_minor": 4
}
